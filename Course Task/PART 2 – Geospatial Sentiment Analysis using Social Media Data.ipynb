{
 "cells": [
  {
   "cell_type": "markdown",
   "metadata": {},
   "source": [
    "# Task 2.1: Data Pre-processing"
   ]
  },
  {
   "cell_type": "code",
   "execution_count": 9,
   "metadata": {},
   "outputs": [],
   "source": [
    "# Import the Pandas library and assign it the alias 'pd'\n",
    "import pandas as pd\n",
    "\n",
    "# Import the Matplotlib library and assign it the alias 'plt'\n",
    "import matplotlib.pyplot as plt\n",
    "\n",
    "# Import the TextBlob library\n",
    "# TextBlob is a natural language processing library that can be used for tasks such as sentiment analysis\n",
    "from textblob import TextBlob\n",
    "\n",
    "# Import the Nominatim geocoding service from the geopy.geocoders library\n",
    "from geopy.geocoders import Nominatim\n",
    "\n",
    "# Import the RateLimiter function from the geopy.extra.rate_limiter library\n",
    "from geopy.extra.rate_limiter import RateLimiter\n",
    "\n",
    "# Import the regular expression module\n",
    "import re"
   ]
  },
  {
   "cell_type": "code",
   "execution_count": 10,
   "metadata": {},
   "outputs": [
    {
     "data": {
      "text/html": [
       "<div>\n",
       "<style scoped>\n",
       "    .dataframe tbody tr th:only-of-type {\n",
       "        vertical-align: middle;\n",
       "    }\n",
       "\n",
       "    .dataframe tbody tr th {\n",
       "        vertical-align: top;\n",
       "    }\n",
       "\n",
       "    .dataframe thead th {\n",
       "        text-align: right;\n",
       "    }\n",
       "</style>\n",
       "<table border=\"1\" class=\"dataframe\">\n",
       "  <thead>\n",
       "    <tr style=\"text-align: right;\">\n",
       "      <th></th>\n",
       "      <th>user_name</th>\n",
       "      <th>user_location</th>\n",
       "      <th>user_description</th>\n",
       "      <th>user_created</th>\n",
       "      <th>user_followers</th>\n",
       "      <th>user_friends</th>\n",
       "      <th>user_favourites</th>\n",
       "      <th>user_verified</th>\n",
       "      <th>date</th>\n",
       "      <th>text</th>\n",
       "      <th>hashtags</th>\n",
       "      <th>source</th>\n",
       "      <th>is_retweet</th>\n",
       "    </tr>\n",
       "  </thead>\n",
       "  <tbody>\n",
       "    <tr>\n",
       "      <th>0</th>\n",
       "      <td>ᏉᎥ☻լꂅϮ</td>\n",
       "      <td>astroworld</td>\n",
       "      <td>wednesday addams as a disney princess keepin i...</td>\n",
       "      <td>2017-05-26 05:46:42</td>\n",
       "      <td>624</td>\n",
       "      <td>950</td>\n",
       "      <td>18775</td>\n",
       "      <td>False</td>\n",
       "      <td>2020-07-25 12:27:21</td>\n",
       "      <td>If I smelled the scent of hand sanitizers toda...</td>\n",
       "      <td>NaN</td>\n",
       "      <td>Twitter for iPhone</td>\n",
       "      <td>False</td>\n",
       "    </tr>\n",
       "    <tr>\n",
       "      <th>1</th>\n",
       "      <td>Tom Basile 🇺🇸</td>\n",
       "      <td>New York, NY</td>\n",
       "      <td>Husband, Father, Columnist &amp; Commentator. Auth...</td>\n",
       "      <td>2009-04-16 20:06:23</td>\n",
       "      <td>2253</td>\n",
       "      <td>1677</td>\n",
       "      <td>24</td>\n",
       "      <td>True</td>\n",
       "      <td>2020-07-25 12:27:17</td>\n",
       "      <td>Hey @Yankees @YankeesPR and @MLB - wouldn't it...</td>\n",
       "      <td>NaN</td>\n",
       "      <td>Twitter for Android</td>\n",
       "      <td>False</td>\n",
       "    </tr>\n",
       "    <tr>\n",
       "      <th>2</th>\n",
       "      <td>Time4fisticuffs</td>\n",
       "      <td>Pewee Valley, KY</td>\n",
       "      <td>#Christian #Catholic #Conservative #Reagan #Re...</td>\n",
       "      <td>2009-02-28 18:57:41</td>\n",
       "      <td>9275</td>\n",
       "      <td>9525</td>\n",
       "      <td>7254</td>\n",
       "      <td>False</td>\n",
       "      <td>2020-07-25 12:27:14</td>\n",
       "      <td>@diane3443 @wdunlap @realDonaldTrump Trump nev...</td>\n",
       "      <td>['COVID19']</td>\n",
       "      <td>Twitter for Android</td>\n",
       "      <td>False</td>\n",
       "    </tr>\n",
       "    <tr>\n",
       "      <th>3</th>\n",
       "      <td>ethel mertz</td>\n",
       "      <td>Stuck in the Middle</td>\n",
       "      <td>#Browns #Indians #ClevelandProud #[]_[] #Cavs ...</td>\n",
       "      <td>2019-03-07 01:45:06</td>\n",
       "      <td>197</td>\n",
       "      <td>987</td>\n",
       "      <td>1488</td>\n",
       "      <td>False</td>\n",
       "      <td>2020-07-25 12:27:10</td>\n",
       "      <td>@brookbanktv The one gift #COVID19 has give me...</td>\n",
       "      <td>['COVID19']</td>\n",
       "      <td>Twitter for iPhone</td>\n",
       "      <td>False</td>\n",
       "    </tr>\n",
       "    <tr>\n",
       "      <th>4</th>\n",
       "      <td>DIPR-J&amp;K</td>\n",
       "      <td>Jammu and Kashmir</td>\n",
       "      <td>🖊️Official Twitter handle of Department of Inf...</td>\n",
       "      <td>2017-02-12 06:45:15</td>\n",
       "      <td>101009</td>\n",
       "      <td>168</td>\n",
       "      <td>101</td>\n",
       "      <td>False</td>\n",
       "      <td>2020-07-25 12:27:08</td>\n",
       "      <td>25 July : Media Bulletin on Novel #CoronaVirus...</td>\n",
       "      <td>['CoronaVirusUpdates', 'COVID19']</td>\n",
       "      <td>Twitter for Android</td>\n",
       "      <td>False</td>\n",
       "    </tr>\n",
       "    <tr>\n",
       "      <th>...</th>\n",
       "      <td>...</td>\n",
       "      <td>...</td>\n",
       "      <td>...</td>\n",
       "      <td>...</td>\n",
       "      <td>...</td>\n",
       "      <td>...</td>\n",
       "      <td>...</td>\n",
       "      <td>...</td>\n",
       "      <td>...</td>\n",
       "      <td>...</td>\n",
       "      <td>...</td>\n",
       "      <td>...</td>\n",
       "      <td>...</td>\n",
       "    </tr>\n",
       "    <tr>\n",
       "      <th>179103</th>\n",
       "      <td>AJIMATI AbdulRahman O.</td>\n",
       "      <td>Ilorin, Nigeria</td>\n",
       "      <td>Animal Scientist|| Muslim|| Real Madrid/Chelsea</td>\n",
       "      <td>2013-12-30 18:59:19</td>\n",
       "      <td>412</td>\n",
       "      <td>1609</td>\n",
       "      <td>1062</td>\n",
       "      <td>False</td>\n",
       "      <td>2020-08-29 19:44:21</td>\n",
       "      <td>Thanks @IamOhmai for nominating me for the @WH...</td>\n",
       "      <td>['WearAMask']</td>\n",
       "      <td>Twitter for Android</td>\n",
       "      <td>False</td>\n",
       "    </tr>\n",
       "    <tr>\n",
       "      <th>179104</th>\n",
       "      <td>Jason</td>\n",
       "      <td>Ontario</td>\n",
       "      <td>When your cat has more baking soda than Ninja ...</td>\n",
       "      <td>2011-12-21 04:41:30</td>\n",
       "      <td>150</td>\n",
       "      <td>182</td>\n",
       "      <td>7295</td>\n",
       "      <td>False</td>\n",
       "      <td>2020-08-29 19:44:16</td>\n",
       "      <td>2020! The year of insanity! Lol! #COVID19 http...</td>\n",
       "      <td>['COVID19']</td>\n",
       "      <td>Twitter for Android</td>\n",
       "      <td>False</td>\n",
       "    </tr>\n",
       "    <tr>\n",
       "      <th>179105</th>\n",
       "      <td>BEEHEMOTH ⏳</td>\n",
       "      <td>🇨🇦 Canada</td>\n",
       "      <td>⚒️ The Architects of Free Trade ⚒️ Really Did ...</td>\n",
       "      <td>2016-07-13 17:21:59</td>\n",
       "      <td>1623</td>\n",
       "      <td>2160</td>\n",
       "      <td>98000</td>\n",
       "      <td>False</td>\n",
       "      <td>2020-08-29 19:44:15</td>\n",
       "      <td>@CTVNews A powerful painting by Juan Lucena. I...</td>\n",
       "      <td>NaN</td>\n",
       "      <td>Twitter Web App</td>\n",
       "      <td>False</td>\n",
       "    </tr>\n",
       "    <tr>\n",
       "      <th>179106</th>\n",
       "      <td>Gary DelPonte</td>\n",
       "      <td>New York City</td>\n",
       "      <td>Global UX UI Visual Designer. StoryTeller, Mus...</td>\n",
       "      <td>2009-10-27 17:43:13</td>\n",
       "      <td>1338</td>\n",
       "      <td>1111</td>\n",
       "      <td>0</td>\n",
       "      <td>False</td>\n",
       "      <td>2020-08-29 19:44:14</td>\n",
       "      <td>More than 1,200 students test positive for #CO...</td>\n",
       "      <td>['COVID19']</td>\n",
       "      <td>Twitter for iPhone</td>\n",
       "      <td>False</td>\n",
       "    </tr>\n",
       "    <tr>\n",
       "      <th>179107</th>\n",
       "      <td>TUKY II</td>\n",
       "      <td>Aliwal North, South Africa</td>\n",
       "      <td>TOKELO SEKHOPA | TUKY II | LAST BORN | EISH TU...</td>\n",
       "      <td>2018-04-14 17:30:07</td>\n",
       "      <td>97</td>\n",
       "      <td>1697</td>\n",
       "      <td>566</td>\n",
       "      <td>False</td>\n",
       "      <td>2020-08-29 19:44:08</td>\n",
       "      <td>I stop when I see a Stop\\n\\n@SABCNews\\n@Izinda...</td>\n",
       "      <td>NaN</td>\n",
       "      <td>Twitter for Android</td>\n",
       "      <td>False</td>\n",
       "    </tr>\n",
       "  </tbody>\n",
       "</table>\n",
       "<p>179108 rows × 13 columns</p>\n",
       "</div>"
      ],
      "text/plain": [
       "                     user_name               user_location  \\\n",
       "0                       ᏉᎥ☻լꂅϮ                  astroworld   \n",
       "1                Tom Basile 🇺🇸                New York, NY   \n",
       "2              Time4fisticuffs            Pewee Valley, KY   \n",
       "3                  ethel mertz        Stuck in the Middle    \n",
       "4                     DIPR-J&K           Jammu and Kashmir   \n",
       "...                        ...                         ...   \n",
       "179103  AJIMATI AbdulRahman O.             Ilorin, Nigeria   \n",
       "179104                   Jason                     Ontario   \n",
       "179105             BEEHEMOTH ⏳                   🇨🇦 Canada   \n",
       "179106           Gary DelPonte               New York City   \n",
       "179107                 TUKY II  Aliwal North, South Africa   \n",
       "\n",
       "                                         user_description  \\\n",
       "0       wednesday addams as a disney princess keepin i...   \n",
       "1       Husband, Father, Columnist & Commentator. Auth...   \n",
       "2       #Christian #Catholic #Conservative #Reagan #Re...   \n",
       "3       #Browns #Indians #ClevelandProud #[]_[] #Cavs ...   \n",
       "4       🖊️Official Twitter handle of Department of Inf...   \n",
       "...                                                   ...   \n",
       "179103    Animal Scientist|| Muslim|| Real Madrid/Chelsea   \n",
       "179104  When your cat has more baking soda than Ninja ...   \n",
       "179105  ⚒️ The Architects of Free Trade ⚒️ Really Did ...   \n",
       "179106  Global UX UI Visual Designer. StoryTeller, Mus...   \n",
       "179107  TOKELO SEKHOPA | TUKY II | LAST BORN | EISH TU...   \n",
       "\n",
       "               user_created  user_followers  user_friends  user_favourites  \\\n",
       "0       2017-05-26 05:46:42             624           950            18775   \n",
       "1       2009-04-16 20:06:23            2253          1677               24   \n",
       "2       2009-02-28 18:57:41            9275          9525             7254   \n",
       "3       2019-03-07 01:45:06             197           987             1488   \n",
       "4       2017-02-12 06:45:15          101009           168              101   \n",
       "...                     ...             ...           ...              ...   \n",
       "179103  2013-12-30 18:59:19             412          1609             1062   \n",
       "179104  2011-12-21 04:41:30             150           182             7295   \n",
       "179105  2016-07-13 17:21:59            1623          2160            98000   \n",
       "179106  2009-10-27 17:43:13            1338          1111                0   \n",
       "179107  2018-04-14 17:30:07              97          1697              566   \n",
       "\n",
       "        user_verified                 date  \\\n",
       "0               False  2020-07-25 12:27:21   \n",
       "1                True  2020-07-25 12:27:17   \n",
       "2               False  2020-07-25 12:27:14   \n",
       "3               False  2020-07-25 12:27:10   \n",
       "4               False  2020-07-25 12:27:08   \n",
       "...               ...                  ...   \n",
       "179103          False  2020-08-29 19:44:21   \n",
       "179104          False  2020-08-29 19:44:16   \n",
       "179105          False  2020-08-29 19:44:15   \n",
       "179106          False  2020-08-29 19:44:14   \n",
       "179107          False  2020-08-29 19:44:08   \n",
       "\n",
       "                                                     text  \\\n",
       "0       If I smelled the scent of hand sanitizers toda...   \n",
       "1       Hey @Yankees @YankeesPR and @MLB - wouldn't it...   \n",
       "2       @diane3443 @wdunlap @realDonaldTrump Trump nev...   \n",
       "3       @brookbanktv The one gift #COVID19 has give me...   \n",
       "4       25 July : Media Bulletin on Novel #CoronaVirus...   \n",
       "...                                                   ...   \n",
       "179103  Thanks @IamOhmai for nominating me for the @WH...   \n",
       "179104  2020! The year of insanity! Lol! #COVID19 http...   \n",
       "179105  @CTVNews A powerful painting by Juan Lucena. I...   \n",
       "179106  More than 1,200 students test positive for #CO...   \n",
       "179107  I stop when I see a Stop\\n\\n@SABCNews\\n@Izinda...   \n",
       "\n",
       "                                 hashtags               source  is_retweet  \n",
       "0                                     NaN   Twitter for iPhone       False  \n",
       "1                                     NaN  Twitter for Android       False  \n",
       "2                             ['COVID19']  Twitter for Android       False  \n",
       "3                             ['COVID19']   Twitter for iPhone       False  \n",
       "4       ['CoronaVirusUpdates', 'COVID19']  Twitter for Android       False  \n",
       "...                                   ...                  ...         ...  \n",
       "179103                      ['WearAMask']  Twitter for Android       False  \n",
       "179104                        ['COVID19']  Twitter for Android       False  \n",
       "179105                                NaN      Twitter Web App       False  \n",
       "179106                        ['COVID19']   Twitter for iPhone       False  \n",
       "179107                                NaN  Twitter for Android       False  \n",
       "\n",
       "[179108 rows x 13 columns]"
      ]
     },
     "execution_count": 10,
     "metadata": {},
     "output_type": "execute_result"
    }
   ],
   "source": [
    "# Import the Pandas library and assign it the alias 'pd'\n",
    "import pandas as pd\n",
    "\n",
    "# Read the CSV file 'covid19_tweets.csv' into a Pandas DataFrame named 'df'\n",
    "# The DataFrame will contain all the data from the CSV file\n",
    "df = pd.read_csv('covid19_tweets.csv')\n",
    "\n",
    "# Display the DataFrame 'df' in the notebook\n",
    "df"
   ]
  },
  {
   "cell_type": "code",
   "execution_count": 11,
   "metadata": {},
   "outputs": [
    {
     "name": "stdout",
     "output_type": "stream",
     "text": [
      "<class 'pandas.core.frame.DataFrame'>\n",
      "RangeIndex: 179108 entries, 0 to 179107\n",
      "Data columns (total 13 columns):\n",
      " #   Column            Non-Null Count   Dtype \n",
      "---  ------            --------------   ----- \n",
      " 0   user_name         179108 non-null  object\n",
      " 1   user_location     142337 non-null  object\n",
      " 2   user_description  168822 non-null  object\n",
      " 3   user_created      179108 non-null  object\n",
      " 4   user_followers    179108 non-null  int64 \n",
      " 5   user_friends      179108 non-null  int64 \n",
      " 6   user_favourites   179108 non-null  int64 \n",
      " 7   user_verified     179108 non-null  bool  \n",
      " 8   date              179108 non-null  object\n",
      " 9   text              179108 non-null  object\n",
      " 10  hashtags          127774 non-null  object\n",
      " 11  source            179031 non-null  object\n",
      " 12  is_retweet        179108 non-null  bool  \n",
      "dtypes: bool(2), int64(3), object(8)\n",
      "memory usage: 15.4+ MB\n"
     ]
    }
   ],
   "source": [
    "# Display information about the DataFrame 'df'\n",
    "# This includes the number of rows and columns, the data type of each column, and the amount of memory used by the DataFrame\n",
    "df.info()"
   ]
  },
  {
   "cell_type": "code",
   "execution_count": 12,
   "metadata": {},
   "outputs": [
    {
     "data": {
      "text/html": [
       "<div>\n",
       "<style scoped>\n",
       "    .dataframe tbody tr th:only-of-type {\n",
       "        vertical-align: middle;\n",
       "    }\n",
       "\n",
       "    .dataframe tbody tr th {\n",
       "        vertical-align: top;\n",
       "    }\n",
       "\n",
       "    .dataframe thead th {\n",
       "        text-align: right;\n",
       "    }\n",
       "</style>\n",
       "<table border=\"1\" class=\"dataframe\">\n",
       "  <thead>\n",
       "    <tr style=\"text-align: right;\">\n",
       "      <th></th>\n",
       "      <th>user_name</th>\n",
       "      <th>user_location</th>\n",
       "      <th>user_description</th>\n",
       "      <th>user_created</th>\n",
       "      <th>user_followers</th>\n",
       "      <th>user_friends</th>\n",
       "      <th>user_favourites</th>\n",
       "      <th>user_verified</th>\n",
       "      <th>date</th>\n",
       "      <th>text</th>\n",
       "      <th>hashtags</th>\n",
       "      <th>source</th>\n",
       "      <th>is_retweet</th>\n",
       "    </tr>\n",
       "  </thead>\n",
       "  <tbody>\n",
       "    <tr>\n",
       "      <th>2</th>\n",
       "      <td>Time4fisticuffs</td>\n",
       "      <td>Pewee Valley, KY</td>\n",
       "      <td>#Christian #Catholic #Conservative #Reagan #Re...</td>\n",
       "      <td>2009-02-28 18:57:41</td>\n",
       "      <td>9275</td>\n",
       "      <td>9525</td>\n",
       "      <td>7254</td>\n",
       "      <td>False</td>\n",
       "      <td>2020-07-25 12:27:14</td>\n",
       "      <td>@diane3443 @wdunlap @realDonaldTrump Trump nev...</td>\n",
       "      <td>['COVID19']</td>\n",
       "      <td>Twitter for Android</td>\n",
       "      <td>False</td>\n",
       "    </tr>\n",
       "    <tr>\n",
       "      <th>3</th>\n",
       "      <td>ethel mertz</td>\n",
       "      <td>Stuck in the Middle</td>\n",
       "      <td>#Browns #Indians #ClevelandProud #[]_[] #Cavs ...</td>\n",
       "      <td>2019-03-07 01:45:06</td>\n",
       "      <td>197</td>\n",
       "      <td>987</td>\n",
       "      <td>1488</td>\n",
       "      <td>False</td>\n",
       "      <td>2020-07-25 12:27:10</td>\n",
       "      <td>@brookbanktv The one gift #COVID19 has give me...</td>\n",
       "      <td>['COVID19']</td>\n",
       "      <td>Twitter for iPhone</td>\n",
       "      <td>False</td>\n",
       "    </tr>\n",
       "    <tr>\n",
       "      <th>4</th>\n",
       "      <td>DIPR-J&amp;K</td>\n",
       "      <td>Jammu and Kashmir</td>\n",
       "      <td>🖊️Official Twitter handle of Department of Inf...</td>\n",
       "      <td>2017-02-12 06:45:15</td>\n",
       "      <td>101009</td>\n",
       "      <td>168</td>\n",
       "      <td>101</td>\n",
       "      <td>False</td>\n",
       "      <td>2020-07-25 12:27:08</td>\n",
       "      <td>25 July : Media Bulletin on Novel #CoronaVirus...</td>\n",
       "      <td>['CoronaVirusUpdates', 'COVID19']</td>\n",
       "      <td>Twitter for Android</td>\n",
       "      <td>False</td>\n",
       "    </tr>\n",
       "    <tr>\n",
       "      <th>5</th>\n",
       "      <td>🎹 Franz Schubert</td>\n",
       "      <td>Новоро́ссия</td>\n",
       "      <td>🎼  #Новоро́ссия #Novorossiya #оставайсядома #S...</td>\n",
       "      <td>2018-03-19 16:29:52</td>\n",
       "      <td>1180</td>\n",
       "      <td>1071</td>\n",
       "      <td>1287</td>\n",
       "      <td>False</td>\n",
       "      <td>2020-07-25 12:27:06</td>\n",
       "      <td>#coronavirus #covid19 deaths continue to rise....</td>\n",
       "      <td>['coronavirus', 'covid19']</td>\n",
       "      <td>Twitter Web App</td>\n",
       "      <td>False</td>\n",
       "    </tr>\n",
       "    <tr>\n",
       "      <th>6</th>\n",
       "      <td>hr bartender</td>\n",
       "      <td>Gainesville, FL</td>\n",
       "      <td>Workplace tips and advice served up in a frien...</td>\n",
       "      <td>2008-08-12 18:19:49</td>\n",
       "      <td>79956</td>\n",
       "      <td>54810</td>\n",
       "      <td>3801</td>\n",
       "      <td>False</td>\n",
       "      <td>2020-07-25 12:27:03</td>\n",
       "      <td>How #COVID19 Will Change Work in General (and ...</td>\n",
       "      <td>['COVID19', 'Recruiting']</td>\n",
       "      <td>Buffer</td>\n",
       "      <td>False</td>\n",
       "    </tr>\n",
       "    <tr>\n",
       "      <th>...</th>\n",
       "      <td>...</td>\n",
       "      <td>...</td>\n",
       "      <td>...</td>\n",
       "      <td>...</td>\n",
       "      <td>...</td>\n",
       "      <td>...</td>\n",
       "      <td>...</td>\n",
       "      <td>...</td>\n",
       "      <td>...</td>\n",
       "      <td>...</td>\n",
       "      <td>...</td>\n",
       "      <td>...</td>\n",
       "      <td>...</td>\n",
       "    </tr>\n",
       "    <tr>\n",
       "      <th>179101</th>\n",
       "      <td>New Jersey Herald</td>\n",
       "      <td>Newton, NJ</td>\n",
       "      <td>The New Jersey Herald, a daily newspaper in Ne...</td>\n",
       "      <td>2010-01-07 18:19:37</td>\n",
       "      <td>6274</td>\n",
       "      <td>162</td>\n",
       "      <td>38</td>\n",
       "      <td>False</td>\n",
       "      <td>2020-08-29 19:44:27</td>\n",
       "      <td>Wallkill school nurse adds COVID-19 monitoring...</td>\n",
       "      <td>['nurses', 'COVID19', 'coronavirus', 'schools']</td>\n",
       "      <td>SocialNewsDesk</td>\n",
       "      <td>False</td>\n",
       "    </tr>\n",
       "    <tr>\n",
       "      <th>179102</th>\n",
       "      <td>Pris</td>\n",
       "      <td>T.O.</td>\n",
       "      <td>A/V/L Techie, camera op. but twitter has becom...</td>\n",
       "      <td>2008-12-31 16:16:12</td>\n",
       "      <td>251</td>\n",
       "      <td>160</td>\n",
       "      <td>627</td>\n",
       "      <td>False</td>\n",
       "      <td>2020-08-29 19:44:23</td>\n",
       "      <td>we have reached 25mil cases of #covid19, world...</td>\n",
       "      <td>['covid19']</td>\n",
       "      <td>Twitter Web App</td>\n",
       "      <td>False</td>\n",
       "    </tr>\n",
       "    <tr>\n",
       "      <th>179103</th>\n",
       "      <td>AJIMATI AbdulRahman O.</td>\n",
       "      <td>Ilorin, Nigeria</td>\n",
       "      <td>Animal Scientist|| Muslim|| Real Madrid/Chelsea</td>\n",
       "      <td>2013-12-30 18:59:19</td>\n",
       "      <td>412</td>\n",
       "      <td>1609</td>\n",
       "      <td>1062</td>\n",
       "      <td>False</td>\n",
       "      <td>2020-08-29 19:44:21</td>\n",
       "      <td>Thanks @IamOhmai for nominating me for the @WH...</td>\n",
       "      <td>['WearAMask']</td>\n",
       "      <td>Twitter for Android</td>\n",
       "      <td>False</td>\n",
       "    </tr>\n",
       "    <tr>\n",
       "      <th>179104</th>\n",
       "      <td>Jason</td>\n",
       "      <td>Ontario</td>\n",
       "      <td>When your cat has more baking soda than Ninja ...</td>\n",
       "      <td>2011-12-21 04:41:30</td>\n",
       "      <td>150</td>\n",
       "      <td>182</td>\n",
       "      <td>7295</td>\n",
       "      <td>False</td>\n",
       "      <td>2020-08-29 19:44:16</td>\n",
       "      <td>2020! The year of insanity! Lol! #COVID19 http...</td>\n",
       "      <td>['COVID19']</td>\n",
       "      <td>Twitter for Android</td>\n",
       "      <td>False</td>\n",
       "    </tr>\n",
       "    <tr>\n",
       "      <th>179106</th>\n",
       "      <td>Gary DelPonte</td>\n",
       "      <td>New York City</td>\n",
       "      <td>Global UX UI Visual Designer. StoryTeller, Mus...</td>\n",
       "      <td>2009-10-27 17:43:13</td>\n",
       "      <td>1338</td>\n",
       "      <td>1111</td>\n",
       "      <td>0</td>\n",
       "      <td>False</td>\n",
       "      <td>2020-08-29 19:44:14</td>\n",
       "      <td>More than 1,200 students test positive for #CO...</td>\n",
       "      <td>['COVID19']</td>\n",
       "      <td>Twitter for iPhone</td>\n",
       "      <td>False</td>\n",
       "    </tr>\n",
       "  </tbody>\n",
       "</table>\n",
       "<p>99138 rows × 13 columns</p>\n",
       "</div>"
      ],
      "text/plain": [
       "                     user_name         user_location  \\\n",
       "2              Time4fisticuffs      Pewee Valley, KY   \n",
       "3                  ethel mertz  Stuck in the Middle    \n",
       "4                     DIPR-J&K     Jammu and Kashmir   \n",
       "5             🎹 Franz Schubert           Новоро́ссия   \n",
       "6                 hr bartender       Gainesville, FL   \n",
       "...                        ...                   ...   \n",
       "179101       New Jersey Herald            Newton, NJ   \n",
       "179102                    Pris                  T.O.   \n",
       "179103  AJIMATI AbdulRahman O.       Ilorin, Nigeria   \n",
       "179104                   Jason               Ontario   \n",
       "179106           Gary DelPonte         New York City   \n",
       "\n",
       "                                         user_description  \\\n",
       "2       #Christian #Catholic #Conservative #Reagan #Re...   \n",
       "3       #Browns #Indians #ClevelandProud #[]_[] #Cavs ...   \n",
       "4       🖊️Official Twitter handle of Department of Inf...   \n",
       "5       🎼  #Новоро́ссия #Novorossiya #оставайсядома #S...   \n",
       "6       Workplace tips and advice served up in a frien...   \n",
       "...                                                   ...   \n",
       "179101  The New Jersey Herald, a daily newspaper in Ne...   \n",
       "179102  A/V/L Techie, camera op. but twitter has becom...   \n",
       "179103    Animal Scientist|| Muslim|| Real Madrid/Chelsea   \n",
       "179104  When your cat has more baking soda than Ninja ...   \n",
       "179106  Global UX UI Visual Designer. StoryTeller, Mus...   \n",
       "\n",
       "               user_created  user_followers  user_friends  user_favourites  \\\n",
       "2       2009-02-28 18:57:41            9275          9525             7254   \n",
       "3       2019-03-07 01:45:06             197           987             1488   \n",
       "4       2017-02-12 06:45:15          101009           168              101   \n",
       "5       2018-03-19 16:29:52            1180          1071             1287   \n",
       "6       2008-08-12 18:19:49           79956         54810             3801   \n",
       "...                     ...             ...           ...              ...   \n",
       "179101  2010-01-07 18:19:37            6274           162               38   \n",
       "179102  2008-12-31 16:16:12             251           160              627   \n",
       "179103  2013-12-30 18:59:19             412          1609             1062   \n",
       "179104  2011-12-21 04:41:30             150           182             7295   \n",
       "179106  2009-10-27 17:43:13            1338          1111                0   \n",
       "\n",
       "        user_verified                 date  \\\n",
       "2               False  2020-07-25 12:27:14   \n",
       "3               False  2020-07-25 12:27:10   \n",
       "4               False  2020-07-25 12:27:08   \n",
       "5               False  2020-07-25 12:27:06   \n",
       "6               False  2020-07-25 12:27:03   \n",
       "...               ...                  ...   \n",
       "179101          False  2020-08-29 19:44:27   \n",
       "179102          False  2020-08-29 19:44:23   \n",
       "179103          False  2020-08-29 19:44:21   \n",
       "179104          False  2020-08-29 19:44:16   \n",
       "179106          False  2020-08-29 19:44:14   \n",
       "\n",
       "                                                     text  \\\n",
       "2       @diane3443 @wdunlap @realDonaldTrump Trump nev...   \n",
       "3       @brookbanktv The one gift #COVID19 has give me...   \n",
       "4       25 July : Media Bulletin on Novel #CoronaVirus...   \n",
       "5       #coronavirus #covid19 deaths continue to rise....   \n",
       "6       How #COVID19 Will Change Work in General (and ...   \n",
       "...                                                   ...   \n",
       "179101  Wallkill school nurse adds COVID-19 monitoring...   \n",
       "179102  we have reached 25mil cases of #covid19, world...   \n",
       "179103  Thanks @IamOhmai for nominating me for the @WH...   \n",
       "179104  2020! The year of insanity! Lol! #COVID19 http...   \n",
       "179106  More than 1,200 students test positive for #CO...   \n",
       "\n",
       "                                               hashtags               source  \\\n",
       "2                                           ['COVID19']  Twitter for Android   \n",
       "3                                           ['COVID19']   Twitter for iPhone   \n",
       "4                     ['CoronaVirusUpdates', 'COVID19']  Twitter for Android   \n",
       "5                            ['coronavirus', 'covid19']      Twitter Web App   \n",
       "6                             ['COVID19', 'Recruiting']               Buffer   \n",
       "...                                                 ...                  ...   \n",
       "179101  ['nurses', 'COVID19', 'coronavirus', 'schools']       SocialNewsDesk   \n",
       "179102                                      ['covid19']      Twitter Web App   \n",
       "179103                                    ['WearAMask']  Twitter for Android   \n",
       "179104                                      ['COVID19']  Twitter for Android   \n",
       "179106                                      ['COVID19']   Twitter for iPhone   \n",
       "\n",
       "        is_retweet  \n",
       "2            False  \n",
       "3            False  \n",
       "4            False  \n",
       "5            False  \n",
       "6            False  \n",
       "...            ...  \n",
       "179101       False  \n",
       "179102       False  \n",
       "179103       False  \n",
       "179104       False  \n",
       "179106       False  \n",
       "\n",
       "[99138 rows x 13 columns]"
      ]
     },
     "execution_count": 12,
     "metadata": {},
     "output_type": "execute_result"
    }
   ],
   "source": [
    "# Remove any rows from the DataFrame 'df' that contain missing values (NaN)\n",
    "df = df.dropna()\n",
    "\n",
    "# Display the modified DataFrame 'df' in the notebook\n",
    "df"
   ]
  },
  {
   "cell_type": "code",
   "execution_count": 13,
   "metadata": {},
   "outputs": [
    {
     "data": {
      "text/plain": [
       "(99138, 13)"
      ]
     },
     "execution_count": 13,
     "metadata": {},
     "output_type": "execute_result"
    }
   ],
   "source": [
    "# Display the dimensions of the DataFrame 'df'\n",
    "# This includes the number of rows and columns in the DataFrame\n",
    "df.shape\n"
   ]
  },
  {
   "cell_type": "code",
   "execution_count": 14,
   "metadata": {},
   "outputs": [
    {
     "data": {
      "text/html": [
       "<div>\n",
       "<style scoped>\n",
       "    .dataframe tbody tr th:only-of-type {\n",
       "        vertical-align: middle;\n",
       "    }\n",
       "\n",
       "    .dataframe tbody tr th {\n",
       "        vertical-align: top;\n",
       "    }\n",
       "\n",
       "    .dataframe thead th {\n",
       "        text-align: right;\n",
       "    }\n",
       "</style>\n",
       "<table border=\"1\" class=\"dataframe\">\n",
       "  <thead>\n",
       "    <tr style=\"text-align: right;\">\n",
       "      <th></th>\n",
       "      <th>user_name</th>\n",
       "      <th>user_location</th>\n",
       "      <th>user_description</th>\n",
       "      <th>user_created</th>\n",
       "      <th>user_followers</th>\n",
       "      <th>user_friends</th>\n",
       "      <th>user_favourites</th>\n",
       "      <th>user_verified</th>\n",
       "      <th>date</th>\n",
       "      <th>text</th>\n",
       "      <th>hashtags</th>\n",
       "      <th>source</th>\n",
       "      <th>is_retweet</th>\n",
       "    </tr>\n",
       "  </thead>\n",
       "  <tbody>\n",
       "    <tr>\n",
       "      <th>112002</th>\n",
       "      <td>Luca</td>\n",
       "      <td>Milano, Lombardia</td>\n",
       "      <td>Sub Bass Connoisseur 👌</td>\n",
       "      <td>2019-11-23 18:00:09</td>\n",
       "      <td>225</td>\n",
       "      <td>547</td>\n",
       "      <td>3642</td>\n",
       "      <td>False</td>\n",
       "      <td>2020-08-12 08:44:21</td>\n",
       "      <td>Hmmm I'm starting to sense people are reaching...</td>\n",
       "      <td>['covid19', 'ToryLies']</td>\n",
       "      <td>Twitter for Android</td>\n",
       "      <td>False</td>\n",
       "    </tr>\n",
       "    <tr>\n",
       "      <th>99754</th>\n",
       "      <td>Eleonora San</td>\n",
       "      <td>Tolentino, Marche</td>\n",
       "      <td>🇮🇹- Assistant Professor in Metallurgy - Additi...</td>\n",
       "      <td>2009-03-03 08:37:57</td>\n",
       "      <td>475</td>\n",
       "      <td>1613</td>\n",
       "      <td>1856</td>\n",
       "      <td>False</td>\n",
       "      <td>2020-08-10 15:57:22</td>\n",
       "      <td>This tells us pretty much everything about #CO...</td>\n",
       "      <td>['COVID19', 'WearADamnMask', 'WearAMask']</td>\n",
       "      <td>Twitter for iPhone</td>\n",
       "      <td>False</td>\n",
       "    </tr>\n",
       "    <tr>\n",
       "      <th>28650</th>\n",
       "      <td>Social Mela</td>\n",
       "      <td>Patna, India</td>\n",
       "      <td>Social Mela is an E-Magazine.  Your daily dose...</td>\n",
       "      <td>2017-05-12 08:42:43</td>\n",
       "      <td>71</td>\n",
       "      <td>106</td>\n",
       "      <td>645</td>\n",
       "      <td>False</td>\n",
       "      <td>2020-07-27 04:29:05</td>\n",
       "      <td>Highest single-day spike of 49,931 cases mark ...</td>\n",
       "      <td>['COVID19']</td>\n",
       "      <td>Twitter for iPhone</td>\n",
       "      <td>False</td>\n",
       "    </tr>\n",
       "    <tr>\n",
       "      <th>160973</th>\n",
       "      <td>Telugu Bullet</td>\n",
       "      <td>World Wide</td>\n",
       "      <td>Get the latest News on Andhra Pradesh, Telanga...</td>\n",
       "      <td>2016-05-21 11:46:41</td>\n",
       "      <td>731</td>\n",
       "      <td>908</td>\n",
       "      <td>1</td>\n",
       "      <td>False</td>\n",
       "      <td>2020-08-22 05:56:10</td>\n",
       "      <td>Subdued start to Onam celebrations in Kerala a...</td>\n",
       "      <td>['covid19', 'onam']</td>\n",
       "      <td>Hootsuite Inc.</td>\n",
       "      <td>False</td>\n",
       "    </tr>\n",
       "    <tr>\n",
       "      <th>102417</th>\n",
       "      <td>DZMM TeleRadyo</td>\n",
       "      <td>ABS-CBN, Diliman, Quezon City</td>\n",
       "      <td>The Official Twitter news feed of DZMM Radyo P...</td>\n",
       "      <td>2009-11-24 02:03:16</td>\n",
       "      <td>1400867</td>\n",
       "      <td>167</td>\n",
       "      <td>583</td>\n",
       "      <td>True</td>\n",
       "      <td>2020-08-10 15:13:05</td>\n",
       "      <td>@joycebalancio Duterte: By December, in fullne...</td>\n",
       "      <td>['COVID19']</td>\n",
       "      <td>TweetDeck</td>\n",
       "      <td>False</td>\n",
       "    </tr>\n",
       "    <tr>\n",
       "      <th>...</th>\n",
       "      <td>...</td>\n",
       "      <td>...</td>\n",
       "      <td>...</td>\n",
       "      <td>...</td>\n",
       "      <td>...</td>\n",
       "      <td>...</td>\n",
       "      <td>...</td>\n",
       "      <td>...</td>\n",
       "      <td>...</td>\n",
       "      <td>...</td>\n",
       "      <td>...</td>\n",
       "      <td>...</td>\n",
       "      <td>...</td>\n",
       "    </tr>\n",
       "    <tr>\n",
       "      <th>50896</th>\n",
       "      <td>Jason 𝑻𝒉𝒆 𝑮𝒆𝒓𝒎 𝑮𝒖𝒚 Tetro</td>\n",
       "      <td>Canada</td>\n",
       "      <td>Host of the TWO TIME award winning Super Aweso...</td>\n",
       "      <td>2009-04-06 19:13:41</td>\n",
       "      <td>10990</td>\n",
       "      <td>6961</td>\n",
       "      <td>18810</td>\n",
       "      <td>True</td>\n",
       "      <td>2020-07-31 17:19:16</td>\n",
       "      <td>The @CDCgov report on the #COVID19 #SARSCoV2 #...</td>\n",
       "      <td>['COVID19', 'SARSCoV2', 'coronavirus']</td>\n",
       "      <td>Twitter for Android</td>\n",
       "      <td>False</td>\n",
       "    </tr>\n",
       "    <tr>\n",
       "      <th>133864</th>\n",
       "      <td>Antoine FLAHAULT</td>\n",
       "      <td>Switzerland</td>\n",
       "      <td>Prof, MD, PhD, Dir. of the Institute of Global...</td>\n",
       "      <td>2010-01-30 09:17:50</td>\n",
       "      <td>10909</td>\n",
       "      <td>455</td>\n",
       "      <td>5059</td>\n",
       "      <td>False</td>\n",
       "      <td>2020-08-16 08:20:14</td>\n",
       "      <td>4/6. Florida reported 6,352 new #COVID19 cases...</td>\n",
       "      <td>['COVID19']</td>\n",
       "      <td>Twitter Web App</td>\n",
       "      <td>False</td>\n",
       "    </tr>\n",
       "    <tr>\n",
       "      <th>59739</th>\n",
       "      <td>Mario Anderson 📺</td>\n",
       "      <td>Lexington, KY</td>\n",
       "      <td>Anchor &amp; Reporter @SpectrumNews1KY | Host of #...</td>\n",
       "      <td>2010-05-29 02:00:28</td>\n",
       "      <td>2073</td>\n",
       "      <td>944</td>\n",
       "      <td>11566</td>\n",
       "      <td>False</td>\n",
       "      <td>2020-08-02 21:33:50</td>\n",
       "      <td>8/02/20 update from @GovAndyBeshear's office:\\...</td>\n",
       "      <td>['COVID19']</td>\n",
       "      <td>Twitter for Android</td>\n",
       "      <td>False</td>\n",
       "    </tr>\n",
       "    <tr>\n",
       "      <th>172265</th>\n",
       "      <td>David A. Lubarsky</td>\n",
       "      <td>Sacramento, CA</td>\n",
       "      <td>CEO of @UCDavisHealth and Vice Chancellor of H...</td>\n",
       "      <td>2014-01-24 21:02:04</td>\n",
       "      <td>2693</td>\n",
       "      <td>2399</td>\n",
       "      <td>1523</td>\n",
       "      <td>False</td>\n",
       "      <td>2020-08-30 03:32:16</td>\n",
       "      <td>We are lucky to have @PeterYellowlees as a lea...</td>\n",
       "      <td>['Telemedicine']</td>\n",
       "      <td>Twitter Web App</td>\n",
       "      <td>False</td>\n",
       "    </tr>\n",
       "    <tr>\n",
       "      <th>143376</th>\n",
       "      <td>Will Koulouris</td>\n",
       "      <td>Sydney, Australia.</td>\n",
       "      <td>aus/nz reporter @cnbci @cnbc - will.koulouris@...</td>\n",
       "      <td>2015-03-08 02:02:30</td>\n",
       "      <td>398</td>\n",
       "      <td>523</td>\n",
       "      <td>157</td>\n",
       "      <td>True</td>\n",
       "      <td>2020-08-17 06:27:44</td>\n",
       "      <td>The #COVID19 impact playing it's part to crimp...</td>\n",
       "      <td>['COVID19']</td>\n",
       "      <td>Twitter Web App</td>\n",
       "      <td>False</td>\n",
       "    </tr>\n",
       "  </tbody>\n",
       "</table>\n",
       "<p>500 rows × 13 columns</p>\n",
       "</div>"
      ],
      "text/plain": [
       "                       user_name                  user_location  \\\n",
       "112002                      Luca              Milano, Lombardia   \n",
       "99754               Eleonora San              Tolentino, Marche   \n",
       "28650                Social Mela                   Patna, India   \n",
       "160973             Telugu Bullet                     World Wide   \n",
       "102417            DZMM TeleRadyo  ABS-CBN, Diliman, Quezon City   \n",
       "...                          ...                            ...   \n",
       "50896   Jason 𝑻𝒉𝒆 𝑮𝒆𝒓𝒎 𝑮𝒖𝒚 Tetro                         Canada   \n",
       "133864          Antoine FLAHAULT                    Switzerland   \n",
       "59739           Mario Anderson 📺                  Lexington, KY   \n",
       "172265         David A. Lubarsky                 Sacramento, CA   \n",
       "143376            Will Koulouris             Sydney, Australia.   \n",
       "\n",
       "                                         user_description  \\\n",
       "112002                             Sub Bass Connoisseur 👌   \n",
       "99754   🇮🇹- Assistant Professor in Metallurgy - Additi...   \n",
       "28650   Social Mela is an E-Magazine.  Your daily dose...   \n",
       "160973  Get the latest News on Andhra Pradesh, Telanga...   \n",
       "102417  The Official Twitter news feed of DZMM Radyo P...   \n",
       "...                                                   ...   \n",
       "50896   Host of the TWO TIME award winning Super Aweso...   \n",
       "133864  Prof, MD, PhD, Dir. of the Institute of Global...   \n",
       "59739   Anchor & Reporter @SpectrumNews1KY | Host of #...   \n",
       "172265  CEO of @UCDavisHealth and Vice Chancellor of H...   \n",
       "143376  aus/nz reporter @cnbci @cnbc - will.koulouris@...   \n",
       "\n",
       "               user_created  user_followers  user_friends  user_favourites  \\\n",
       "112002  2019-11-23 18:00:09             225           547             3642   \n",
       "99754   2009-03-03 08:37:57             475          1613             1856   \n",
       "28650   2017-05-12 08:42:43              71           106              645   \n",
       "160973  2016-05-21 11:46:41             731           908                1   \n",
       "102417  2009-11-24 02:03:16         1400867           167              583   \n",
       "...                     ...             ...           ...              ...   \n",
       "50896   2009-04-06 19:13:41           10990          6961            18810   \n",
       "133864  2010-01-30 09:17:50           10909           455             5059   \n",
       "59739   2010-05-29 02:00:28            2073           944            11566   \n",
       "172265  2014-01-24 21:02:04            2693          2399             1523   \n",
       "143376  2015-03-08 02:02:30             398           523              157   \n",
       "\n",
       "        user_verified                 date  \\\n",
       "112002          False  2020-08-12 08:44:21   \n",
       "99754           False  2020-08-10 15:57:22   \n",
       "28650           False  2020-07-27 04:29:05   \n",
       "160973          False  2020-08-22 05:56:10   \n",
       "102417           True  2020-08-10 15:13:05   \n",
       "...               ...                  ...   \n",
       "50896            True  2020-07-31 17:19:16   \n",
       "133864          False  2020-08-16 08:20:14   \n",
       "59739           False  2020-08-02 21:33:50   \n",
       "172265          False  2020-08-30 03:32:16   \n",
       "143376           True  2020-08-17 06:27:44   \n",
       "\n",
       "                                                     text  \\\n",
       "112002  Hmmm I'm starting to sense people are reaching...   \n",
       "99754   This tells us pretty much everything about #CO...   \n",
       "28650   Highest single-day spike of 49,931 cases mark ...   \n",
       "160973  Subdued start to Onam celebrations in Kerala a...   \n",
       "102417  @joycebalancio Duterte: By December, in fullne...   \n",
       "...                                                   ...   \n",
       "50896   The @CDCgov report on the #COVID19 #SARSCoV2 #...   \n",
       "133864  4/6. Florida reported 6,352 new #COVID19 cases...   \n",
       "59739   8/02/20 update from @GovAndyBeshear's office:\\...   \n",
       "172265  We are lucky to have @PeterYellowlees as a lea...   \n",
       "143376  The #COVID19 impact playing it's part to crimp...   \n",
       "\n",
       "                                         hashtags               source  \\\n",
       "112002                    ['covid19', 'ToryLies']  Twitter for Android   \n",
       "99754   ['COVID19', 'WearADamnMask', 'WearAMask']   Twitter for iPhone   \n",
       "28650                                 ['COVID19']   Twitter for iPhone   \n",
       "160973                        ['covid19', 'onam']       Hootsuite Inc.   \n",
       "102417                                ['COVID19']            TweetDeck   \n",
       "...                                           ...                  ...   \n",
       "50896      ['COVID19', 'SARSCoV2', 'coronavirus']  Twitter for Android   \n",
       "133864                                ['COVID19']      Twitter Web App   \n",
       "59739                                 ['COVID19']  Twitter for Android   \n",
       "172265                           ['Telemedicine']      Twitter Web App   \n",
       "143376                                ['COVID19']      Twitter Web App   \n",
       "\n",
       "        is_retweet  \n",
       "112002       False  \n",
       "99754        False  \n",
       "28650        False  \n",
       "160973       False  \n",
       "102417       False  \n",
       "...            ...  \n",
       "50896        False  \n",
       "133864       False  \n",
       "59739        False  \n",
       "172265       False  \n",
       "143376       False  \n",
       "\n",
       "[500 rows x 13 columns]"
      ]
     },
     "execution_count": 14,
     "metadata": {},
     "output_type": "execute_result"
    }
   ],
   "source": [
    "# Randomly select 500 rows from the DataFrame 'df' to create a new DataFrame called 'tweetsample'\n",
    "tweetsample = df.sample(500)\n",
    "\n",
    "# Display the new DataFrame 'tweetsample' in the notebook\n",
    "tweetsample"
   ]
  },
  {
   "cell_type": "markdown",
   "metadata": {},
   "source": [
    "# Task 2.2: Geocoding"
   ]
  },
  {
   "cell_type": "code",
   "execution_count": 15,
   "metadata": {},
   "outputs": [],
   "source": [
    "# Create a geolocator object with a custom user agent string\n",
    "# This will allow us to use the Nominatim geocoding service to look up latitude and longitude coordinates for a given address\n",
    "geolocator = Nominatim(user_agent=\"MSc23\")"
   ]
  },
  {
   "cell_type": "code",
   "execution_count": 16,
   "metadata": {},
   "outputs": [
    {
     "name": "stderr",
     "output_type": "stream",
     "text": [
      "RateLimiter caught an error, retrying (0/2 tries). Called with (*('City of Laxman',), **{}).\n",
      "Traceback (most recent call last):\n",
      "  File \"C:\\Anaconda3\\lib\\site-packages\\geopy\\geocoders\\base.py\", line 355, in _call_geocoder\n",
      "    page = requester(req, timeout=timeout, **kwargs)\n",
      "  File \"C:\\Anaconda3\\lib\\urllib\\request.py\", line 525, in open\n",
      "    response = self._open(req, data)\n",
      "  File \"C:\\Anaconda3\\lib\\urllib\\request.py\", line 543, in _open\n",
      "    '_open', req)\n",
      "  File \"C:\\Anaconda3\\lib\\urllib\\request.py\", line 503, in _call_chain\n",
      "    result = func(*args)\n",
      "  File \"C:\\Anaconda3\\lib\\urllib\\request.py\", line 1360, in https_open\n",
      "    context=self._context, check_hostname=self._check_hostname)\n",
      "  File \"C:\\Anaconda3\\lib\\urllib\\request.py\", line 1320, in do_open\n",
      "    r = h.getresponse()\n",
      "  File \"C:\\Anaconda3\\lib\\http\\client.py\", line 1336, in getresponse\n",
      "    response.begin()\n",
      "  File \"C:\\Anaconda3\\lib\\http\\client.py\", line 306, in begin\n",
      "    version, status, reason = self._read_status()\n",
      "  File \"C:\\Anaconda3\\lib\\http\\client.py\", line 267, in _read_status\n",
      "    line = str(self.fp.readline(_MAXLINE + 1), \"iso-8859-1\")\n",
      "  File \"C:\\Anaconda3\\lib\\socket.py\", line 589, in readinto\n",
      "    return self._sock.recv_into(b)\n",
      "  File \"C:\\Anaconda3\\lib\\ssl.py\", line 1071, in recv_into\n",
      "    return self.read(nbytes, buffer)\n",
      "  File \"C:\\Anaconda3\\lib\\ssl.py\", line 929, in read\n",
      "    return self._sslobj.read(len, buffer)\n",
      "socket.timeout: The read operation timed out\n",
      "\n",
      "During handling of the above exception, another exception occurred:\n",
      "\n",
      "Traceback (most recent call last):\n",
      "  File \"C:\\Anaconda3\\lib\\site-packages\\geopy\\extra\\rate_limiter.py\", line 126, in __call__\n",
      "    return self.func(*args, **kwargs)\n",
      "  File \"C:\\Anaconda3\\lib\\site-packages\\geopy\\geocoders\\osm.py\", line 406, in geocode\n",
      "    self._call_geocoder(url, timeout=timeout), exactly_one\n",
      "  File \"C:\\Anaconda3\\lib\\site-packages\\geopy\\geocoders\\base.py\", line 382, in _call_geocoder\n",
      "    raise GeocoderTimedOut('Service timed out')\n",
      "geopy.exc.GeocoderTimedOut: Service timed out\n",
      "RateLimiter caught an error, retrying (1/2 tries). Called with (*('City of Laxman',), **{}).\n",
      "Traceback (most recent call last):\n",
      "  File \"C:\\Anaconda3\\lib\\site-packages\\geopy\\geocoders\\base.py\", line 355, in _call_geocoder\n",
      "    page = requester(req, timeout=timeout, **kwargs)\n",
      "  File \"C:\\Anaconda3\\lib\\urllib\\request.py\", line 525, in open\n",
      "    response = self._open(req, data)\n",
      "  File \"C:\\Anaconda3\\lib\\urllib\\request.py\", line 543, in _open\n",
      "    '_open', req)\n",
      "  File \"C:\\Anaconda3\\lib\\urllib\\request.py\", line 503, in _call_chain\n",
      "    result = func(*args)\n",
      "  File \"C:\\Anaconda3\\lib\\urllib\\request.py\", line 1360, in https_open\n",
      "    context=self._context, check_hostname=self._check_hostname)\n",
      "  File \"C:\\Anaconda3\\lib\\urllib\\request.py\", line 1320, in do_open\n",
      "    r = h.getresponse()\n",
      "  File \"C:\\Anaconda3\\lib\\http\\client.py\", line 1336, in getresponse\n",
      "    response.begin()\n",
      "  File \"C:\\Anaconda3\\lib\\http\\client.py\", line 306, in begin\n",
      "    version, status, reason = self._read_status()\n",
      "  File \"C:\\Anaconda3\\lib\\http\\client.py\", line 267, in _read_status\n",
      "    line = str(self.fp.readline(_MAXLINE + 1), \"iso-8859-1\")\n",
      "  File \"C:\\Anaconda3\\lib\\socket.py\", line 589, in readinto\n",
      "    return self._sock.recv_into(b)\n",
      "  File \"C:\\Anaconda3\\lib\\ssl.py\", line 1071, in recv_into\n",
      "    return self.read(nbytes, buffer)\n",
      "  File \"C:\\Anaconda3\\lib\\ssl.py\", line 929, in read\n",
      "    return self._sslobj.read(len, buffer)\n",
      "socket.timeout: The read operation timed out\n",
      "\n",
      "During handling of the above exception, another exception occurred:\n",
      "\n",
      "Traceback (most recent call last):\n",
      "  File \"C:\\Anaconda3\\lib\\site-packages\\geopy\\extra\\rate_limiter.py\", line 126, in __call__\n",
      "    return self.func(*args, **kwargs)\n",
      "  File \"C:\\Anaconda3\\lib\\site-packages\\geopy\\geocoders\\osm.py\", line 406, in geocode\n",
      "    self._call_geocoder(url, timeout=timeout), exactly_one\n",
      "  File \"C:\\Anaconda3\\lib\\site-packages\\geopy\\geocoders\\base.py\", line 382, in _call_geocoder\n",
      "    raise GeocoderTimedOut('Service timed out')\n",
      "geopy.exc.GeocoderTimedOut: Service timed out\n",
      "RateLimiter swallowed an error after 2 retries. Called with (*('City of Laxman',), **{}).\n",
      "Traceback (most recent call last):\n",
      "  File \"C:\\Anaconda3\\lib\\site-packages\\geopy\\geocoders\\base.py\", line 355, in _call_geocoder\n",
      "    page = requester(req, timeout=timeout, **kwargs)\n",
      "  File \"C:\\Anaconda3\\lib\\urllib\\request.py\", line 525, in open\n",
      "    response = self._open(req, data)\n",
      "  File \"C:\\Anaconda3\\lib\\urllib\\request.py\", line 543, in _open\n",
      "    '_open', req)\n",
      "  File \"C:\\Anaconda3\\lib\\urllib\\request.py\", line 503, in _call_chain\n",
      "    result = func(*args)\n",
      "  File \"C:\\Anaconda3\\lib\\urllib\\request.py\", line 1360, in https_open\n",
      "    context=self._context, check_hostname=self._check_hostname)\n",
      "  File \"C:\\Anaconda3\\lib\\urllib\\request.py\", line 1320, in do_open\n",
      "    r = h.getresponse()\n",
      "  File \"C:\\Anaconda3\\lib\\http\\client.py\", line 1336, in getresponse\n",
      "    response.begin()\n",
      "  File \"C:\\Anaconda3\\lib\\http\\client.py\", line 306, in begin\n",
      "    version, status, reason = self._read_status()\n",
      "  File \"C:\\Anaconda3\\lib\\http\\client.py\", line 267, in _read_status\n",
      "    line = str(self.fp.readline(_MAXLINE + 1), \"iso-8859-1\")\n",
      "  File \"C:\\Anaconda3\\lib\\socket.py\", line 589, in readinto\n",
      "    return self._sock.recv_into(b)\n",
      "  File \"C:\\Anaconda3\\lib\\ssl.py\", line 1071, in recv_into\n",
      "    return self.read(nbytes, buffer)\n",
      "  File \"C:\\Anaconda3\\lib\\ssl.py\", line 929, in read\n",
      "    return self._sslobj.read(len, buffer)\n",
      "socket.timeout: The read operation timed out\n",
      "\n",
      "During handling of the above exception, another exception occurred:\n",
      "\n",
      "Traceback (most recent call last):\n",
      "  File \"C:\\Anaconda3\\lib\\site-packages\\geopy\\extra\\rate_limiter.py\", line 126, in __call__\n",
      "    return self.func(*args, **kwargs)\n",
      "  File \"C:\\Anaconda3\\lib\\site-packages\\geopy\\geocoders\\osm.py\", line 406, in geocode\n",
      "    self._call_geocoder(url, timeout=timeout), exactly_one\n",
      "  File \"C:\\Anaconda3\\lib\\site-packages\\geopy\\geocoders\\base.py\", line 382, in _call_geocoder\n",
      "    raise GeocoderTimedOut('Service timed out')\n",
      "geopy.exc.GeocoderTimedOut: Service timed out\n",
      "RateLimiter caught an error, retrying (0/2 tries). Called with (*('South West, England',), **{}).\n",
      "Traceback (most recent call last):\n",
      "  File \"C:\\Anaconda3\\lib\\site-packages\\geopy\\geocoders\\base.py\", line 355, in _call_geocoder\n",
      "    page = requester(req, timeout=timeout, **kwargs)\n",
      "  File \"C:\\Anaconda3\\lib\\urllib\\request.py\", line 525, in open\n",
      "    response = self._open(req, data)\n",
      "  File \"C:\\Anaconda3\\lib\\urllib\\request.py\", line 543, in _open\n",
      "    '_open', req)\n",
      "  File \"C:\\Anaconda3\\lib\\urllib\\request.py\", line 503, in _call_chain\n",
      "    result = func(*args)\n",
      "  File \"C:\\Anaconda3\\lib\\urllib\\request.py\", line 1360, in https_open\n",
      "    context=self._context, check_hostname=self._check_hostname)\n",
      "  File \"C:\\Anaconda3\\lib\\urllib\\request.py\", line 1320, in do_open\n",
      "    r = h.getresponse()\n",
      "  File \"C:\\Anaconda3\\lib\\http\\client.py\", line 1336, in getresponse\n",
      "    response.begin()\n",
      "  File \"C:\\Anaconda3\\lib\\http\\client.py\", line 306, in begin\n",
      "    version, status, reason = self._read_status()\n",
      "  File \"C:\\Anaconda3\\lib\\http\\client.py\", line 267, in _read_status\n",
      "    line = str(self.fp.readline(_MAXLINE + 1), \"iso-8859-1\")\n",
      "  File \"C:\\Anaconda3\\lib\\socket.py\", line 589, in readinto\n",
      "    return self._sock.recv_into(b)\n",
      "  File \"C:\\Anaconda3\\lib\\ssl.py\", line 1071, in recv_into\n",
      "    return self.read(nbytes, buffer)\n",
      "  File \"C:\\Anaconda3\\lib\\ssl.py\", line 929, in read\n",
      "    return self._sslobj.read(len, buffer)\n",
      "socket.timeout: The read operation timed out\n",
      "\n",
      "During handling of the above exception, another exception occurred:\n",
      "\n",
      "Traceback (most recent call last):\n",
      "  File \"C:\\Anaconda3\\lib\\site-packages\\geopy\\extra\\rate_limiter.py\", line 126, in __call__\n",
      "    return self.func(*args, **kwargs)\n",
      "  File \"C:\\Anaconda3\\lib\\site-packages\\geopy\\geocoders\\osm.py\", line 406, in geocode\n",
      "    self._call_geocoder(url, timeout=timeout), exactly_one\n",
      "  File \"C:\\Anaconda3\\lib\\site-packages\\geopy\\geocoders\\base.py\", line 382, in _call_geocoder\n",
      "    raise GeocoderTimedOut('Service timed out')\n",
      "geopy.exc.GeocoderTimedOut: Service timed out\n",
      "RateLimiter caught an error, retrying (1/2 tries). Called with (*('South West, England',), **{}).\n",
      "Traceback (most recent call last):\n",
      "  File \"C:\\Anaconda3\\lib\\site-packages\\geopy\\geocoders\\base.py\", line 355, in _call_geocoder\n",
      "    page = requester(req, timeout=timeout, **kwargs)\n",
      "  File \"C:\\Anaconda3\\lib\\urllib\\request.py\", line 525, in open\n",
      "    response = self._open(req, data)\n",
      "  File \"C:\\Anaconda3\\lib\\urllib\\request.py\", line 543, in _open\n",
      "    '_open', req)\n",
      "  File \"C:\\Anaconda3\\lib\\urllib\\request.py\", line 503, in _call_chain\n",
      "    result = func(*args)\n",
      "  File \"C:\\Anaconda3\\lib\\urllib\\request.py\", line 1360, in https_open\n",
      "    context=self._context, check_hostname=self._check_hostname)\n",
      "  File \"C:\\Anaconda3\\lib\\urllib\\request.py\", line 1320, in do_open\n",
      "    r = h.getresponse()\n",
      "  File \"C:\\Anaconda3\\lib\\http\\client.py\", line 1336, in getresponse\n",
      "    response.begin()\n",
      "  File \"C:\\Anaconda3\\lib\\http\\client.py\", line 306, in begin\n",
      "    version, status, reason = self._read_status()\n",
      "  File \"C:\\Anaconda3\\lib\\http\\client.py\", line 267, in _read_status\n",
      "    line = str(self.fp.readline(_MAXLINE + 1), \"iso-8859-1\")\n",
      "  File \"C:\\Anaconda3\\lib\\socket.py\", line 589, in readinto\n",
      "    return self._sock.recv_into(b)\n",
      "  File \"C:\\Anaconda3\\lib\\ssl.py\", line 1071, in recv_into\n",
      "    return self.read(nbytes, buffer)\n",
      "  File \"C:\\Anaconda3\\lib\\ssl.py\", line 929, in read\n",
      "    return self._sslobj.read(len, buffer)\n",
      "socket.timeout: The read operation timed out\n",
      "\n",
      "During handling of the above exception, another exception occurred:\n",
      "\n",
      "Traceback (most recent call last):\n",
      "  File \"C:\\Anaconda3\\lib\\site-packages\\geopy\\extra\\rate_limiter.py\", line 126, in __call__\n",
      "    return self.func(*args, **kwargs)\n",
      "  File \"C:\\Anaconda3\\lib\\site-packages\\geopy\\geocoders\\osm.py\", line 406, in geocode\n",
      "    self._call_geocoder(url, timeout=timeout), exactly_one\n",
      "  File \"C:\\Anaconda3\\lib\\site-packages\\geopy\\geocoders\\base.py\", line 382, in _call_geocoder\n",
      "    raise GeocoderTimedOut('Service timed out')\n",
      "geopy.exc.GeocoderTimedOut: Service timed out\n"
     ]
    },
    {
     "name": "stderr",
     "output_type": "stream",
     "text": [
      "RateLimiter swallowed an error after 2 retries. Called with (*('South West, England',), **{}).\n",
      "Traceback (most recent call last):\n",
      "  File \"C:\\Anaconda3\\lib\\site-packages\\geopy\\geocoders\\base.py\", line 355, in _call_geocoder\n",
      "    page = requester(req, timeout=timeout, **kwargs)\n",
      "  File \"C:\\Anaconda3\\lib\\urllib\\request.py\", line 525, in open\n",
      "    response = self._open(req, data)\n",
      "  File \"C:\\Anaconda3\\lib\\urllib\\request.py\", line 543, in _open\n",
      "    '_open', req)\n",
      "  File \"C:\\Anaconda3\\lib\\urllib\\request.py\", line 503, in _call_chain\n",
      "    result = func(*args)\n",
      "  File \"C:\\Anaconda3\\lib\\urllib\\request.py\", line 1360, in https_open\n",
      "    context=self._context, check_hostname=self._check_hostname)\n",
      "  File \"C:\\Anaconda3\\lib\\urllib\\request.py\", line 1320, in do_open\n",
      "    r = h.getresponse()\n",
      "  File \"C:\\Anaconda3\\lib\\http\\client.py\", line 1336, in getresponse\n",
      "    response.begin()\n",
      "  File \"C:\\Anaconda3\\lib\\http\\client.py\", line 306, in begin\n",
      "    version, status, reason = self._read_status()\n",
      "  File \"C:\\Anaconda3\\lib\\http\\client.py\", line 267, in _read_status\n",
      "    line = str(self.fp.readline(_MAXLINE + 1), \"iso-8859-1\")\n",
      "  File \"C:\\Anaconda3\\lib\\socket.py\", line 589, in readinto\n",
      "    return self._sock.recv_into(b)\n",
      "  File \"C:\\Anaconda3\\lib\\ssl.py\", line 1071, in recv_into\n",
      "    return self.read(nbytes, buffer)\n",
      "  File \"C:\\Anaconda3\\lib\\ssl.py\", line 929, in read\n",
      "    return self._sslobj.read(len, buffer)\n",
      "socket.timeout: The read operation timed out\n",
      "\n",
      "During handling of the above exception, another exception occurred:\n",
      "\n",
      "Traceback (most recent call last):\n",
      "  File \"C:\\Anaconda3\\lib\\site-packages\\geopy\\extra\\rate_limiter.py\", line 126, in __call__\n",
      "    return self.func(*args, **kwargs)\n",
      "  File \"C:\\Anaconda3\\lib\\site-packages\\geopy\\geocoders\\osm.py\", line 406, in geocode\n",
      "    self._call_geocoder(url, timeout=timeout), exactly_one\n",
      "  File \"C:\\Anaconda3\\lib\\site-packages\\geopy\\geocoders\\base.py\", line 382, in _call_geocoder\n",
      "    raise GeocoderTimedOut('Service timed out')\n",
      "geopy.exc.GeocoderTimedOut: Service timed out\n",
      "RateLimiter caught an error, retrying (0/2 tries). Called with (*('South West, England',), **{}).\n",
      "Traceback (most recent call last):\n",
      "  File \"C:\\Anaconda3\\lib\\site-packages\\geopy\\geocoders\\base.py\", line 355, in _call_geocoder\n",
      "    page = requester(req, timeout=timeout, **kwargs)\n",
      "  File \"C:\\Anaconda3\\lib\\urllib\\request.py\", line 525, in open\n",
      "    response = self._open(req, data)\n",
      "  File \"C:\\Anaconda3\\lib\\urllib\\request.py\", line 543, in _open\n",
      "    '_open', req)\n",
      "  File \"C:\\Anaconda3\\lib\\urllib\\request.py\", line 503, in _call_chain\n",
      "    result = func(*args)\n",
      "  File \"C:\\Anaconda3\\lib\\urllib\\request.py\", line 1360, in https_open\n",
      "    context=self._context, check_hostname=self._check_hostname)\n",
      "  File \"C:\\Anaconda3\\lib\\urllib\\request.py\", line 1320, in do_open\n",
      "    r = h.getresponse()\n",
      "  File \"C:\\Anaconda3\\lib\\http\\client.py\", line 1336, in getresponse\n",
      "    response.begin()\n",
      "  File \"C:\\Anaconda3\\lib\\http\\client.py\", line 306, in begin\n",
      "    version, status, reason = self._read_status()\n",
      "  File \"C:\\Anaconda3\\lib\\http\\client.py\", line 267, in _read_status\n",
      "    line = str(self.fp.readline(_MAXLINE + 1), \"iso-8859-1\")\n",
      "  File \"C:\\Anaconda3\\lib\\socket.py\", line 589, in readinto\n",
      "    return self._sock.recv_into(b)\n",
      "  File \"C:\\Anaconda3\\lib\\ssl.py\", line 1071, in recv_into\n",
      "    return self.read(nbytes, buffer)\n",
      "  File \"C:\\Anaconda3\\lib\\ssl.py\", line 929, in read\n",
      "    return self._sslobj.read(len, buffer)\n",
      "socket.timeout: The read operation timed out\n",
      "\n",
      "During handling of the above exception, another exception occurred:\n",
      "\n",
      "Traceback (most recent call last):\n",
      "  File \"C:\\Anaconda3\\lib\\site-packages\\geopy\\extra\\rate_limiter.py\", line 126, in __call__\n",
      "    return self.func(*args, **kwargs)\n",
      "  File \"C:\\Anaconda3\\lib\\site-packages\\geopy\\geocoders\\osm.py\", line 406, in geocode\n",
      "    self._call_geocoder(url, timeout=timeout), exactly_one\n",
      "  File \"C:\\Anaconda3\\lib\\site-packages\\geopy\\geocoders\\base.py\", line 382, in _call_geocoder\n",
      "    raise GeocoderTimedOut('Service timed out')\n",
      "geopy.exc.GeocoderTimedOut: Service timed out\n",
      "RateLimiter caught an error, retrying (1/2 tries). Called with (*('South West, England',), **{}).\n",
      "Traceback (most recent call last):\n",
      "  File \"C:\\Anaconda3\\lib\\site-packages\\geopy\\geocoders\\base.py\", line 355, in _call_geocoder\n",
      "    page = requester(req, timeout=timeout, **kwargs)\n",
      "  File \"C:\\Anaconda3\\lib\\urllib\\request.py\", line 525, in open\n",
      "    response = self._open(req, data)\n",
      "  File \"C:\\Anaconda3\\lib\\urllib\\request.py\", line 543, in _open\n",
      "    '_open', req)\n",
      "  File \"C:\\Anaconda3\\lib\\urllib\\request.py\", line 503, in _call_chain\n",
      "    result = func(*args)\n",
      "  File \"C:\\Anaconda3\\lib\\urllib\\request.py\", line 1360, in https_open\n",
      "    context=self._context, check_hostname=self._check_hostname)\n",
      "  File \"C:\\Anaconda3\\lib\\urllib\\request.py\", line 1320, in do_open\n",
      "    r = h.getresponse()\n",
      "  File \"C:\\Anaconda3\\lib\\http\\client.py\", line 1336, in getresponse\n",
      "    response.begin()\n",
      "  File \"C:\\Anaconda3\\lib\\http\\client.py\", line 306, in begin\n",
      "    version, status, reason = self._read_status()\n",
      "  File \"C:\\Anaconda3\\lib\\http\\client.py\", line 267, in _read_status\n",
      "    line = str(self.fp.readline(_MAXLINE + 1), \"iso-8859-1\")\n",
      "  File \"C:\\Anaconda3\\lib\\socket.py\", line 589, in readinto\n",
      "    return self._sock.recv_into(b)\n",
      "  File \"C:\\Anaconda3\\lib\\ssl.py\", line 1071, in recv_into\n",
      "    return self.read(nbytes, buffer)\n",
      "  File \"C:\\Anaconda3\\lib\\ssl.py\", line 929, in read\n",
      "    return self._sslobj.read(len, buffer)\n",
      "socket.timeout: The read operation timed out\n",
      "\n",
      "During handling of the above exception, another exception occurred:\n",
      "\n",
      "Traceback (most recent call last):\n",
      "  File \"C:\\Anaconda3\\lib\\site-packages\\geopy\\extra\\rate_limiter.py\", line 126, in __call__\n",
      "    return self.func(*args, **kwargs)\n",
      "  File \"C:\\Anaconda3\\lib\\site-packages\\geopy\\geocoders\\osm.py\", line 406, in geocode\n",
      "    self._call_geocoder(url, timeout=timeout), exactly_one\n",
      "  File \"C:\\Anaconda3\\lib\\site-packages\\geopy\\geocoders\\base.py\", line 382, in _call_geocoder\n",
      "    raise GeocoderTimedOut('Service timed out')\n",
      "geopy.exc.GeocoderTimedOut: Service timed out\n",
      "RateLimiter swallowed an error after 2 retries. Called with (*('South West, England',), **{}).\n",
      "Traceback (most recent call last):\n",
      "  File \"C:\\Anaconda3\\lib\\site-packages\\geopy\\geocoders\\base.py\", line 355, in _call_geocoder\n",
      "    page = requester(req, timeout=timeout, **kwargs)\n",
      "  File \"C:\\Anaconda3\\lib\\urllib\\request.py\", line 525, in open\n",
      "    response = self._open(req, data)\n",
      "  File \"C:\\Anaconda3\\lib\\urllib\\request.py\", line 543, in _open\n",
      "    '_open', req)\n",
      "  File \"C:\\Anaconda3\\lib\\urllib\\request.py\", line 503, in _call_chain\n",
      "    result = func(*args)\n",
      "  File \"C:\\Anaconda3\\lib\\urllib\\request.py\", line 1360, in https_open\n",
      "    context=self._context, check_hostname=self._check_hostname)\n",
      "  File \"C:\\Anaconda3\\lib\\urllib\\request.py\", line 1320, in do_open\n",
      "    r = h.getresponse()\n",
      "  File \"C:\\Anaconda3\\lib\\http\\client.py\", line 1336, in getresponse\n",
      "    response.begin()\n",
      "  File \"C:\\Anaconda3\\lib\\http\\client.py\", line 306, in begin\n",
      "    version, status, reason = self._read_status()\n",
      "  File \"C:\\Anaconda3\\lib\\http\\client.py\", line 267, in _read_status\n",
      "    line = str(self.fp.readline(_MAXLINE + 1), \"iso-8859-1\")\n",
      "  File \"C:\\Anaconda3\\lib\\socket.py\", line 589, in readinto\n",
      "    return self._sock.recv_into(b)\n",
      "  File \"C:\\Anaconda3\\lib\\ssl.py\", line 1071, in recv_into\n",
      "    return self.read(nbytes, buffer)\n",
      "  File \"C:\\Anaconda3\\lib\\ssl.py\", line 929, in read\n",
      "    return self._sslobj.read(len, buffer)\n",
      "socket.timeout: The read operation timed out\n",
      "\n",
      "During handling of the above exception, another exception occurred:\n",
      "\n",
      "Traceback (most recent call last):\n",
      "  File \"C:\\Anaconda3\\lib\\site-packages\\geopy\\extra\\rate_limiter.py\", line 126, in __call__\n",
      "    return self.func(*args, **kwargs)\n",
      "  File \"C:\\Anaconda3\\lib\\site-packages\\geopy\\geocoders\\osm.py\", line 406, in geocode\n",
      "    self._call_geocoder(url, timeout=timeout), exactly_one\n",
      "  File \"C:\\Anaconda3\\lib\\site-packages\\geopy\\geocoders\\base.py\", line 382, in _call_geocoder\n",
      "    raise GeocoderTimedOut('Service timed out')\n",
      "geopy.exc.GeocoderTimedOut: Service timed out\n"
     ]
    },
    {
     "data": {
      "text/html": [
       "<div>\n",
       "<style scoped>\n",
       "    .dataframe tbody tr th:only-of-type {\n",
       "        vertical-align: middle;\n",
       "    }\n",
       "\n",
       "    .dataframe tbody tr th {\n",
       "        vertical-align: top;\n",
       "    }\n",
       "\n",
       "    .dataframe thead th {\n",
       "        text-align: right;\n",
       "    }\n",
       "</style>\n",
       "<table border=\"1\" class=\"dataframe\">\n",
       "  <thead>\n",
       "    <tr style=\"text-align: right;\">\n",
       "      <th></th>\n",
       "      <th>user_name</th>\n",
       "      <th>user_location</th>\n",
       "      <th>user_description</th>\n",
       "      <th>user_created</th>\n",
       "      <th>user_followers</th>\n",
       "      <th>user_friends</th>\n",
       "      <th>user_favourites</th>\n",
       "      <th>user_verified</th>\n",
       "      <th>date</th>\n",
       "      <th>text</th>\n",
       "      <th>hashtags</th>\n",
       "      <th>source</th>\n",
       "      <th>is_retweet</th>\n",
       "      <th>location</th>\n",
       "      <th>Lat</th>\n",
       "      <th>Lon</th>\n",
       "    </tr>\n",
       "  </thead>\n",
       "  <tbody>\n",
       "    <tr>\n",
       "      <th>112002</th>\n",
       "      <td>Luca</td>\n",
       "      <td>Milano, Lombardia</td>\n",
       "      <td>Sub Bass Connoisseur 👌</td>\n",
       "      <td>2019-11-23 18:00:09</td>\n",
       "      <td>225</td>\n",
       "      <td>547</td>\n",
       "      <td>3642</td>\n",
       "      <td>False</td>\n",
       "      <td>2020-08-12 08:44:21</td>\n",
       "      <td>Hmmm I'm starting to sense people are reaching...</td>\n",
       "      <td>['covid19', 'ToryLies']</td>\n",
       "      <td>Twitter for Android</td>\n",
       "      <td>False</td>\n",
       "      <td>(Milano, Lombardia, Italia, (45.4641943, 9.189...</td>\n",
       "      <td>45.464194</td>\n",
       "      <td>9.189635</td>\n",
       "    </tr>\n",
       "    <tr>\n",
       "      <th>99754</th>\n",
       "      <td>Eleonora San</td>\n",
       "      <td>Tolentino, Marche</td>\n",
       "      <td>🇮🇹- Assistant Professor in Metallurgy - Additi...</td>\n",
       "      <td>2009-03-03 08:37:57</td>\n",
       "      <td>475</td>\n",
       "      <td>1613</td>\n",
       "      <td>1856</td>\n",
       "      <td>False</td>\n",
       "      <td>2020-08-10 15:57:22</td>\n",
       "      <td>This tells us pretty much everything about #CO...</td>\n",
       "      <td>['COVID19', 'WearADamnMask', 'WearAMask']</td>\n",
       "      <td>Twitter for iPhone</td>\n",
       "      <td>False</td>\n",
       "      <td>(Tolentino, Macerata, Marche, 62029, Italia, (...</td>\n",
       "      <td>43.208755</td>\n",
       "      <td>13.284410</td>\n",
       "    </tr>\n",
       "    <tr>\n",
       "      <th>28650</th>\n",
       "      <td>Social Mela</td>\n",
       "      <td>Patna, India</td>\n",
       "      <td>Social Mela is an E-Magazine.  Your daily dose...</td>\n",
       "      <td>2017-05-12 08:42:43</td>\n",
       "      <td>71</td>\n",
       "      <td>106</td>\n",
       "      <td>645</td>\n",
       "      <td>False</td>\n",
       "      <td>2020-07-27 04:29:05</td>\n",
       "      <td>Highest single-day spike of 49,931 cases mark ...</td>\n",
       "      <td>['COVID19']</td>\n",
       "      <td>Twitter for iPhone</td>\n",
       "      <td>False</td>\n",
       "      <td>(Patna, Patna Rural, Patna District, Bihar, 80...</td>\n",
       "      <td>25.609324</td>\n",
       "      <td>85.123525</td>\n",
       "    </tr>\n",
       "    <tr>\n",
       "      <th>160973</th>\n",
       "      <td>Telugu Bullet</td>\n",
       "      <td>World Wide</td>\n",
       "      <td>Get the latest News on Andhra Pradesh, Telanga...</td>\n",
       "      <td>2016-05-21 11:46:41</td>\n",
       "      <td>731</td>\n",
       "      <td>908</td>\n",
       "      <td>1</td>\n",
       "      <td>False</td>\n",
       "      <td>2020-08-22 05:56:10</td>\n",
       "      <td>Subdued start to Onam celebrations in Kerala a...</td>\n",
       "      <td>['covid19', 'onam']</td>\n",
       "      <td>Hootsuite Inc.</td>\n",
       "      <td>False</td>\n",
       "      <td>None</td>\n",
       "      <td>NaN</td>\n",
       "      <td>NaN</td>\n",
       "    </tr>\n",
       "    <tr>\n",
       "      <th>102417</th>\n",
       "      <td>DZMM TeleRadyo</td>\n",
       "      <td>ABS-CBN, Diliman, Quezon City</td>\n",
       "      <td>The Official Twitter news feed of DZMM Radyo P...</td>\n",
       "      <td>2009-11-24 02:03:16</td>\n",
       "      <td>1400867</td>\n",
       "      <td>167</td>\n",
       "      <td>583</td>\n",
       "      <td>True</td>\n",
       "      <td>2020-08-10 15:13:05</td>\n",
       "      <td>@joycebalancio Duterte: By December, in fullne...</td>\n",
       "      <td>['COVID19']</td>\n",
       "      <td>TweetDeck</td>\n",
       "      <td>False</td>\n",
       "      <td>(Millennium Transmitter, Mother Ignacia Avenue...</td>\n",
       "      <td>14.640588</td>\n",
       "      <td>121.036681</td>\n",
       "    </tr>\n",
       "    <tr>\n",
       "      <th>...</th>\n",
       "      <td>...</td>\n",
       "      <td>...</td>\n",
       "      <td>...</td>\n",
       "      <td>...</td>\n",
       "      <td>...</td>\n",
       "      <td>...</td>\n",
       "      <td>...</td>\n",
       "      <td>...</td>\n",
       "      <td>...</td>\n",
       "      <td>...</td>\n",
       "      <td>...</td>\n",
       "      <td>...</td>\n",
       "      <td>...</td>\n",
       "      <td>...</td>\n",
       "      <td>...</td>\n",
       "      <td>...</td>\n",
       "    </tr>\n",
       "    <tr>\n",
       "      <th>50896</th>\n",
       "      <td>Jason 𝑻𝒉𝒆 𝑮𝒆𝒓𝒎 𝑮𝒖𝒚 Tetro</td>\n",
       "      <td>Canada</td>\n",
       "      <td>Host of the TWO TIME award winning Super Aweso...</td>\n",
       "      <td>2009-04-06 19:13:41</td>\n",
       "      <td>10990</td>\n",
       "      <td>6961</td>\n",
       "      <td>18810</td>\n",
       "      <td>True</td>\n",
       "      <td>2020-07-31 17:19:16</td>\n",
       "      <td>The @CDCgov report on the #COVID19 #SARSCoV2 #...</td>\n",
       "      <td>['COVID19', 'SARSCoV2', 'coronavirus']</td>\n",
       "      <td>Twitter for Android</td>\n",
       "      <td>False</td>\n",
       "      <td>(Canada, (61.0666922, -107.991707))</td>\n",
       "      <td>61.066692</td>\n",
       "      <td>-107.991707</td>\n",
       "    </tr>\n",
       "    <tr>\n",
       "      <th>133864</th>\n",
       "      <td>Antoine FLAHAULT</td>\n",
       "      <td>Switzerland</td>\n",
       "      <td>Prof, MD, PhD, Dir. of the Institute of Global...</td>\n",
       "      <td>2010-01-30 09:17:50</td>\n",
       "      <td>10909</td>\n",
       "      <td>455</td>\n",
       "      <td>5059</td>\n",
       "      <td>False</td>\n",
       "      <td>2020-08-16 08:20:14</td>\n",
       "      <td>4/6. Florida reported 6,352 new #COVID19 cases...</td>\n",
       "      <td>['COVID19']</td>\n",
       "      <td>Twitter Web App</td>\n",
       "      <td>False</td>\n",
       "      <td>(Schweiz/Suisse/Svizzera/Svizra, (46.7985624, ...</td>\n",
       "      <td>46.798562</td>\n",
       "      <td>8.231974</td>\n",
       "    </tr>\n",
       "    <tr>\n",
       "      <th>59739</th>\n",
       "      <td>Mario Anderson 📺</td>\n",
       "      <td>Lexington, KY</td>\n",
       "      <td>Anchor &amp; Reporter @SpectrumNews1KY | Host of #...</td>\n",
       "      <td>2010-05-29 02:00:28</td>\n",
       "      <td>2073</td>\n",
       "      <td>944</td>\n",
       "      <td>11566</td>\n",
       "      <td>False</td>\n",
       "      <td>2020-08-02 21:33:50</td>\n",
       "      <td>8/02/20 update from @GovAndyBeshear's office:\\...</td>\n",
       "      <td>['COVID19']</td>\n",
       "      <td>Twitter for Android</td>\n",
       "      <td>False</td>\n",
       "      <td>(Lexington, Fayette County, Kentucky, United S...</td>\n",
       "      <td>38.046407</td>\n",
       "      <td>-84.497039</td>\n",
       "    </tr>\n",
       "    <tr>\n",
       "      <th>172265</th>\n",
       "      <td>David A. Lubarsky</td>\n",
       "      <td>Sacramento, CA</td>\n",
       "      <td>CEO of @UCDavisHealth and Vice Chancellor of H...</td>\n",
       "      <td>2014-01-24 21:02:04</td>\n",
       "      <td>2693</td>\n",
       "      <td>2399</td>\n",
       "      <td>1523</td>\n",
       "      <td>False</td>\n",
       "      <td>2020-08-30 03:32:16</td>\n",
       "      <td>We are lucky to have @PeterYellowlees as a lea...</td>\n",
       "      <td>['Telemedicine']</td>\n",
       "      <td>Twitter Web App</td>\n",
       "      <td>False</td>\n",
       "      <td>(Sacramento, Sacramento County, CAL Fire North...</td>\n",
       "      <td>38.581061</td>\n",
       "      <td>-121.493895</td>\n",
       "    </tr>\n",
       "    <tr>\n",
       "      <th>143376</th>\n",
       "      <td>Will Koulouris</td>\n",
       "      <td>Sydney, Australia.</td>\n",
       "      <td>aus/nz reporter @cnbci @cnbc - will.koulouris@...</td>\n",
       "      <td>2015-03-08 02:02:30</td>\n",
       "      <td>398</td>\n",
       "      <td>523</td>\n",
       "      <td>157</td>\n",
       "      <td>True</td>\n",
       "      <td>2020-08-17 06:27:44</td>\n",
       "      <td>The #COVID19 impact playing it's part to crimp...</td>\n",
       "      <td>['COVID19']</td>\n",
       "      <td>Twitter Web App</td>\n",
       "      <td>False</td>\n",
       "      <td>(Sydney, Council of the City of Sydney, New So...</td>\n",
       "      <td>-33.869844</td>\n",
       "      <td>151.208285</td>\n",
       "    </tr>\n",
       "  </tbody>\n",
       "</table>\n",
       "<p>500 rows × 16 columns</p>\n",
       "</div>"
      ],
      "text/plain": [
       "                       user_name                  user_location  \\\n",
       "112002                      Luca              Milano, Lombardia   \n",
       "99754               Eleonora San              Tolentino, Marche   \n",
       "28650                Social Mela                   Patna, India   \n",
       "160973             Telugu Bullet                     World Wide   \n",
       "102417            DZMM TeleRadyo  ABS-CBN, Diliman, Quezon City   \n",
       "...                          ...                            ...   \n",
       "50896   Jason 𝑻𝒉𝒆 𝑮𝒆𝒓𝒎 𝑮𝒖𝒚 Tetro                         Canada   \n",
       "133864          Antoine FLAHAULT                    Switzerland   \n",
       "59739           Mario Anderson 📺                  Lexington, KY   \n",
       "172265         David A. Lubarsky                 Sacramento, CA   \n",
       "143376            Will Koulouris             Sydney, Australia.   \n",
       "\n",
       "                                         user_description  \\\n",
       "112002                             Sub Bass Connoisseur 👌   \n",
       "99754   🇮🇹- Assistant Professor in Metallurgy - Additi...   \n",
       "28650   Social Mela is an E-Magazine.  Your daily dose...   \n",
       "160973  Get the latest News on Andhra Pradesh, Telanga...   \n",
       "102417  The Official Twitter news feed of DZMM Radyo P...   \n",
       "...                                                   ...   \n",
       "50896   Host of the TWO TIME award winning Super Aweso...   \n",
       "133864  Prof, MD, PhD, Dir. of the Institute of Global...   \n",
       "59739   Anchor & Reporter @SpectrumNews1KY | Host of #...   \n",
       "172265  CEO of @UCDavisHealth and Vice Chancellor of H...   \n",
       "143376  aus/nz reporter @cnbci @cnbc - will.koulouris@...   \n",
       "\n",
       "               user_created  user_followers  user_friends  user_favourites  \\\n",
       "112002  2019-11-23 18:00:09             225           547             3642   \n",
       "99754   2009-03-03 08:37:57             475          1613             1856   \n",
       "28650   2017-05-12 08:42:43              71           106              645   \n",
       "160973  2016-05-21 11:46:41             731           908                1   \n",
       "102417  2009-11-24 02:03:16         1400867           167              583   \n",
       "...                     ...             ...           ...              ...   \n",
       "50896   2009-04-06 19:13:41           10990          6961            18810   \n",
       "133864  2010-01-30 09:17:50           10909           455             5059   \n",
       "59739   2010-05-29 02:00:28            2073           944            11566   \n",
       "172265  2014-01-24 21:02:04            2693          2399             1523   \n",
       "143376  2015-03-08 02:02:30             398           523              157   \n",
       "\n",
       "        user_verified                 date  \\\n",
       "112002          False  2020-08-12 08:44:21   \n",
       "99754           False  2020-08-10 15:57:22   \n",
       "28650           False  2020-07-27 04:29:05   \n",
       "160973          False  2020-08-22 05:56:10   \n",
       "102417           True  2020-08-10 15:13:05   \n",
       "...               ...                  ...   \n",
       "50896            True  2020-07-31 17:19:16   \n",
       "133864          False  2020-08-16 08:20:14   \n",
       "59739           False  2020-08-02 21:33:50   \n",
       "172265          False  2020-08-30 03:32:16   \n",
       "143376           True  2020-08-17 06:27:44   \n",
       "\n",
       "                                                     text  \\\n",
       "112002  Hmmm I'm starting to sense people are reaching...   \n",
       "99754   This tells us pretty much everything about #CO...   \n",
       "28650   Highest single-day spike of 49,931 cases mark ...   \n",
       "160973  Subdued start to Onam celebrations in Kerala a...   \n",
       "102417  @joycebalancio Duterte: By December, in fullne...   \n",
       "...                                                   ...   \n",
       "50896   The @CDCgov report on the #COVID19 #SARSCoV2 #...   \n",
       "133864  4/6. Florida reported 6,352 new #COVID19 cases...   \n",
       "59739   8/02/20 update from @GovAndyBeshear's office:\\...   \n",
       "172265  We are lucky to have @PeterYellowlees as a lea...   \n",
       "143376  The #COVID19 impact playing it's part to crimp...   \n",
       "\n",
       "                                         hashtags               source  \\\n",
       "112002                    ['covid19', 'ToryLies']  Twitter for Android   \n",
       "99754   ['COVID19', 'WearADamnMask', 'WearAMask']   Twitter for iPhone   \n",
       "28650                                 ['COVID19']   Twitter for iPhone   \n",
       "160973                        ['covid19', 'onam']       Hootsuite Inc.   \n",
       "102417                                ['COVID19']            TweetDeck   \n",
       "...                                           ...                  ...   \n",
       "50896      ['COVID19', 'SARSCoV2', 'coronavirus']  Twitter for Android   \n",
       "133864                                ['COVID19']      Twitter Web App   \n",
       "59739                                 ['COVID19']  Twitter for Android   \n",
       "172265                           ['Telemedicine']      Twitter Web App   \n",
       "143376                                ['COVID19']      Twitter Web App   \n",
       "\n",
       "        is_retweet                                           location  \\\n",
       "112002       False  (Milano, Lombardia, Italia, (45.4641943, 9.189...   \n",
       "99754        False  (Tolentino, Macerata, Marche, 62029, Italia, (...   \n",
       "28650        False  (Patna, Patna Rural, Patna District, Bihar, 80...   \n",
       "160973       False                                               None   \n",
       "102417       False  (Millennium Transmitter, Mother Ignacia Avenue...   \n",
       "...            ...                                                ...   \n",
       "50896        False                (Canada, (61.0666922, -107.991707))   \n",
       "133864       False  (Schweiz/Suisse/Svizzera/Svizra, (46.7985624, ...   \n",
       "59739        False  (Lexington, Fayette County, Kentucky, United S...   \n",
       "172265       False  (Sacramento, Sacramento County, CAL Fire North...   \n",
       "143376       False  (Sydney, Council of the City of Sydney, New So...   \n",
       "\n",
       "              Lat         Lon  \n",
       "112002  45.464194    9.189635  \n",
       "99754   43.208755   13.284410  \n",
       "28650   25.609324   85.123525  \n",
       "160973        NaN         NaN  \n",
       "102417  14.640588  121.036681  \n",
       "...           ...         ...  \n",
       "50896   61.066692 -107.991707  \n",
       "133864  46.798562    8.231974  \n",
       "59739   38.046407  -84.497039  \n",
       "172265  38.581061 -121.493895  \n",
       "143376 -33.869844  151.208285  \n",
       "\n",
       "[500 rows x 16 columns]"
      ]
     },
     "execution_count": 16,
     "metadata": {},
     "output_type": "execute_result"
    }
   ],
   "source": [
    "# Create a RateLimiter object to limit the rate of geocoding requests to the Nominatim service\n",
    "# This is necessary to avoid overwhelming the service with too many requests at once\n",
    "geocode = RateLimiter(geolocator.geocode, min_delay_seconds=1)\n",
    "\n",
    "# Use the RateLimiter object to look up latitude and longitude coordinates for each user_location in the 'tweetsample' DataFrame\n",
    "tweetsample['location'] = tweetsample['user_location'].apply(geocode)\n",
    "\n",
    "# Extract the latitude and longitude coordinates from the 'location' column and store them in separate columns in the 'tweetsample' DataFrame\n",
    "tweetsample['Lat'] = tweetsample['location'].apply(lambda x: x.latitude if x else None)\n",
    "tweetsample['Lon'] = tweetsample['location'].apply(lambda x: x.longitude if x else None)\n",
    "\n",
    "# Display the modified 'tweetsample' DataFrame in the notebook\n",
    "tweetsample"
   ]
  },
  {
   "cell_type": "code",
   "execution_count": 17,
   "metadata": {},
   "outputs": [],
   "source": [
    "# Define a function called 'clean_tweet' that takes a single argument called 'tweet'\n",
    "def clean_tweet(tweet):\n",
    "    # Convert the text to lowercase\n",
    "    tweet = tweet.lower()\n",
    "    \n",
    "    # Remove Twitter handles (e.g. '@username')\n",
    "    tweet = re.sub(r'@[A-Za-z0-9_]+', '', tweet)\n",
    "    \n",
    "    # Remove hashtags (e.g. '#COVID19')\n",
    "    tweet = re.sub(r'#[A-Za-z0-9_]+', '', tweet)\n",
    "    \n",
    "    # Remove URLs\n",
    "    tweet = re.sub(r'http\\S+', '', tweet)\n",
    "    tweet = re.sub(r'www.\\S+', '', tweet)\n",
    "    \n",
    "    # Remove punctuation marks, including parentheses and exclamation marks\n",
    "    tweet = re.sub(r'[()!?]', '', tweet)\n",
    "    \n",
    "    # Remove square brackets and their contents\n",
    "    tweet = re.sub(r'\\[.*?\\]', '', tweet)\n",
    "    \n",
    "    # Remove all non-alphanumeric characters except whitespace\n",
    "    tweet = re.sub(r'[^a-z0-9\\s]', '', tweet)\n",
    "    \n",
    "    # Replace multiple whitespace characters with a single space\n",
    "    tweet = re.sub(r'\\s+', ' ', tweet).strip()\n",
    "    \n",
    "    # Return the cleaned tweet text\n",
    "    return tweet"
   ]
  },
  {
   "cell_type": "code",
   "execution_count": 18,
   "metadata": {},
   "outputs": [],
   "source": [
    "# Create an empty list called 'new_t'\n",
    "new_t = []\n",
    "\n",
    "# Loop through each tweet in the 'text' column of the 'tweetsample' DataFrame\n",
    "for tweet in tweetsample['text']:\n",
    "    # Clean the tweet text using the 'clean_tweet' function\n",
    "    tweet = clean_tweet(tweet)\n",
    "    \n",
    "    # Append the cleaned tweet to the 'new_t' list\n",
    "    new_t.append(tweet)\n",
    "    \n",
    "# Replace the 'text' column of the 'tweetsample' DataFrame with the cleaned tweets\n",
    "tweetsample['text'] = new_t"
   ]
  },
  {
   "cell_type": "code",
   "execution_count": 19,
   "metadata": {},
   "outputs": [
    {
     "data": {
      "text/html": [
       "<div>\n",
       "<style scoped>\n",
       "    .dataframe tbody tr th:only-of-type {\n",
       "        vertical-align: middle;\n",
       "    }\n",
       "\n",
       "    .dataframe tbody tr th {\n",
       "        vertical-align: top;\n",
       "    }\n",
       "\n",
       "    .dataframe thead th {\n",
       "        text-align: right;\n",
       "    }\n",
       "</style>\n",
       "<table border=\"1\" class=\"dataframe\">\n",
       "  <thead>\n",
       "    <tr style=\"text-align: right;\">\n",
       "      <th></th>\n",
       "      <th>user_name</th>\n",
       "      <th>user_location</th>\n",
       "      <th>user_description</th>\n",
       "      <th>user_created</th>\n",
       "      <th>user_followers</th>\n",
       "      <th>user_friends</th>\n",
       "      <th>user_favourites</th>\n",
       "      <th>user_verified</th>\n",
       "      <th>date</th>\n",
       "      <th>text</th>\n",
       "      <th>hashtags</th>\n",
       "      <th>source</th>\n",
       "      <th>is_retweet</th>\n",
       "      <th>location</th>\n",
       "      <th>Lat</th>\n",
       "      <th>Lon</th>\n",
       "    </tr>\n",
       "  </thead>\n",
       "  <tbody>\n",
       "    <tr>\n",
       "      <th>112002</th>\n",
       "      <td>Luca</td>\n",
       "      <td>Milano, Lombardia</td>\n",
       "      <td>Sub Bass Connoisseur 👌</td>\n",
       "      <td>2019-11-23 18:00:09</td>\n",
       "      <td>225</td>\n",
       "      <td>547</td>\n",
       "      <td>3642</td>\n",
       "      <td>False</td>\n",
       "      <td>2020-08-12 08:44:21</td>\n",
       "      <td>hmmm im starting to sense people are reaching ...</td>\n",
       "      <td>['covid19', 'ToryLies']</td>\n",
       "      <td>Twitter for Android</td>\n",
       "      <td>False</td>\n",
       "      <td>(Milano, Lombardia, Italia, (45.4641943, 9.189...</td>\n",
       "      <td>45.464194</td>\n",
       "      <td>9.189635</td>\n",
       "    </tr>\n",
       "    <tr>\n",
       "      <th>99754</th>\n",
       "      <td>Eleonora San</td>\n",
       "      <td>Tolentino, Marche</td>\n",
       "      <td>🇮🇹- Assistant Professor in Metallurgy - Additi...</td>\n",
       "      <td>2009-03-03 08:37:57</td>\n",
       "      <td>475</td>\n",
       "      <td>1613</td>\n",
       "      <td>1856</td>\n",
       "      <td>False</td>\n",
       "      <td>2020-08-10 15:57:22</td>\n",
       "      <td>this tells us pretty much everything about</td>\n",
       "      <td>['COVID19', 'WearADamnMask', 'WearAMask']</td>\n",
       "      <td>Twitter for iPhone</td>\n",
       "      <td>False</td>\n",
       "      <td>(Tolentino, Macerata, Marche, 62029, Italia, (...</td>\n",
       "      <td>43.208755</td>\n",
       "      <td>13.284410</td>\n",
       "    </tr>\n",
       "    <tr>\n",
       "      <th>28650</th>\n",
       "      <td>Social Mela</td>\n",
       "      <td>Patna, India</td>\n",
       "      <td>Social Mela is an E-Magazine.  Your daily dose...</td>\n",
       "      <td>2017-05-12 08:42:43</td>\n",
       "      <td>71</td>\n",
       "      <td>106</td>\n",
       "      <td>645</td>\n",
       "      <td>False</td>\n",
       "      <td>2020-07-27 04:29:05</td>\n",
       "      <td>highest singleday spike of 49931 cases mark wi...</td>\n",
       "      <td>['COVID19']</td>\n",
       "      <td>Twitter for iPhone</td>\n",
       "      <td>False</td>\n",
       "      <td>(Patna, Patna Rural, Patna District, Bihar, 80...</td>\n",
       "      <td>25.609324</td>\n",
       "      <td>85.123525</td>\n",
       "    </tr>\n",
       "    <tr>\n",
       "      <th>160973</th>\n",
       "      <td>Telugu Bullet</td>\n",
       "      <td>World Wide</td>\n",
       "      <td>Get the latest News on Andhra Pradesh, Telanga...</td>\n",
       "      <td>2016-05-21 11:46:41</td>\n",
       "      <td>731</td>\n",
       "      <td>908</td>\n",
       "      <td>1</td>\n",
       "      <td>False</td>\n",
       "      <td>2020-08-22 05:56:10</td>\n",
       "      <td>subdued start to onam celebrations in kerala a...</td>\n",
       "      <td>['covid19', 'onam']</td>\n",
       "      <td>Hootsuite Inc.</td>\n",
       "      <td>False</td>\n",
       "      <td>None</td>\n",
       "      <td>NaN</td>\n",
       "      <td>NaN</td>\n",
       "    </tr>\n",
       "    <tr>\n",
       "      <th>102417</th>\n",
       "      <td>DZMM TeleRadyo</td>\n",
       "      <td>ABS-CBN, Diliman, Quezon City</td>\n",
       "      <td>The Official Twitter news feed of DZMM Radyo P...</td>\n",
       "      <td>2009-11-24 02:03:16</td>\n",
       "      <td>1400867</td>\n",
       "      <td>167</td>\n",
       "      <td>583</td>\n",
       "      <td>True</td>\n",
       "      <td>2020-08-10 15:13:05</td>\n",
       "      <td>duterte by december in fullness of gods time w...</td>\n",
       "      <td>['COVID19']</td>\n",
       "      <td>TweetDeck</td>\n",
       "      <td>False</td>\n",
       "      <td>(Millennium Transmitter, Mother Ignacia Avenue...</td>\n",
       "      <td>14.640588</td>\n",
       "      <td>121.036681</td>\n",
       "    </tr>\n",
       "    <tr>\n",
       "      <th>...</th>\n",
       "      <td>...</td>\n",
       "      <td>...</td>\n",
       "      <td>...</td>\n",
       "      <td>...</td>\n",
       "      <td>...</td>\n",
       "      <td>...</td>\n",
       "      <td>...</td>\n",
       "      <td>...</td>\n",
       "      <td>...</td>\n",
       "      <td>...</td>\n",
       "      <td>...</td>\n",
       "      <td>...</td>\n",
       "      <td>...</td>\n",
       "      <td>...</td>\n",
       "      <td>...</td>\n",
       "      <td>...</td>\n",
       "    </tr>\n",
       "    <tr>\n",
       "      <th>50896</th>\n",
       "      <td>Jason 𝑻𝒉𝒆 𝑮𝒆𝒓𝒎 𝑮𝒖𝒚 Tetro</td>\n",
       "      <td>Canada</td>\n",
       "      <td>Host of the TWO TIME award winning Super Aweso...</td>\n",
       "      <td>2009-04-06 19:13:41</td>\n",
       "      <td>10990</td>\n",
       "      <td>6961</td>\n",
       "      <td>18810</td>\n",
       "      <td>True</td>\n",
       "      <td>2020-07-31 17:19:16</td>\n",
       "      <td>the report on the outbreak at a camp has the s...</td>\n",
       "      <td>['COVID19', 'SARSCoV2', 'coronavirus']</td>\n",
       "      <td>Twitter for Android</td>\n",
       "      <td>False</td>\n",
       "      <td>(Canada, (61.0666922, -107.991707))</td>\n",
       "      <td>61.066692</td>\n",
       "      <td>-107.991707</td>\n",
       "    </tr>\n",
       "    <tr>\n",
       "      <th>133864</th>\n",
       "      <td>Antoine FLAHAULT</td>\n",
       "      <td>Switzerland</td>\n",
       "      <td>Prof, MD, PhD, Dir. of the Institute of Global...</td>\n",
       "      <td>2010-01-30 09:17:50</td>\n",
       "      <td>10909</td>\n",
       "      <td>455</td>\n",
       "      <td>5059</td>\n",
       "      <td>False</td>\n",
       "      <td>2020-08-16 08:20:14</td>\n",
       "      <td>46 florida reported 6352 new cases on aug 15 3...</td>\n",
       "      <td>['COVID19']</td>\n",
       "      <td>Twitter Web App</td>\n",
       "      <td>False</td>\n",
       "      <td>(Schweiz/Suisse/Svizzera/Svizra, (46.7985624, ...</td>\n",
       "      <td>46.798562</td>\n",
       "      <td>8.231974</td>\n",
       "    </tr>\n",
       "    <tr>\n",
       "      <th>59739</th>\n",
       "      <td>Mario Anderson 📺</td>\n",
       "      <td>Lexington, KY</td>\n",
       "      <td>Anchor &amp; Reporter @SpectrumNews1KY | Host of #...</td>\n",
       "      <td>2010-05-29 02:00:28</td>\n",
       "      <td>2073</td>\n",
       "      <td>944</td>\n",
       "      <td>11566</td>\n",
       "      <td>False</td>\n",
       "      <td>2020-08-02 21:33:50</td>\n",
       "      <td>80220 update from s office 463 new positive ca...</td>\n",
       "      <td>['COVID19']</td>\n",
       "      <td>Twitter for Android</td>\n",
       "      <td>False</td>\n",
       "      <td>(Lexington, Fayette County, Kentucky, United S...</td>\n",
       "      <td>38.046407</td>\n",
       "      <td>-84.497039</td>\n",
       "    </tr>\n",
       "    <tr>\n",
       "      <th>172265</th>\n",
       "      <td>David A. Lubarsky</td>\n",
       "      <td>Sacramento, CA</td>\n",
       "      <td>CEO of @UCDavisHealth and Vice Chancellor of H...</td>\n",
       "      <td>2014-01-24 21:02:04</td>\n",
       "      <td>2693</td>\n",
       "      <td>2399</td>\n",
       "      <td>1523</td>\n",
       "      <td>False</td>\n",
       "      <td>2020-08-30 03:32:16</td>\n",
       "      <td>we are lucky to have as a leader in here while...</td>\n",
       "      <td>['Telemedicine']</td>\n",
       "      <td>Twitter Web App</td>\n",
       "      <td>False</td>\n",
       "      <td>(Sacramento, Sacramento County, CAL Fire North...</td>\n",
       "      <td>38.581061</td>\n",
       "      <td>-121.493895</td>\n",
       "    </tr>\n",
       "    <tr>\n",
       "      <th>143376</th>\n",
       "      <td>Will Koulouris</td>\n",
       "      <td>Sydney, Australia.</td>\n",
       "      <td>aus/nz reporter @cnbci @cnbc - will.koulouris@...</td>\n",
       "      <td>2015-03-08 02:02:30</td>\n",
       "      <td>398</td>\n",
       "      <td>523</td>\n",
       "      <td>157</td>\n",
       "      <td>True</td>\n",
       "      <td>2020-08-17 06:27:44</td>\n",
       "      <td>the impact playing its part to crimp fy20 resu...</td>\n",
       "      <td>['COVID19']</td>\n",
       "      <td>Twitter Web App</td>\n",
       "      <td>False</td>\n",
       "      <td>(Sydney, Council of the City of Sydney, New So...</td>\n",
       "      <td>-33.869844</td>\n",
       "      <td>151.208285</td>\n",
       "    </tr>\n",
       "  </tbody>\n",
       "</table>\n",
       "<p>500 rows × 16 columns</p>\n",
       "</div>"
      ],
      "text/plain": [
       "                       user_name                  user_location  \\\n",
       "112002                      Luca              Milano, Lombardia   \n",
       "99754               Eleonora San              Tolentino, Marche   \n",
       "28650                Social Mela                   Patna, India   \n",
       "160973             Telugu Bullet                     World Wide   \n",
       "102417            DZMM TeleRadyo  ABS-CBN, Diliman, Quezon City   \n",
       "...                          ...                            ...   \n",
       "50896   Jason 𝑻𝒉𝒆 𝑮𝒆𝒓𝒎 𝑮𝒖𝒚 Tetro                         Canada   \n",
       "133864          Antoine FLAHAULT                    Switzerland   \n",
       "59739           Mario Anderson 📺                  Lexington, KY   \n",
       "172265         David A. Lubarsky                 Sacramento, CA   \n",
       "143376            Will Koulouris             Sydney, Australia.   \n",
       "\n",
       "                                         user_description  \\\n",
       "112002                             Sub Bass Connoisseur 👌   \n",
       "99754   🇮🇹- Assistant Professor in Metallurgy - Additi...   \n",
       "28650   Social Mela is an E-Magazine.  Your daily dose...   \n",
       "160973  Get the latest News on Andhra Pradesh, Telanga...   \n",
       "102417  The Official Twitter news feed of DZMM Radyo P...   \n",
       "...                                                   ...   \n",
       "50896   Host of the TWO TIME award winning Super Aweso...   \n",
       "133864  Prof, MD, PhD, Dir. of the Institute of Global...   \n",
       "59739   Anchor & Reporter @SpectrumNews1KY | Host of #...   \n",
       "172265  CEO of @UCDavisHealth and Vice Chancellor of H...   \n",
       "143376  aus/nz reporter @cnbci @cnbc - will.koulouris@...   \n",
       "\n",
       "               user_created  user_followers  user_friends  user_favourites  \\\n",
       "112002  2019-11-23 18:00:09             225           547             3642   \n",
       "99754   2009-03-03 08:37:57             475          1613             1856   \n",
       "28650   2017-05-12 08:42:43              71           106              645   \n",
       "160973  2016-05-21 11:46:41             731           908                1   \n",
       "102417  2009-11-24 02:03:16         1400867           167              583   \n",
       "...                     ...             ...           ...              ...   \n",
       "50896   2009-04-06 19:13:41           10990          6961            18810   \n",
       "133864  2010-01-30 09:17:50           10909           455             5059   \n",
       "59739   2010-05-29 02:00:28            2073           944            11566   \n",
       "172265  2014-01-24 21:02:04            2693          2399             1523   \n",
       "143376  2015-03-08 02:02:30             398           523              157   \n",
       "\n",
       "        user_verified                 date  \\\n",
       "112002          False  2020-08-12 08:44:21   \n",
       "99754           False  2020-08-10 15:57:22   \n",
       "28650           False  2020-07-27 04:29:05   \n",
       "160973          False  2020-08-22 05:56:10   \n",
       "102417           True  2020-08-10 15:13:05   \n",
       "...               ...                  ...   \n",
       "50896            True  2020-07-31 17:19:16   \n",
       "133864          False  2020-08-16 08:20:14   \n",
       "59739           False  2020-08-02 21:33:50   \n",
       "172265          False  2020-08-30 03:32:16   \n",
       "143376           True  2020-08-17 06:27:44   \n",
       "\n",
       "                                                     text  \\\n",
       "112002  hmmm im starting to sense people are reaching ...   \n",
       "99754          this tells us pretty much everything about   \n",
       "28650   highest singleday spike of 49931 cases mark wi...   \n",
       "160973  subdued start to onam celebrations in kerala a...   \n",
       "102417  duterte by december in fullness of gods time w...   \n",
       "...                                                   ...   \n",
       "50896   the report on the outbreak at a camp has the s...   \n",
       "133864  46 florida reported 6352 new cases on aug 15 3...   \n",
       "59739   80220 update from s office 463 new positive ca...   \n",
       "172265  we are lucky to have as a leader in here while...   \n",
       "143376  the impact playing its part to crimp fy20 resu...   \n",
       "\n",
       "                                         hashtags               source  \\\n",
       "112002                    ['covid19', 'ToryLies']  Twitter for Android   \n",
       "99754   ['COVID19', 'WearADamnMask', 'WearAMask']   Twitter for iPhone   \n",
       "28650                                 ['COVID19']   Twitter for iPhone   \n",
       "160973                        ['covid19', 'onam']       Hootsuite Inc.   \n",
       "102417                                ['COVID19']            TweetDeck   \n",
       "...                                           ...                  ...   \n",
       "50896      ['COVID19', 'SARSCoV2', 'coronavirus']  Twitter for Android   \n",
       "133864                                ['COVID19']      Twitter Web App   \n",
       "59739                                 ['COVID19']  Twitter for Android   \n",
       "172265                           ['Telemedicine']      Twitter Web App   \n",
       "143376                                ['COVID19']      Twitter Web App   \n",
       "\n",
       "        is_retweet                                           location  \\\n",
       "112002       False  (Milano, Lombardia, Italia, (45.4641943, 9.189...   \n",
       "99754        False  (Tolentino, Macerata, Marche, 62029, Italia, (...   \n",
       "28650        False  (Patna, Patna Rural, Patna District, Bihar, 80...   \n",
       "160973       False                                               None   \n",
       "102417       False  (Millennium Transmitter, Mother Ignacia Avenue...   \n",
       "...            ...                                                ...   \n",
       "50896        False                (Canada, (61.0666922, -107.991707))   \n",
       "133864       False  (Schweiz/Suisse/Svizzera/Svizra, (46.7985624, ...   \n",
       "59739        False  (Lexington, Fayette County, Kentucky, United S...   \n",
       "172265       False  (Sacramento, Sacramento County, CAL Fire North...   \n",
       "143376       False  (Sydney, Council of the City of Sydney, New So...   \n",
       "\n",
       "              Lat         Lon  \n",
       "112002  45.464194    9.189635  \n",
       "99754   43.208755   13.284410  \n",
       "28650   25.609324   85.123525  \n",
       "160973        NaN         NaN  \n",
       "102417  14.640588  121.036681  \n",
       "...           ...         ...  \n",
       "50896   61.066692 -107.991707  \n",
       "133864  46.798562    8.231974  \n",
       "59739   38.046407  -84.497039  \n",
       "172265  38.581061 -121.493895  \n",
       "143376 -33.869844  151.208285  \n",
       "\n",
       "[500 rows x 16 columns]"
      ]
     },
     "execution_count": 19,
     "metadata": {},
     "output_type": "execute_result"
    }
   ],
   "source": [
    "# Display the new modified DataFrame 'tweetsample' in the notebook\n",
    "tweetsample"
   ]
  },
  {
   "cell_type": "code",
   "execution_count": 48,
   "metadata": {},
   "outputs": [
    {
     "data": {
      "text/html": [
       "<div>\n",
       "<style scoped>\n",
       "    .dataframe tbody tr th:only-of-type {\n",
       "        vertical-align: middle;\n",
       "    }\n",
       "\n",
       "    .dataframe tbody tr th {\n",
       "        vertical-align: top;\n",
       "    }\n",
       "\n",
       "    .dataframe thead th {\n",
       "        text-align: right;\n",
       "    }\n",
       "</style>\n",
       "<table border=\"1\" class=\"dataframe\">\n",
       "  <thead>\n",
       "    <tr style=\"text-align: right;\">\n",
       "      <th></th>\n",
       "      <th>user_name</th>\n",
       "      <th>user_location</th>\n",
       "      <th>user_description</th>\n",
       "      <th>user_created</th>\n",
       "      <th>user_followers</th>\n",
       "      <th>user_friends</th>\n",
       "      <th>user_favourites</th>\n",
       "      <th>user_verified</th>\n",
       "      <th>date</th>\n",
       "      <th>text</th>\n",
       "      <th>hashtags</th>\n",
       "      <th>source</th>\n",
       "      <th>is_retweet</th>\n",
       "      <th>location</th>\n",
       "      <th>Lat</th>\n",
       "      <th>Lon</th>\n",
       "      <th>polarity</th>\n",
       "      <th>subjectivity</th>\n",
       "    </tr>\n",
       "  </thead>\n",
       "  <tbody>\n",
       "    <tr>\n",
       "      <th>112002</th>\n",
       "      <td>Luca</td>\n",
       "      <td>Milano, Lombardia</td>\n",
       "      <td>Sub Bass Connoisseur 👌</td>\n",
       "      <td>2019-11-23 18:00:09</td>\n",
       "      <td>225</td>\n",
       "      <td>547</td>\n",
       "      <td>3642</td>\n",
       "      <td>False</td>\n",
       "      <td>2020-08-12 08:44:21</td>\n",
       "      <td>hmmm im starting to sense people are reaching ...</td>\n",
       "      <td>['covid19', 'ToryLies']</td>\n",
       "      <td>Twitter for Android</td>\n",
       "      <td>False</td>\n",
       "      <td>(Milano, Lombardia, Italia, (45.4641943, 9.189...</td>\n",
       "      <td>45.464194</td>\n",
       "      <td>9.189635</td>\n",
       "      <td>-0.066667</td>\n",
       "      <td>0.088889</td>\n",
       "    </tr>\n",
       "    <tr>\n",
       "      <th>99754</th>\n",
       "      <td>Eleonora San</td>\n",
       "      <td>Tolentino, Marche</td>\n",
       "      <td>🇮🇹- Assistant Professor in Metallurgy - Additi...</td>\n",
       "      <td>2009-03-03 08:37:57</td>\n",
       "      <td>475</td>\n",
       "      <td>1613</td>\n",
       "      <td>1856</td>\n",
       "      <td>False</td>\n",
       "      <td>2020-08-10 15:57:22</td>\n",
       "      <td>this tells us pretty much everything about</td>\n",
       "      <td>['COVID19', 'WearADamnMask', 'WearAMask']</td>\n",
       "      <td>Twitter for iPhone</td>\n",
       "      <td>False</td>\n",
       "      <td>(Tolentino, Macerata, Marche, 62029, Italia, (...</td>\n",
       "      <td>43.208755</td>\n",
       "      <td>13.284410</td>\n",
       "      <td>0.225000</td>\n",
       "      <td>0.600000</td>\n",
       "    </tr>\n",
       "    <tr>\n",
       "      <th>28650</th>\n",
       "      <td>Social Mela</td>\n",
       "      <td>Patna, India</td>\n",
       "      <td>Social Mela is an E-Magazine.  Your daily dose...</td>\n",
       "      <td>2017-05-12 08:42:43</td>\n",
       "      <td>71</td>\n",
       "      <td>106</td>\n",
       "      <td>645</td>\n",
       "      <td>False</td>\n",
       "      <td>2020-07-27 04:29:05</td>\n",
       "      <td>highest singleday spike of 49931 cases mark wi...</td>\n",
       "      <td>['COVID19']</td>\n",
       "      <td>Twitter for iPhone</td>\n",
       "      <td>False</td>\n",
       "      <td>(Patna, Patna Rural, Patna District, Bihar, 80...</td>\n",
       "      <td>25.609324</td>\n",
       "      <td>85.123525</td>\n",
       "      <td>0.000000</td>\n",
       "      <td>0.408333</td>\n",
       "    </tr>\n",
       "    <tr>\n",
       "      <th>102417</th>\n",
       "      <td>DZMM TeleRadyo</td>\n",
       "      <td>ABS-CBN, Diliman, Quezon City</td>\n",
       "      <td>The Official Twitter news feed of DZMM Radyo P...</td>\n",
       "      <td>2009-11-24 02:03:16</td>\n",
       "      <td>1400867</td>\n",
       "      <td>167</td>\n",
       "      <td>583</td>\n",
       "      <td>True</td>\n",
       "      <td>2020-08-10 15:13:05</td>\n",
       "      <td>duterte by december in fullness of gods time w...</td>\n",
       "      <td>['COVID19']</td>\n",
       "      <td>TweetDeck</td>\n",
       "      <td>False</td>\n",
       "      <td>(Millennium Transmitter, Mother Ignacia Avenue...</td>\n",
       "      <td>14.640588</td>\n",
       "      <td>121.036681</td>\n",
       "      <td>0.400000</td>\n",
       "      <td>0.800000</td>\n",
       "    </tr>\n",
       "    <tr>\n",
       "      <th>102285</th>\n",
       "      <td>سليمان بن خالد</td>\n",
       "      <td>Kingdom of Saudi Arabia</td>\n",
       "      <td>نقطةة</td>\n",
       "      <td>2014-07-13 13:30:12</td>\n",
       "      <td>41</td>\n",
       "      <td>78</td>\n",
       "      <td>14</td>\n",
       "      <td>False</td>\n",
       "      <td>2020-08-10 15:15:06</td>\n",
       "      <td>dont hesitate to call 937 of you are feeling a...</td>\n",
       "      <td>['COVIDー19']</td>\n",
       "      <td>Twitter for iPhone</td>\n",
       "      <td>False</td>\n",
       "      <td>(السعودية, (25.6242618, 42.3528328))</td>\n",
       "      <td>25.624262</td>\n",
       "      <td>42.352833</td>\n",
       "      <td>0.500000</td>\n",
       "      <td>0.888889</td>\n",
       "    </tr>\n",
       "    <tr>\n",
       "      <th>...</th>\n",
       "      <td>...</td>\n",
       "      <td>...</td>\n",
       "      <td>...</td>\n",
       "      <td>...</td>\n",
       "      <td>...</td>\n",
       "      <td>...</td>\n",
       "      <td>...</td>\n",
       "      <td>...</td>\n",
       "      <td>...</td>\n",
       "      <td>...</td>\n",
       "      <td>...</td>\n",
       "      <td>...</td>\n",
       "      <td>...</td>\n",
       "      <td>...</td>\n",
       "      <td>...</td>\n",
       "      <td>...</td>\n",
       "      <td>...</td>\n",
       "      <td>...</td>\n",
       "    </tr>\n",
       "    <tr>\n",
       "      <th>50896</th>\n",
       "      <td>Jason 𝑻𝒉𝒆 𝑮𝒆𝒓𝒎 𝑮𝒖𝒚 Tetro</td>\n",
       "      <td>Canada</td>\n",
       "      <td>Host of the TWO TIME award winning Super Aweso...</td>\n",
       "      <td>2009-04-06 19:13:41</td>\n",
       "      <td>10990</td>\n",
       "      <td>6961</td>\n",
       "      <td>18810</td>\n",
       "      <td>True</td>\n",
       "      <td>2020-07-31 17:19:16</td>\n",
       "      <td>the report on the outbreak at a camp has the s...</td>\n",
       "      <td>['COVID19', 'SARSCoV2', 'coronavirus']</td>\n",
       "      <td>Twitter for Android</td>\n",
       "      <td>False</td>\n",
       "      <td>(Canada, (61.0666922, -107.991707))</td>\n",
       "      <td>61.066692</td>\n",
       "      <td>-107.991707</td>\n",
       "      <td>0.000000</td>\n",
       "      <td>0.125000</td>\n",
       "    </tr>\n",
       "    <tr>\n",
       "      <th>133864</th>\n",
       "      <td>Antoine FLAHAULT</td>\n",
       "      <td>Switzerland</td>\n",
       "      <td>Prof, MD, PhD, Dir. of the Institute of Global...</td>\n",
       "      <td>2010-01-30 09:17:50</td>\n",
       "      <td>10909</td>\n",
       "      <td>455</td>\n",
       "      <td>5059</td>\n",
       "      <td>False</td>\n",
       "      <td>2020-08-16 08:20:14</td>\n",
       "      <td>46 florida reported 6352 new cases on aug 15 3...</td>\n",
       "      <td>['COVID19']</td>\n",
       "      <td>Twitter Web App</td>\n",
       "      <td>False</td>\n",
       "      <td>(Schweiz/Suisse/Svizzera/Svizra, (46.7985624, ...</td>\n",
       "      <td>46.798562</td>\n",
       "      <td>8.231974</td>\n",
       "      <td>0.136364</td>\n",
       "      <td>0.454545</td>\n",
       "    </tr>\n",
       "    <tr>\n",
       "      <th>59739</th>\n",
       "      <td>Mario Anderson 📺</td>\n",
       "      <td>Lexington, KY</td>\n",
       "      <td>Anchor &amp; Reporter @SpectrumNews1KY | Host of #...</td>\n",
       "      <td>2010-05-29 02:00:28</td>\n",
       "      <td>2073</td>\n",
       "      <td>944</td>\n",
       "      <td>11566</td>\n",
       "      <td>False</td>\n",
       "      <td>2020-08-02 21:33:50</td>\n",
       "      <td>80220 update from s office 463 new positive ca...</td>\n",
       "      <td>['COVID19']</td>\n",
       "      <td>Twitter for Android</td>\n",
       "      <td>False</td>\n",
       "      <td>(Lexington, Fayette County, Kentucky, United S...</td>\n",
       "      <td>38.046407</td>\n",
       "      <td>-84.497039</td>\n",
       "      <td>0.166667</td>\n",
       "      <td>0.484848</td>\n",
       "    </tr>\n",
       "    <tr>\n",
       "      <th>172265</th>\n",
       "      <td>David A. Lubarsky</td>\n",
       "      <td>Sacramento, CA</td>\n",
       "      <td>CEO of @UCDavisHealth and Vice Chancellor of H...</td>\n",
       "      <td>2014-01-24 21:02:04</td>\n",
       "      <td>2693</td>\n",
       "      <td>2399</td>\n",
       "      <td>1523</td>\n",
       "      <td>False</td>\n",
       "      <td>2020-08-30 03:32:16</td>\n",
       "      <td>we are lucky to have as a leader in here while...</td>\n",
       "      <td>['Telemedicine']</td>\n",
       "      <td>Twitter Web App</td>\n",
       "      <td>False</td>\n",
       "      <td>(Sacramento, Sacramento County, CAL Fire North...</td>\n",
       "      <td>38.581061</td>\n",
       "      <td>-121.493895</td>\n",
       "      <td>0.333333</td>\n",
       "      <td>0.833333</td>\n",
       "    </tr>\n",
       "    <tr>\n",
       "      <th>143376</th>\n",
       "      <td>Will Koulouris</td>\n",
       "      <td>Sydney, Australia.</td>\n",
       "      <td>aus/nz reporter @cnbci @cnbc - will.koulouris@...</td>\n",
       "      <td>2015-03-08 02:02:30</td>\n",
       "      <td>398</td>\n",
       "      <td>523</td>\n",
       "      <td>157</td>\n",
       "      <td>True</td>\n",
       "      <td>2020-08-17 06:27:44</td>\n",
       "      <td>the impact playing its part to crimp fy20 resu...</td>\n",
       "      <td>['COVID19']</td>\n",
       "      <td>Twitter Web App</td>\n",
       "      <td>False</td>\n",
       "      <td>(Sydney, Council of the City of Sydney, New So...</td>\n",
       "      <td>-33.869844</td>\n",
       "      <td>151.208285</td>\n",
       "      <td>0.000000</td>\n",
       "      <td>0.000000</td>\n",
       "    </tr>\n",
       "  </tbody>\n",
       "</table>\n",
       "<p>446 rows × 18 columns</p>\n",
       "</div>"
      ],
      "text/plain": [
       "                       user_name                  user_location  \\\n",
       "112002                      Luca              Milano, Lombardia   \n",
       "99754               Eleonora San              Tolentino, Marche   \n",
       "28650                Social Mela                   Patna, India   \n",
       "102417            DZMM TeleRadyo  ABS-CBN, Diliman, Quezon City   \n",
       "102285            سليمان بن خالد        Kingdom of Saudi Arabia   \n",
       "...                          ...                            ...   \n",
       "50896   Jason 𝑻𝒉𝒆 𝑮𝒆𝒓𝒎 𝑮𝒖𝒚 Tetro                         Canada   \n",
       "133864          Antoine FLAHAULT                    Switzerland   \n",
       "59739           Mario Anderson 📺                  Lexington, KY   \n",
       "172265         David A. Lubarsky                 Sacramento, CA   \n",
       "143376            Will Koulouris             Sydney, Australia.   \n",
       "\n",
       "                                         user_description  \\\n",
       "112002                             Sub Bass Connoisseur 👌   \n",
       "99754   🇮🇹- Assistant Professor in Metallurgy - Additi...   \n",
       "28650   Social Mela is an E-Magazine.  Your daily dose...   \n",
       "102417  The Official Twitter news feed of DZMM Radyo P...   \n",
       "102285                                              نقطةة   \n",
       "...                                                   ...   \n",
       "50896   Host of the TWO TIME award winning Super Aweso...   \n",
       "133864  Prof, MD, PhD, Dir. of the Institute of Global...   \n",
       "59739   Anchor & Reporter @SpectrumNews1KY | Host of #...   \n",
       "172265  CEO of @UCDavisHealth and Vice Chancellor of H...   \n",
       "143376  aus/nz reporter @cnbci @cnbc - will.koulouris@...   \n",
       "\n",
       "               user_created  user_followers  user_friends  user_favourites  \\\n",
       "112002  2019-11-23 18:00:09             225           547             3642   \n",
       "99754   2009-03-03 08:37:57             475          1613             1856   \n",
       "28650   2017-05-12 08:42:43              71           106              645   \n",
       "102417  2009-11-24 02:03:16         1400867           167              583   \n",
       "102285  2014-07-13 13:30:12              41            78               14   \n",
       "...                     ...             ...           ...              ...   \n",
       "50896   2009-04-06 19:13:41           10990          6961            18810   \n",
       "133864  2010-01-30 09:17:50           10909           455             5059   \n",
       "59739   2010-05-29 02:00:28            2073           944            11566   \n",
       "172265  2014-01-24 21:02:04            2693          2399             1523   \n",
       "143376  2015-03-08 02:02:30             398           523              157   \n",
       "\n",
       "        user_verified                 date  \\\n",
       "112002          False  2020-08-12 08:44:21   \n",
       "99754           False  2020-08-10 15:57:22   \n",
       "28650           False  2020-07-27 04:29:05   \n",
       "102417           True  2020-08-10 15:13:05   \n",
       "102285          False  2020-08-10 15:15:06   \n",
       "...               ...                  ...   \n",
       "50896            True  2020-07-31 17:19:16   \n",
       "133864          False  2020-08-16 08:20:14   \n",
       "59739           False  2020-08-02 21:33:50   \n",
       "172265          False  2020-08-30 03:32:16   \n",
       "143376           True  2020-08-17 06:27:44   \n",
       "\n",
       "                                                     text  \\\n",
       "112002  hmmm im starting to sense people are reaching ...   \n",
       "99754          this tells us pretty much everything about   \n",
       "28650   highest singleday spike of 49931 cases mark wi...   \n",
       "102417  duterte by december in fullness of gods time w...   \n",
       "102285  dont hesitate to call 937 of you are feeling a...   \n",
       "...                                                   ...   \n",
       "50896   the report on the outbreak at a camp has the s...   \n",
       "133864  46 florida reported 6352 new cases on aug 15 3...   \n",
       "59739   80220 update from s office 463 new positive ca...   \n",
       "172265  we are lucky to have as a leader in here while...   \n",
       "143376  the impact playing its part to crimp fy20 resu...   \n",
       "\n",
       "                                         hashtags               source  \\\n",
       "112002                    ['covid19', 'ToryLies']  Twitter for Android   \n",
       "99754   ['COVID19', 'WearADamnMask', 'WearAMask']   Twitter for iPhone   \n",
       "28650                                 ['COVID19']   Twitter for iPhone   \n",
       "102417                                ['COVID19']            TweetDeck   \n",
       "102285                               ['COVIDー19']   Twitter for iPhone   \n",
       "...                                           ...                  ...   \n",
       "50896      ['COVID19', 'SARSCoV2', 'coronavirus']  Twitter for Android   \n",
       "133864                                ['COVID19']      Twitter Web App   \n",
       "59739                                 ['COVID19']  Twitter for Android   \n",
       "172265                           ['Telemedicine']      Twitter Web App   \n",
       "143376                                ['COVID19']      Twitter Web App   \n",
       "\n",
       "        is_retweet                                           location  \\\n",
       "112002       False  (Milano, Lombardia, Italia, (45.4641943, 9.189...   \n",
       "99754        False  (Tolentino, Macerata, Marche, 62029, Italia, (...   \n",
       "28650        False  (Patna, Patna Rural, Patna District, Bihar, 80...   \n",
       "102417       False  (Millennium Transmitter, Mother Ignacia Avenue...   \n",
       "102285       False               (السعودية, (25.6242618, 42.3528328))   \n",
       "...            ...                                                ...   \n",
       "50896        False                (Canada, (61.0666922, -107.991707))   \n",
       "133864       False  (Schweiz/Suisse/Svizzera/Svizra, (46.7985624, ...   \n",
       "59739        False  (Lexington, Fayette County, Kentucky, United S...   \n",
       "172265       False  (Sacramento, Sacramento County, CAL Fire North...   \n",
       "143376       False  (Sydney, Council of the City of Sydney, New So...   \n",
       "\n",
       "              Lat         Lon  polarity  subjectivity  \n",
       "112002  45.464194    9.189635 -0.066667      0.088889  \n",
       "99754   43.208755   13.284410  0.225000      0.600000  \n",
       "28650   25.609324   85.123525  0.000000      0.408333  \n",
       "102417  14.640588  121.036681  0.400000      0.800000  \n",
       "102285  25.624262   42.352833  0.500000      0.888889  \n",
       "...           ...         ...       ...           ...  \n",
       "50896   61.066692 -107.991707  0.000000      0.125000  \n",
       "133864  46.798562    8.231974  0.136364      0.454545  \n",
       "59739   38.046407  -84.497039  0.166667      0.484848  \n",
       "172265  38.581061 -121.493895  0.333333      0.833333  \n",
       "143376 -33.869844  151.208285  0.000000      0.000000  \n",
       "\n",
       "[446 rows x 18 columns]"
      ]
     },
     "execution_count": 48,
     "metadata": {},
     "output_type": "execute_result"
    }
   ],
   "source": [
    "# Remove any rows from the DataFrame 'tweetsample' that contain missing values (NaN)\n",
    "tweetsample.dropna()"
   ]
  },
  {
   "cell_type": "code",
   "execution_count": 49,
   "metadata": {},
   "outputs": [
    {
     "data": {
      "text/plain": [
       "Index(['user_name', 'user_location', 'user_description', 'user_created',\n",
       "       'user_followers', 'user_friends', 'user_favourites', 'user_verified',\n",
       "       'date', 'text', 'hashtags', 'source', 'is_retweet', 'location', 'Lat',\n",
       "       'Lon', 'polarity', 'subjectivity'],\n",
       "      dtype='object')"
      ]
     },
     "execution_count": 49,
     "metadata": {},
     "output_type": "execute_result"
    }
   ],
   "source": [
    "\n",
    "tweetsample.columns"
   ]
  },
  {
   "cell_type": "markdown",
   "metadata": {},
   "source": [
    "# Task 2.3 Polarity analysis"
   ]
  },
  {
   "cell_type": "code",
   "execution_count": 74,
   "metadata": {},
   "outputs": [
    {
     "data": {
      "application/vnd.jupyter.widget-view+json": {
       "model_id": "8b054e8db66242ab9a1749329e245ca1",
       "version_major": 2,
       "version_minor": 0
      },
      "text/plain": [
       "interactive(children=(FloatSlider(value=-1.0, continuous_update=False, description='Min Avg Polarity:', max=1.…"
      ]
     },
     "metadata": {},
     "output_type": "display_data"
    },
    {
     "data": {
      "text/plain": [
       "<function __main__.create_map(min_avg_polarity)>"
      ]
     },
     "execution_count": 74,
     "metadata": {},
     "output_type": "execute_result"
    }
   ],
   "source": [
    "# Import necessary libraries\n",
    "import folium\n",
    "import ipywidgets as widgets\n",
    "from IPython.display import display\n",
    "from collections import defaultdict\n",
    "import math\n",
    "\n",
    "# Enable inline plotting for Jupyter Notebook\n",
    "%matplotlib inline\n",
    "\n",
    "# Define the get_polarity() function that takes a text input and returns its polarity using TextBlob\n",
    "def get_polarity(txt):\n",
    "    return TextBlob(txt).sentiment.polarity\n",
    "\n",
    "# Calculate polarities of tweets\n",
    "tweetsample['polarity'] = tweetsample['text'].apply(get_polarity)\n",
    "\n",
    "# Aggregate polarities by location\n",
    "location_polarity = defaultdict(list)\n",
    "for index, row in tweetsample.iterrows():\n",
    "    lat_lon = (row['Lat'], row['Lon'])\n",
    "    polarity = row['polarity']\n",
    "    location_polarity[lat_lon].append(polarity)\n",
    "\n",
    "# Define the create_map() function that takes a minimum average polarity as an input\n",
    "def create_map(min_avg_polarity):\n",
    "    # Calculate the average polarity for each location\n",
    "    location_avg_polarity = {loc: sum(pol_list) / len(pol_list) for loc, pol_list in location_polarity.items()}\n",
    "\n",
    "    # Initialize the map with a starting point\n",
    "    m = folium.Map(location=[40, -100], zoom_start=4)\n",
    "\n",
    "    # Iterate through the locations and add circle markers with polarity values if they meet the minimum average polarity\n",
    "    for location, avg_polarity in location_avg_polarity.items():\n",
    "        lat, lon = location\n",
    "        if not (math.isnan(lat) or math.isnan(lon)) and avg_polarity >= min_avg_polarity:\n",
    "            color = \"green\" if avg_polarity > 0 else \"red\" if avg_polarity < 0 else \"gray\"\n",
    "            folium.CircleMarker(\n",
    "                location=location,\n",
    "                radius=5,\n",
    "                popup=f\"Average polarity: {avg_polarity:.2f}\",\n",
    "                color=color,\n",
    "                fill=True,\n",
    "                fill_color=color,\n",
    "                fill_opacity=0.7\n",
    "            ).add_to(m)\n",
    "\n",
    "    return m\n",
    "\n",
    "# Create a slider widget for minimum average polarity\n",
    "min_polarity_slider = widgets.FloatSlider(\n",
    "    value=-1,\n",
    "    min=-1,\n",
    "    max=1,\n",
    "    step=0.01,\n",
    "    description=\"Min Avg Polarity:\",\n",
    "    continuous_update=False\n",
    ")\n",
    "\n",
    "# Use the interact function to update the map based on the selected minimum average polarity\n",
    "widgets.interact(create_map, min_avg_polarity=min_polarity_slider)"
   ]
  },
  {
   "cell_type": "markdown",
   "metadata": {},
   "source": [
    "# Task 2.4 Subjectivity analysis"
   ]
  },
  {
   "cell_type": "code",
   "execution_count": 76,
   "metadata": {},
   "outputs": [
    {
     "data": {
      "application/vnd.jupyter.widget-view+json": {
       "model_id": "d88e98d9a46e42d592f900551d048e10",
       "version_major": 2,
       "version_minor": 0
      },
      "text/plain": [
       "interactive(children=(FloatSlider(value=0.0, continuous_update=False, description='Min Avg Subjectivity:', max…"
      ]
     },
     "metadata": {},
     "output_type": "display_data"
    },
    {
     "data": {
      "text/plain": [
       "<function __main__.create_map(min_avg_subjectivity)>"
      ]
     },
     "execution_count": 76,
     "metadata": {},
     "output_type": "execute_result"
    }
   ],
   "source": [
    "# Enable inline plotting for Jupyter Notebook\n",
    "%matplotlib inline\n",
    "\n",
    "# Function to get subjectivity of a text\n",
    "def get_subjectivity(txt):\n",
    "    return TextBlob(txt).sentiment.subjectivity\n",
    "\n",
    "# Calculate subjectivity of tweets\n",
    "tweetsample['subjectivity'] = tweetsample['text'].apply(get_subjectivity)\n",
    "\n",
    "# Aggregate subjectivities by location\n",
    "location_subjectivity = defaultdict(list)\n",
    "for index, row in tweetsample.iterrows():\n",
    "    lat_lon = (row['Lat'], row['Lon'])\n",
    "    subjectivity = row['subjectivity']\n",
    "    location_subjectivity[lat_lon].append(subjectivity)\n",
    "\n",
    "# Function to create a map based on minimum average subjectivity\n",
    "def create_map(min_avg_subjectivity):\n",
    "    # Calculate the average subjectivity for each location\n",
    "    location_avg_subjectivity = {loc: sum(sub_list) / len(sub_list) for loc, sub_list in location_subjectivity.items()}\n",
    "\n",
    "    # Initialize the map with a starting point\n",
    "    m = folium.Map(location=[40, -100], zoom_start=4)\n",
    "\n",
    "    # Iterate through the locations and add circle markers with subjectivity values if they meet the minimum average subjectivity\n",
    "    for location, avg_subjectivity in location_avg_subjectivity.items():\n",
    "        lat, lon = location\n",
    "        if not (math.isnan(lat) or math.isnan(lon)) and avg_subjectivity >= min_avg_subjectivity:\n",
    "            # Determine the color of the marker based on the average subjectivity\n",
    "            color = \"blue\" if avg_subjectivity > 0.5 else \"yellow\" if avg_subjectivity <= 0.5 else \"gray\"\n",
    "            # Create a CircleMarker with the location, radius, popup, and color\n",
    "            folium.CircleMarker(\n",
    "                location=location,\n",
    "                radius=5,\n",
    "                popup=f\"Average subjectivity: {avg_subjectivity:.2f}\",\n",
    "                color=color,\n",
    "                fill=True,\n",
    "                fill_color=color,\n",
    "                fill_opacity=0.7\n",
    "            ).add_to(m)\n",
    "\n",
    "    return m\n",
    "\n",
    "# Create interactive widget for minimum average subjectivity\n",
    "min_subjectivity_slider = widgets.FloatSlider(\n",
    "    value=0,\n",
    "    min=0,\n",
    "    max=1,\n",
    "    step=0.01,\n",
    "    description=\"Min Avg Subjectivity:\",\n",
    "    continuous_update=False\n",
    ")\n",
    "\n",
    "# Use the interact function to update the map based on the selected minimum average subjectivity\n",
    "widgets.interact(create_map, min_avg_subjectivity=min_subjectivity_slider)"
   ]
  },
  {
   "cell_type": "code",
   "execution_count": 77,
   "metadata": {},
   "outputs": [
    {
     "data": {
      "application/vnd.plotly.v1+json": {
       "config": {
        "plotlyServerURL": "https://plot.ly"
       },
       "data": [
        {
         "customdata": [
          [
           -0.06666666666666667,
           0.0888888888888889
          ],
          [
           0.225,
           0.6
          ],
          [
           0,
           0.4083333333333333
          ],
          [
           0,
           0
          ],
          [
           0.4,
           0.8
          ],
          [
           0.5,
           0.8888888888888888
          ],
          [
           -0.025,
           0.2
          ],
          [
           0,
           0
          ],
          [
           0.1,
           1
          ],
          [
           -0.35,
           0.1
          ],
          [
           2.7755575615628914e-17,
           0.33333333333333337
          ],
          [
           -0.25,
           0.5
          ],
          [
           0.06818181818181818,
           0.22727272727272727
          ],
          [
           0.13636363636363635,
           0.45454545454545453
          ],
          [
           0.13636363636363635,
           0.5
          ],
          [
           -0.3333333333333333,
           0.6666666666666666
          ],
          [
           -0.09523809523809523,
           0.6976190476190476
          ],
          [
           0,
           0
          ],
          [
           0,
           0
          ],
          [
           0.15,
           0.65
          ],
          [
           0,
           0
          ],
          [
           0.03585858585858584,
           0.4171717171717172
          ],
          [
           0.2681818181818182,
           0.7272727272727273
          ],
          [
           0.25,
           0.3333333333333333
          ],
          [
           -0.04000000000000001,
           0.6166666666666666
          ],
          [
           0.22424242424242424,
           0.6363636363636364
          ],
          [
           0,
           0
          ],
          [
           0,
           0
          ],
          [
           0.5,
           0.5
          ],
          [
           0.6,
           1
          ],
          [
           0.7,
           0.6000000000000001
          ],
          [
           -0.125,
           0.375
          ],
          [
           0,
           0
          ],
          [
           0,
           0
          ],
          [
           0.09814814814814815,
           0.39629629629629637
          ],
          [
           0.27777777777777773,
           0.3333333333333333
          ],
          [
           0.14242424242424243,
           0.3151515151515151
          ],
          [
           -0.25,
           0.4
          ],
          [
           0.13333333333333336,
           0.39999999999999997
          ],
          [
           0.26666666666666666,
           0.4583333333333333
          ],
          [
           0,
           0
          ],
          [
           0.03571428571428571,
           0.21428571428571427
          ],
          [
           0.044444444444444446,
           0.22222222222222224
          ],
          [
           0,
           0
          ],
          [
           0.13636363636363635,
           0.45454545454545453
          ],
          [
           0,
           0
          ],
          [
           -0.6,
           1
          ],
          [
           0.45,
           0.55
          ],
          [
           0.7,
           1
          ],
          [
           0,
           0.5
          ],
          [
           0.5499999999999999,
           0.5499999999999999
          ],
          [
           0,
           0
          ],
          [
           0,
           0
          ],
          [
           0,
           0
          ],
          [
           0.25,
           0.25
          ],
          [
           0,
           0
          ],
          [
           -0.09999999999999999,
           0.24166666666666667
          ],
          [
           0,
           0
          ],
          [
           0.22727272727272727,
           0.5454545454545454
          ],
          [
           0.4,
           0.575
          ],
          [
           0,
           0
          ],
          [
           -0.22916666666666666,
           0.6875
          ],
          [
           0,
           0
          ],
          [
           0.25,
           0.25
          ],
          [
           0.5,
           0.7
          ],
          [
           0.375,
           0.4666666666666667
          ],
          [
           0,
           0
          ],
          [
           -0.2,
           0.725
          ],
          [
           0,
           0
          ],
          [
           0,
           0
          ],
          [
           -0.06851851851851853,
           0.32962962962962966
          ],
          [
           0,
           0
          ],
          [
           0.2,
           0.5
          ],
          [
           0.25,
           0.25
          ],
          [
           0.3181818181818182,
           0.5
          ],
          [
           0,
           0
          ],
          [
           0.06818181818181818,
           0.25
          ],
          [
           0,
           0
          ],
          [
           0.26325757575757575,
           0.47348484848484845
          ],
          [
           0,
           0
          ],
          [
           0,
           0
          ],
          [
           -0.11666666666666665,
           0.5333333333333333
          ],
          [
           0.1875,
           0.575
          ],
          [
           0.23863636363636365,
           0.43939393939393934
          ],
          [
           -0.5,
           1
          ],
          [
           0,
           0
          ],
          [
           0.02500000000000001,
           0.2833333333333333
          ],
          [
           0,
           0
          ],
          [
           0.13636363636363635,
           0.45454545454545453
          ],
          [
           -0.25,
           0.5
          ],
          [
           -0.3,
           0.4
          ],
          [
           0.2556818181818182,
           0.6647727272727273
          ],
          [
           0,
           0
          ],
          [
           0.35714285714285715,
           0.5714285714285714
          ],
          [
           0.16666666666666666,
           0.16666666666666666
          ],
          [
           0.6,
           0.8
          ],
          [
           0.505,
           0.8900000000000001
          ],
          [
           0,
           0
          ],
          [
           0,
           0
          ],
          [
           0,
           0
          ],
          [
           0.7,
           0.75
          ],
          [
           -0.13333333333333333,
           0.6
          ],
          [
           0,
           0.1
          ],
          [
           0,
           0.1
          ],
          [
           0,
           0
          ],
          [
           0.43333333333333335,
           0.8333333333333334
          ],
          [
           0,
           0.11111111111111112
          ],
          [
           -0.5,
           1
          ],
          [
           0.03585858585858584,
           0.4171717171717172
          ],
          [
           0.5,
           0.5
          ],
          [
           0.3444444444444445,
           0.48518518518518516
          ],
          [
           0,
           0
          ],
          [
           0.5,
           0.5
          ],
          [
           -0.2,
           0.39999999999999997
          ],
          [
           0.22727272727272727,
           0.5454545454545454
          ],
          [
           0,
           0
          ],
          [
           0.2,
           0.4
          ],
          [
           0,
           0.06666666666666667
          ],
          [
           0.225,
           0.26666666666666666
          ],
          [
           0,
           0
          ],
          [
           0.5,
           0.5
          ],
          [
           -0.007575757575757579,
           0.26515151515151514
          ],
          [
           0,
           0.2
          ],
          [
           0.13636363636363635,
           0.5
          ],
          [
           0.35,
           0.55
          ],
          [
           0,
           0.06666666666666667
          ],
          [
           0,
           0
          ],
          [
           0.3,
           0.5
          ],
          [
           0.45,
           0.45
          ],
          [
           0,
           0
          ],
          [
           0,
           0
          ],
          [
           0,
           0
          ],
          [
           -0.15,
           0.2
          ],
          [
           0.1787878787878788,
           0.5070707070707071
          ],
          [
           0,
           0
          ],
          [
           -0.125,
           0.125
          ],
          [
           0,
           0
          ],
          [
           0.5,
           0.8888888888888888
          ],
          [
           -0.1,
           0.2
          ],
          [
           -0.15000000000000002,
           0.19999999999999998
          ],
          [
           0,
           0
          ],
          [
           0,
           0
          ],
          [
           0.06666666666666667,
           0.6666666666666666
          ],
          [
           0,
           0.07500000000000001
          ],
          [
           0,
           0
          ],
          [
           0,
           0
          ],
          [
           -0.2,
           0.1
          ],
          [
           0.25,
           0.75
          ],
          [
           0,
           0.37777777777777777
          ],
          [
           0.14285714285714285,
           0.7678571428571428
          ],
          [
           0,
           0
          ],
          [
           0,
           0
          ],
          [
           -0.05,
           0.2
          ],
          [
           0.1875,
           0.5875
          ],
          [
           0.2125,
           0.2625
          ],
          [
           0,
           0
          ],
          [
           -0.6,
           0.4
          ],
          [
           -0.2,
           0.4
          ],
          [
           0,
           0
          ],
          [
           0.25,
           0.3333333333333333
          ],
          [
           0.5,
           0.75
          ],
          [
           0,
           0
          ],
          [
           0.37878787878787873,
           0.5
          ],
          [
           -0.25,
           0.25
          ],
          [
           0.08333333333333334,
           0.5833333333333333
          ],
          [
           0,
           0.3214285714285714
          ],
          [
           0,
           0
          ],
          [
           0.5,
           0.5
          ],
          [
           0,
           0
          ],
          [
           0,
           0.5
          ],
          [
           0.5,
           0.5
          ],
          [
           0,
           0.23333333333333334
          ],
          [
           -0.6,
           1
          ],
          [
           0,
           0
          ],
          [
           0.1,
           1
          ],
          [
           0,
           0
          ],
          [
           0,
           0
          ],
          [
           0.13636363636363635,
           0.5
          ],
          [
           0,
           0
          ],
          [
           0.3,
           0.5
          ],
          [
           0.5,
           0.5
          ],
          [
           0.5,
           0.5
          ],
          [
           -0.07692307692307693,
           0.2692307692307692
          ],
          [
           0,
           0
          ],
          [
           0,
           0
          ],
          [
           0,
           0
          ],
          [
           0,
           0
          ],
          [
           0.0625,
           0.5
          ],
          [
           0,
           0
          ],
          [
           0,
           0.3
          ],
          [
           0,
           1
          ],
          [
           -0.3,
           0.4
          ],
          [
           0,
           0
          ],
          [
           0,
           0.5
          ],
          [
           0.1,
           0.9
          ],
          [
           -0.4,
           0.7
          ],
          [
           0.35000000000000003,
           0.575
          ],
          [
           0.4,
           0.65
          ],
          [
           0.005681818181818177,
           0.4147727272727273
          ],
          [
           0,
           0
          ],
          [
           0,
           0
          ],
          [
           0.4,
           0.8
          ],
          [
           0,
           0
          ],
          [
           0,
           0
          ],
          [
           -0.11363636363636363,
           0.5454545454545454
          ],
          [
           -0.125,
           0.375
          ],
          [
           0.06818181818181818,
           0.6022727272727273
          ],
          [
           0.5,
           0.5
          ],
          [
           0,
           0
          ],
          [
           0,
           0
          ],
          [
           0.25,
           0.4375
          ],
          [
           0.25,
           0.3
          ],
          [
           -0.35,
           0.3666666666666667
          ],
          [
           0.5,
           0.5
          ],
          [
           0,
           0
          ],
          [
           -0.5,
           1
          ],
          [
           0.5,
           0.5
          ],
          [
           0,
           0.05
          ],
          [
           -0.25,
           0.45
          ],
          [
           0,
           0
          ],
          [
           0,
           0
          ],
          [
           -0.125,
           0.5694444444444444
          ],
          [
           0,
           0
          ],
          [
           0.13636363636363635,
           0.45454545454545453
          ],
          [
           0,
           0
          ],
          [
           0,
           0
          ],
          [
           -0.375,
           1
          ],
          [
           0,
           0
          ],
          [
           0,
           0
          ],
          [
           0,
           0
          ],
          [
           -0.15000000000000002,
           0.23846153846153845
          ],
          [
           0.5,
           0.5
          ],
          [
           0.48750000000000004,
           0.9750000000000001
          ],
          [
           0.13636363636363635,
           0.45454545454545453
          ],
          [
           0,
           0
          ],
          [
           0,
           0.3
          ],
          [
           -0.125,
           0.375
          ],
          [
           0,
           0
          ],
          [
           0,
           0
          ],
          [
           0,
           0
          ],
          [
           -0.4,
           0.6
          ],
          [
           0,
           0.6
          ],
          [
           0,
           0
          ],
          [
           0,
           0
          ],
          [
           0.12121212121212122,
           0.5833333333333334
          ],
          [
           0,
           0
          ],
          [
           0,
           0
          ],
          [
           0.19999999999999998,
           0.5083333333333333
          ],
          [
           0.35714285714285715,
           0.5714285714285714
          ],
          [
           -0.07222222222222226,
           0.4388888888888889
          ],
          [
           0.09583333333333333,
           0.24583333333333335
          ],
          [
           0.2,
           0.2
          ],
          [
           0,
           0
          ],
          [
           0.06818181818181818,
           0.42727272727272725
          ],
          [
           0.2857142857142857,
           0.5357142857142857
          ],
          [
           0,
           0
          ],
          [
           0.5,
           0.6
          ],
          [
           0.4,
           0.775
          ],
          [
           -0.4,
           0.6
          ],
          [
           0,
           0
          ],
          [
           0.5,
           0.5
          ],
          [
           0,
           0
          ],
          [
           0.4125,
           0.5625
          ],
          [
           0.35,
           0.55
          ],
          [
           0.3,
           0.55
          ],
          [
           -0.2,
           0.5166666666666666
          ],
          [
           -0.16666666666666666,
           0.43333333333333335
          ],
          [
           0,
           0
          ],
          [
           -0.075,
           0.575
          ],
          [
           -0.05681818181818182,
           0.3522727272727273
          ],
          [
           0.5,
           1
          ],
          [
           0.5,
           1
          ],
          [
           0,
           0
          ],
          [
           0.025000000000000005,
           0.075
          ],
          [
           0,
           0
          ],
          [
           0.031313131313131314,
           0.5151515151515151
          ],
          [
           0.8,
           0.7
          ],
          [
           0.24999999999999997,
           0.30000000000000004
          ],
          [
           0,
           0
          ],
          [
           0.375,
           0.55
          ],
          [
           0,
           0.5
          ],
          [
           0,
           0
          ],
          [
           0,
           0
          ],
          [
           0,
           0
          ],
          [
           0.4,
           0.5
          ],
          [
           0.13636363636363635,
           0.45454545454545453
          ],
          [
           0.4,
           0.375
          ],
          [
           0.25,
           0.45
          ],
          [
           0,
           0.25
          ],
          [
           0,
           0.06666666666666667
          ],
          [
           0,
           0
          ],
          [
           -0.011742424242424249,
           0.5803030303030303
          ],
          [
           0.06818181818181818,
           0.22727272727272727
          ],
          [
           0.1,
           0.4
          ],
          [
           0.21212121212121213,
           0.3181818181818182
          ],
          [
           -0.125,
           0.375
          ],
          [
           0.13636363636363635,
           0.45454545454545453
          ],
          [
           0,
           0
          ],
          [
           0,
           0
          ],
          [
           0,
           0
          ],
          [
           0.5,
           0.9
          ],
          [
           0.13636363636363635,
           0.45454545454545453
          ],
          [
           0.5444444444444444,
           0.4222222222222222
          ],
          [
           0.2,
           0.9
          ],
          [
           0,
           0
          ],
          [
           -0.3333333333333333,
           0.6666666666666666
          ],
          [
           0,
           0
          ],
          [
           -0.125,
           0.375
          ],
          [
           0,
           0.06666666666666667
          ],
          [
           0.19,
           0.5666666666666667
          ],
          [
           0,
           0
          ],
          [
           0.3,
           0.6333333333333333
          ],
          [
           -0.06666666666666667,
           0.675
          ],
          [
           0,
           0
          ],
          [
           0,
           0
          ],
          [
           0,
           0
          ],
          [
           -0.024999999999999994,
           0.225
          ],
          [
           -0.025,
           0.45
          ],
          [
           -0.21428571428571427,
           0.35714285714285715
          ],
          [
           0,
           0.25
          ],
          [
           -0.08181818181818182,
           0.42727272727272725
          ],
          [
           0,
           0
          ],
          [
           -0.13333333333333333,
           0.6
          ],
          [
           -0.05,
           0.2375
          ],
          [
           0,
           0
          ],
          [
           0.5,
           0.5
          ],
          [
           0.1,
           0.1
          ],
          [
           0,
           0
          ],
          [
           -0.15,
           0.65
          ],
          [
           0,
           0
          ],
          [
           0.22727272727272727,
           0.5454545454545454
          ],
          [
           0.5,
           0.5
          ],
          [
           0,
           0
          ],
          [
           0,
           0
          ],
          [
           0,
           1
          ],
          [
           -0.2,
           0.4
          ],
          [
           0,
           0
          ],
          [
           0.10497835497835499,
           0.334054834054834
          ],
          [
           0,
           0
          ],
          [
           0.08333333333333333,
           0.41666666666666663
          ],
          [
           0,
           0
          ],
          [
           0,
           1
          ],
          [
           0,
           0.1
          ],
          [
           0.13636363636363635,
           0.45454545454545453
          ],
          [
           0.0014814814814814725,
           0.6096296296296296
          ],
          [
           0.12121212121212122,
           0.5833333333333334
          ],
          [
           0,
           0
          ],
          [
           0,
           0
          ],
          [
           0,
           0
          ],
          [
           0.4,
           1
          ],
          [
           0.3,
           0.3972222222222222
          ],
          [
           0.3,
           0.6
          ],
          [
           0.6,
           1
          ],
          [
           0,
           0
          ],
          [
           0,
           0
          ],
          [
           0,
           0.5
          ],
          [
           -0.25,
           0.5
          ],
          [
           0,
           0
          ],
          [
           1,
           1
          ],
          [
           0,
           0
          ],
          [
           0,
           0
          ],
          [
           0,
           0
          ],
          [
           0.06818181818181818,
           0.2606060606060606
          ],
          [
           0,
           0
          ],
          [
           0.5,
           0.6666666666666666
          ],
          [
           0,
           0
          ],
          [
           -0.48888888888888893,
           0.5499999999999999
          ],
          [
           0.0625,
           0.5
          ],
          [
           0,
           0
          ],
          [
           0.1,
           0.6
          ],
          [
           0,
           0
          ],
          [
           0.06818181818181818,
           0.22727272727272727
          ],
          [
           0,
           0
          ],
          [
           -0.17499999999999993,
           0.6083333333333334
          ],
          [
           0.3,
           0.1
          ],
          [
           0,
           0
          ],
          [
           -0.25,
           0.25
          ],
          [
           0,
           0
          ],
          [
           0,
           0
          ],
          [
           0.25,
           0.2833333333333333
          ],
          [
           0.13636363636363635,
           0.45454545454545453
          ],
          [
           -0.6,
           0.8
          ],
          [
           0.425,
           0.525
          ],
          [
           0,
           0
          ],
          [
           0,
           0.4
          ],
          [
           0.25,
           0.3
          ],
          [
           0,
           0
          ],
          [
           0,
           0
          ],
          [
           -0.10000000000000003,
           0.44999999999999996
          ],
          [
           0,
           0.425
          ],
          [
           0.35,
           0.45000000000000007
          ],
          [
           0,
           0
          ],
          [
           0,
           0
          ],
          [
           -0.125,
           0.375
          ],
          [
           0,
           0.06666666666666667
          ],
          [
           0,
           0
          ],
          [
           0.2333333333333333,
           0.3
          ],
          [
           0.0625,
           0.3125
          ],
          [
           0.8,
           1
          ],
          [
           -0.2,
           0.2
          ],
          [
           0,
           0
          ],
          [
           0.4,
           1
          ],
          [
           0,
           0
          ],
          [
           0,
           0.1
          ],
          [
           0.5,
           0.43333333333333335
          ],
          [
           0,
           0
          ],
          [
           0,
           0.05
          ],
          [
           0,
           0
          ],
          [
           -0.024242424242424242,
           0.34848484848484845
          ],
          [
           0.25,
           0.3333333333333333
          ],
          [
           0,
           0
          ],
          [
           0,
           0
          ],
          [
           0.5,
           0.5
          ],
          [
           0.55,
           0.65
          ],
          [
           0.38125,
           0.45625000000000004
          ],
          [
           0,
           0.55
          ],
          [
           -0.13333333333333333,
           0.6
          ],
          [
           0,
           0.1
          ],
          [
           -0.7142857142857143,
           0.8571428571428571
          ],
          [
           0.3181818181818182,
           0.4772727272727273
          ],
          [
           0.2333333333333333,
           0.3333333333333333
          ],
          [
           0.25,
           0.7
          ],
          [
           0,
           0.1
          ],
          [
           0.13636363636363635,
           0.45454545454545453
          ],
          [
           0,
           0
          ],
          [
           0,
           0
          ],
          [
           0.30952380952380953,
           0.6309523809523809
          ],
          [
           0,
           0
          ],
          [
           0,
           0
          ],
          [
           0.5,
           1
          ],
          [
           0,
           0
          ],
          [
           0,
           0
          ],
          [
           0,
           0
          ],
          [
           0.3181818181818182,
           0.4772727272727273
          ],
          [
           0.0062500000000000056,
           0.3
          ],
          [
           -0.16666666666666666,
           0.06666666666666667
          ],
          [
           -0.125,
           0.375
          ],
          [
           0.05,
           0.7
          ],
          [
           0.05,
           0.75
          ],
          [
           -0.2916666666666667,
           0.5416666666666666
          ],
          [
           0,
           0
          ],
          [
           0.525,
           0.625
          ],
          [
           0,
           0
          ],
          [
           -0.05,
           0.3
          ],
          [
           -0.033333333333333326,
           0.7000000000000001
          ],
          [
           0,
           0
          ],
          [
           0.09659090909090909,
           0.5511363636363636
          ],
          [
           0,
           0.5
          ],
          [
           0,
           0
          ],
          [
           -0.05000000000000002,
           0.5833333333333334
          ],
          [
           0,
           0.0625
          ],
          [
           0.375,
           1
          ],
          [
           0,
           0
          ],
          [
           0.1,
           0.4
          ],
          [
           -0.4,
           0.4
          ],
          [
           -0.6,
           0.8
          ],
          [
           0.15,
           0.6
          ],
          [
           0,
           0
          ],
          [
           0,
           0
          ],
          [
           0,
           0
          ],
          [
           0,
           0
          ],
          [
           0,
           0
          ],
          [
           0,
           0
          ],
          [
           0,
           0.7
          ],
          [
           0.5,
           0.8888888888888888
          ],
          [
           0.1,
           0.1
          ],
          [
           0.5,
           0.775
          ],
          [
           0.2857142857142857,
           0.5357142857142857
          ],
          [
           0,
           0
          ],
          [
           0,
           0
          ],
          [
           -0.14027777777777778,
           0.3319444444444445
          ],
          [
           0,
           0
          ],
          [
           0,
           0
          ],
          [
           0.375,
           0.575
          ],
          [
           0.5,
           0.5
          ],
          [
           0,
           0
          ],
          [
           0,
           0
          ],
          [
           0.12878787878787878,
           0.4570707070707071
          ],
          [
           -0.1101851851851852,
           0.512962962962963
          ],
          [
           0.2,
           0.2
          ],
          [
           0.06818181818181818,
           0.6022727272727273
          ],
          [
           0,
           0
          ],
          [
           0,
           0
          ],
          [
           0,
           0
          ],
          [
           0.037500000000000006,
           0.4625
          ],
          [
           0.4375,
           0.825
          ],
          [
           -0.4,
           0.4
          ],
          [
           -0.2,
           0.4
          ],
          [
           0,
           0
          ],
          [
           0.33,
           0.72
          ],
          [
           0.5,
           0.5
          ],
          [
           -0.1,
           0.1
          ],
          [
           0,
           1
          ],
          [
           0,
           0
          ],
          [
           -0.06888888888888889,
           0.49111111111111105
          ],
          [
           0,
           0.125
          ],
          [
           0.13636363636363635,
           0.45454545454545453
          ],
          [
           0.16666666666666666,
           0.48484848484848486
          ],
          [
           0.3333333333333333,
           0.8333333333333334
          ],
          [
           0,
           0
          ]
         ],
         "hoverlabel": {
          "namelength": 0
         },
         "hovertemplate": "<b>%{hovertext}</b><br><br>subjectivity=%{customdata[1]}<br>polarity=%{marker.color}<br>Lat=%{lat}<br>Lon=%{lon}",
         "hovertext": [
          "hmmm im starting to sense people are reaching the last few fibres of their tether",
          "this tells us pretty much everything about",
          "highest singleday spike of 49931 cases mark with 708 deaths amp reported in last 24 hours total positiv",
          "subdued start to onam celebrations in kerala amid covid",
          "duterte by december in fullness of gods time we will have hopefully a free december and",
          "dont hesitate to call 937 of you are feeling and if the 19 symptoms and also be sure to download",
          "s younger brother has died of after long hospitalization",
          "after a lengthy discussion of 3 hours the unified school board voted monday evening on a school reope",
          "test of home minister amit shah has not been conducted so far ministry of home affairs mha official",
          "british decision to quarantine travellers from causes anger worry",
          "that last line should read there is no evidence good bad or indifferent of a 2nd wave of",
          "getting an antibody test to see if you had months ago is pointless according to guidelines issued by a ma",
          "of the 10 new cases detected in district today 5 are local contact details",
          "new ukindia medtech programme to fight covid19",
          "pms live media conference",
          "if hasnt started preparing for october already theyre going to have some serious issues c",
          "if youre black or brown youre more likely to get sick or die from my covid19 health disparities act",
          "consumer health products do not require prescription from and can be purchased over the counter otc wi",
          "breaking president vladimir says s coronavirus has been registered his daughter is among",
          "i sincerely despise the people that celebrate not wearing a mask in the shops you are a piece of shit",
          "how cognitive technologies can help managers during the crisis",
          "the number of all deaths in patients testing positive for has been revised down after the govt imposed a 2",
          "of the 53 new cases today 45 are associated with outbreaks or contacts of confirmed cases a reminder that",
          "as this article says 1 in 4 had a visit in the first 3 months of the outbreak u",
          "this period might be very exhausting amp overwhelming might trigger your mental health or give you majo",
          "registration of 1147 new confirmed cases with coronavirus and 1238 new recoveries in the sultanate",
          "need type opositive at hospital blood component need from ove",
          "cyclone amphan destroyed khadija and her husbands fishing ponds took away their ability to work t",
          "coronavirus is covered under our health insurance policies reach us for more info 9845684754",
          "where to buy face masks in australia and how to make your own",
          "that is a good point the racism and xenophobia surrounding the etiology of has impacted the virus response",
          "while states have expanded policies due to 16 of the 34 states with expanded telehealth polic",
          "as a member of s amp equity taskforce chan participated in a",
          "disparages dr fauci but promotes the my pillow guy when it comes to",
          "how many roads must a man walk down before he can get a dagwood dog on the long weekend during the",
          "the bank of england says that britains economy is recovering more quickly than initially feared from the",
          "is this real life ion cutelaba vs magomed ankalaev removed from following positive test",
          "which small business loan for the covid19 pandemic would help me if i am selfemployed with no employees",
          "was a huge honour to speak at this event please keep your eyes out for the next event coming shortly",
          "happy womens day 2020 under the theme generation equality realising womens rights for an equal future",
          "our senior footballers in championship qtr finals tmrw in parnell pk",
          "came in and not a single staff member has a on",
          "not much use of mask nor even social distance amp this whole drama amp panic was created by",
          "usa today congressional staff member for rep vern buchanan dies of covid19 via",
          "coronavirus breaks out again in new zealand after 102 days",
          "food menus are dirtiest thing in restaurant tables it will replaced by qr codes",
          "covid19 what can artificial intelligence contribute to healthcare industry",
          "collateral damage from doctors worry patients diagnosed with more advanced because of delays",
          "isnt a respecter of anybody here is our beloved alaafin and omo iku tiku o gbodo pa as he fondly call",
          "definitely not doing this as a job",
          "so much has been written on what has made responses successful or failures surprisingly a focus on what",
          "i think some of us have been saying your stats are bogus",
          "recovered american patient donates plasma in",
          "july 31 webinar series the panel will discuss testing tracking amp treating disea",
          "has led to anxiety around supporting care needs we can assure that every measure has been taken to keep y",
          "guidelines state that women should be accompanied by a person of their choice while giving birth wh",
          "same story after but too late damage done global hysteria driven by the get",
          "i would ask joe buck if the will ever play again ever",
          "positive cases reach 421 996 covid19 cases continue to rise rapidly across the country as the socalled",
          "us economic recovery us dollar not fairing well infections not slowing gold rose oil slid sampp500",
          "phase 3 bring it on headband versatility",
          "ridiculous comments from the emergency means events change quickly other governments are doi",
          "",
          "may bring longdormant viruses back to life scientists ndtv more w ecose",
          "our latest article on helping your parents stay safe when receiving care at home during",
          "i love that one leader is putting people first trying to save lives",
          "covid cases",
          "the bureau of statistics said total payroll decreased 22 in victoria alone as additional",
          "the elbow bump no thank you via",
          "makes the list has been doing her job",
          "if a business is making sense in the long term just dont care a fk about the short term problems like lock down",
          "the is just around the corner celebrate your pride with these items featurin",
          "mixtape on the way are you ready vid dropping thursday",
          "book digest tracing world order from 2008 financial crisis to covid19 shaheen bagh and more",
          "recovery rate in india is better than others says pm modi on maan ki baat follow live upda",
          "as our country continues to battle you are worrying about getting your",
          "live blog ancient greek theaters return to life in pandemic via",
          "singleday spike of 60963 cases and 834 deaths reported in india",
          "as more health workers test positive for this nurse is all for home isolation if no other health issues p",
          "one school nurse in arkansas says she feels empowered as safety plans develop",
          "update no 16 measures taken to combat spread of coronavirus",
          "seriously teenagers and young adults need to cop on and wear i know you feel invincible like we all",
          "today july 29 on wax poetic we play some related poetry from",
          "when lives are on the line child amp focused organizations trust us to create a positive first impression wit",
          "they are guilty of mass murder",
          "lets follow sop for hari raya aidiladha by dr arvindersingh hs",
          "celebrations will come with a difference in general public amp barred from",
          "update the labuan case involved a filipino",
          "espon is preparing a new study on the territorial impact of in 2019 another espon project identified the",
          "enters into of country now its difficult get over with it next may be and",
          "s swab test for is negative and he might get discharged by tomorrow as per reports",
          "number of us patients with newly identified cancers before amp during the pandemic significant decline in",
          "celebrating one year anniversary of the govt meanwhile karnataka reported 5000 cases per day",
          "thai operates special flights to copenhagen taipei in august",
          "more delay wont be back before next year as afc postpones amp joint qu",
          "fiftyone studies report that is effective in treating while 16 claim that it is not",
          "palace claims philippines very good in containing outbreak so far",
          "i cant wait for this historic moment",
          "the 25 day nallur festival which is presently ongoing in is being held undr strict health guidelines this y",
          "how and when children should return to the sports field during covid19",
          "via just brilliant combinatorial algorithms to streamline testing finding solutions to most cha",
          "increasing gap between recovered amp active cases of india may 04 2020 to august 12 2020",
          "solid q2 2020 performance despite impact intouch intelligence visit",
          "big brother without kidd and erica is like buying a book without table of content",
          "immunity is the need of the hour",
          "the pressure is on for drugmakers to get a vaccine to market for but its not that easy heres what it a",
          "3 covid deaths in last 24hrs 65yearold female from and another male from succ",
          "trump breaks with cdc director on potential for worst fall amid pandemic flu season",
          "the masked singer has been shut down after 7 dancers tested positive to covid",
          "dr harris more than 5000 healthcare workers have been infected with while caring for patients",
          "got your and feel like celebrating stay safe and make sure you gtkeep social distancing gt",
          "hazard pay in pa pennsylvania hazard pay for covid19 frontline workers",
          "interesting article about how the industry can recover from",
          "were seeing a trend starting as arkansas hc and ad throw their support behind the",
          "ram temple trust chief who attended bhoomi pujan with pm modi tests positive for",
          "being a republic this should be up to the states",
          "you know how else has ruined my year having his face covered the whole time he is on my",
          "this is the why in the surge of infections it has nothing to do with the public",
          "north korea on alert over first suspected coronavirus case 1st case of much l",
          "joins to demand an end to abuse of relief funds",
          "s repo man is hiring as more consumers struggle with lost income in an economy battered by and us",
          "as 100000 kids test positive for in the past two weeks bill gates explains why the white house response",
          "our team in guinea and are developing a related project in upper guinea they are rehabilitat",
          "join our expert panel on how regional cooperation can help move forward with its recovery live",
          "hope in the worldwide storm full video gt",
          "we hit the foggy streets of last night to along with over 530 buildings all over the uk t",
          "every decision is a risk every risk is a decision",
          "12 covid19 deaths 1286 fresh cases in telangana",
          "anticoronavirus protective equipment available read more",
          "resume",
          "could use some speech therapy from a school speech pathologist but we arent",
          "face masks and covid19 scientists must uphold the facts please click on the link",
          "german health ministers agree to ban spectators from stadiums at bundesliga soccer matches until at least",
          "update 14 august 2020 7 new cases confirmed in the last 24 hours 2488 the accumulative",
          "impact on indians daily increase in fuel price",
          "a summit bw the foreign ministers of amp will be held tomorrow",
          "and is a novel virus",
          "36 is spiking all around us breaking guidelines is a sure way of making sure it leaves a perm",
          "how do i take care of my mental health during covid19 period",
          "help slow the spread of and identify at risk cases sooner by selfreporting your symptoms daily even if y",
          "ncdcgov the situation report for 28th august 2020 has been published our daily situati",
          "we all need to help her however we can",
          "especially and critically when you are indoors outdoors not so much but still",
          "i am from nepal and in this timethere is a big problem to go outside to the country and held in 13 sept",
          "lets explore the world",
          "i stand with the students of indiathey are in the middle of amp crisis i request amp al",
          "chandrayans 2 pragyan rover intact on moons surface and has rolled out few meters from the skelet",
          "all this talk finally here are some better",
          "kudos chicago finally alcohol regulations driven by public health not industrydriven desire for public",
          "only radical right who hurt god amp country call it the china virus everyone knows thi",
          "amma yet again shows the way forward in handling crisis situations in the battle against",
          "i will be admitted at dedicated chirayu hospital on the advice of doctors madhya pradesh",
          "in a minor reshuffle the govt on monday shifted the collector of district in the midst of the coro",
          "causing significant dilation of blood vessels of the lung contributing to low oxygen levels in patients wi",
          "universal of women in labour for is more than universal full",
          "a webinar discussing youth innovations for sustainable livelihoods in africa during amp post",
          "pence you are a disappointment to humanity",
          "150k americans dead",
          "looks like has discovered you cant hide from and eventually it will run through t",
          "hi everyone megan tweeting from first break since hithappy to join",
          "lovely chelsea buns",
          "where have you missed traveling to since covid",
          "california surpasses 600000 coronavirus cases most in us live read more",
          "wish i had all my homies here at my crib for our hfl draft but d things up usually its drafting whil",
          "moving forward even republicans must take seriously before more americans die value life ove",
          "if youve had you may still have some physical symptoms such as breathlessness a cough or lack of energy",
          "clinical trials of monoclonal antibodies which could both prevent and treat are already underway and cou",
          "dads house in elephant and castle helping so many who need practical support espe",
          "organizing research about themselves",
          "uk quarantines travellers from spain in sudden blow to europes revival",
          "more flights added to bcs list of covid19 exposures yikes",
          "a public health expert is warning that the current covid19 response could lead to a year of roll",
          "how india is using artificial intelligence to combat",
          "thread by exobama health care head",
          "test of home minister amit shah has not been conducted so far ministry of home affairs mha official",
          "five lessons from tracking the global pandemic economy",
          "longform podcast on risk and reopenings with lost in the stacks aka in dialogue wwend",
          "have you seen campaign to promote to support people to live healthier lives amp reduce their r",
          "eastern capes covid19 nightmare could see 9 000 unavoidable deaths experts news24",
          "says highest 342 fresh cases reported in khurda district exponentially crossed hotspot ganj",
          "we must stay safe every minute",
          "health systems amp food supplies face many threats during has ensured 300k households",
          "disrupted my life massively i loose my gigs my belongings were auctioned by house agent was depressed b",
          "on s watch 158931 americans have died from 228 of all deaths worldwide that is abo",
          "why should we listen to whose mishandling of the crisis have lead to the de",
          "conducting entrance examinations is not like buying mlas from madhya pradesh is rising in still g",
          "how im coping with 2nd series entry so i made enchiladas now im eating them while watching mobi",
          "south korea finds itself on the verge of another major outbreak as cases jump to the highest level since m",
          "",
          "this visualization of exposure highlights how personal choices can unknowingly lead to the spread of infec",
          "the tourism industry remains subdued under level 3 lockdown with travelling for leisure allowed only when",
          "in these confusing times of when we all are going through a lot of uncertainty regarding jobs health and",
          "nigeria will become somalia if care is not taken",
          "flexible work practices and hygiene remain as the two key aspects of returning to work globally",
          "three quarters of the respondents wont take the vaccine im pleasantly surprised",
          "i get in now our leaders are in a secret cult collectively called profit before people",
          "great article here on medscape about aerosols and from an aerosol expert if this had been understood wide",
          "i made my novel free for all of youselfquarantiners enjoy",
          "exlresearch lifesaving new treatments are at risk due to unless the government steps in despite the chal",
          "who is incharge of indias fight against name please",
          "are you guys gonna start the school year at home or at school",
          "offering free resources to help businesses cope with plight",
          "leveraging excuses to contact to make up for lost chance encounters",
          "lost your job because of the crisis is here to help check out our list of tech companies that a",
          "tested 344 players and no positive cases of",
          "i had to attend unescos builders of the universe camp 2 be held at usa but couldnt due 2 but i am exci",
          "yesterday 1404 new cases amp 16 deaths reported in delhi taking the total tally to 144127 1130 people",
          "reality gov kristi noem notes that more south dakotans have died in accidents than from covid19",
          "seeing a lot of women complaining about no hair salons during whos socializing grab a scissors amp chop",
          "under trumps policy 174000 americans died from number one in the world",
          "cases top 500000 as global total nears 18 california cases top 500k reports",
          "following the crisis and strategies are required to be digitized get more insights in o",
          "incompetent has botched almost every aspect of response to",
          "trumps coronavirus claim leaves anderson cooper astonished cnn video read more",
          "for if you want another 19",
          "he said this is a fake pandemia the information went viral",
          "birthday wishes to ji and more wishes for setting an example in handling the pandemic and leading from the front",
          "bmc removes poster which they had put outside residence of declaring it as containment zo",
          "wrong globally spreads through contactair rather will end will ef",
          "data released by indias national health mission reports a 64 drop in child a 50 drop in bcg vacci",
          "on deck now at in a post world w rony sebok alexperas dav",
          "due to ill be blessing the first 500 people to like amp retweet this with 500 1000 through cashapp g",
          "gives fl a break from rants now weather channel is calling it figures",
          "new preprint from the lab weve joined the fight and looked at tropism of the virus causing in the brain",
          "these are not underwear face mask street fashion",
          "neither nor will crush her dream of completing a marathon in each state",
          "it has been surreal being stuck between two hotspots since all of this began uk has worst death count in",
          "exxonmobil is working to help those who need to protect themselves and others from the world is countin",
          "some data on the risk of hospitalization from in patients with chronic inflammatory rheumatism or systemic",
          "today",
          "remember to keep washing your hands regularly as it helps slow the spread of",
          "dario vivas the mayor of s capital has died after suffering from for more than three",
          "very excited to be taking part on",
          "the a new virtual series presented by the gbta technology committee will showcase the",
          "this is your 1hour reminder of begins at 3 pm est with dr jennifer hill",
          "lets hope that s will tackle the issue of low productivity of indias work force ar",
          "usa5415666 553641704151284 now at 170k deaths due to will be well over 200k come day",
          "norway maintains travel restrictions to northern sweden",
          "coronavirus englands contact tracing app trial gets under way",
          "infected people were always there but were undetected its just the increase is test is increasing the n",
          "ssrs friend smita reveals some shocking facts on in debate with the thing that really h",
          "how are different around the world reopening during the check this out for a look",
          "167097 us deaths 81320 5248678 us infected",
          "how are entertainers dealing with covid19",
          "odisha detects 1376 new positive cases taking the total number of cases to 25389 including 15928 recov",
          "please share with everyone you know sign the petition here",
          "to mandato",
          "whether you were able to stay open had to shift your teams to or close your doors completely during",
          "assisting farmers during pandemic special cargo trains and flights arranged for movements of seed",
          "stop justifying reopening based on false statements it is true that tend to get less severely il",
          "national and local democracy important because two years worth of local elections due next may but tory",
          "chinese industrial economys fundamentals remain sound despite senior industrial official",
          "has permanently altered indian consumers bevahiour",
          "new research article associations of type 1 and type 2 with related in",
          "seems about right",
          "the crisis has moved delivery from a luxury to a utility uber ceo dara khosrowshahi",
          "i dont like a but i love people and this is how i forgive the actions of the",
          "our members had a great virtual meeting today with to talk about about critical i",
          "its going to get worse",
          "ya may wanna add stop being a blanking racist",
          "challenges amp difficulties make us step out of our comfort zones resulting in newer amp better results",
          "for by the covid19 risk communication package for healthcare facilities",
          "this year supporting to was more important than ever as most of the pupils were out of",
          "destination ttn advertiser has a helpful page full of information and guidance",
          "two essential elements to address the pandemic effectively 1 leaders must step up to",
          "there is extensive spread of in the netherlands with a population growing tired of the 15 m society and",
          "yes needs to stop a black man from helping somebody so they can say black lives dont matter",
          "facts about and by swiss policy research spr",
          "is throwing off the normal routine these are the common trends incoming should be",
          "just a couple new cases being reported in in the past 24 hours",
          "the lockdown and the ongoing situation has been challenging for the elderly as family members or caregive",
          "putin is pleased with his attack",
          "is that molsons panties oh wait its a face mask",
          "leader wants foreign influence in our vigilance response the australian way not g",
          "asheshe by w cc",
          "mississauga known positive active case count it currently 44",
          "lol surgical masks ughhh",
          "never let a good crisis go to waste visionary leaders always see a silver lining in any crisis and pand",
          "put a fking mask on via",
          "mass producing unproven vaccines that didnt take long did it lol",
          "whats the risk to global health if the us withdraws from authors from examine potential impl",
          "updates 21082020",
          "this is how amp make mockery of people of by sidelining democratically elected",
          "two strategies to combat lost revenue during from the american medical association",
          "23 of shielders happy to go back to work ons suggests",
          "new york need to stop using the subway",
          "well done amp on your great work helping our region bounce back from",
          "the latest invention in the crisis removable handles for shopping carts seen at a french supermarket",
          "how can we rise up to the challenge with this was a central question of our virtual dialogu",
          "ive been of the view that is set for a repricing into the us2000 to us3000 range and this was last ye",
          "mindgenius templates for every project management need",
          "over 1000 new cases a day as numbers steadily rise again if only this incompetent government was as eff",
          "next week a new reality has unfolded work from anywhere join t1v for a on thursday august 6th at 11am",
          "we need your help to understand how north carolinians have felt the effects of can you complete this shor",
          "papua new guineas covid19 cases is up by one as of monday august 3rd 2020 read more on loop png",
          "the from recovered patients may be helpful in the treatment of other patients of the disease but",
          "as at aug 8 uk 309005 cases of amp 46511 deaths 52351 cases amp 1746 deaths new cases on aug 7",
          "and to make an anthology on stories",
          "jim jordan vs anthony fauci on is like homer simpson vs robert oppenheimer on nuclear physics except that",
          "everything has an end too will pass",
          "meat processing plants are home to the latest clusters well be hearing from the sector about what theyr",
          "how italy turned around its calamity new york",
          "social distancing canadian geese could teach people a thing or two the best kind of youll ever get stuc",
          "i think the way youre wearing that mask is illogical you absolute plum sack",
          "japan isnt doing so well",
          "seriously",
          "i wonder if some companies will go back to insisting that people should not work from home after like they",
          "istanbul governorate tightens rules on weddings bans other indoor ceremonies over pandemic",
          "dcmo dr nick coatsworth provides update 352 people have now died during pandemic including 21 in last da",
          "alongside an effective if possible long lasting accurately rapidly almost immediate results",
          "look antigovt protesters being reminded by protest leader of health protocols amidst pandemic",
          "latest global cases gt confirmed 19572930 recovered 12568841 deaths 724710",
          "indonesia total 128776 deaths 5824 recovered 83710 active 1474",
          "on a level2 lets cut u up supplyampsupport d19",
          "in a world of be",
          "two kids of our college bound group3 families5 kids will depart sunday both tested neg for im tryin",
          "ushered in what experts have predicted for the past year an economic downturn ceo chen amit o",
          "how long had been infecting others and help further spread the to others remember typhoi",
          "the denialism disaster now makes plain her",
          "a leading gp in the fight against says the response of irelands testing and tracing system to the recent",
          "new from cdc outbreak at overnight camp in georgia infects at least 260 campers amp staff 51 of positi",
          "experts discuss vaccine candidates from and and",
          "ekiti covid19 update as at 0900 am on july 25 there are fortytwo 42 active cases of in ekiti state",
          "this private school is hand in gloves with everywhere in the world schools are still closed because kids",
          "need type apositive at yashoda malakpet blood component need plasma from ave r",
          "rirry how many deaths in tanzania",
          "is your feminism still loading here are some ways you can take action for gender equality during the pan",
          "has converted 5231 coaches into care centres to be placed in 215 stations to augment capa",
          "the ignorance people show during this pandemic is just sad yes you can get and yes you can get very",
          "the african union mission in somalia said troops will continue to intensify fight against despite reducin",
          "in on july 26 positive cases and",
          "countries with more 100000 deaths usa 165070 brazil 100543",
          "has no humility as every 3 days one 911 tragedy in the it tells us is as caring a",
          "",
          "research teams have launched a faster detection test that takes only 18 hours instead of 23 days",
          "round 2 of the opens at 1pm today are you a in need of emergency funding based in england",
          "us gets reality checks on covid19 vaccine duration of symptoms",
          "new cases in india crossed the 50000mark in a single day for the first time ever on sunday taking the t",
          "covering your nose amp mouth with a face mask or using a face cover helps in putting a stop on the spread of",
          "a yr older and definitely a lot wiser been an eventful year with expansion and time to attack t",
          "shame on the people of and who are fighting on twitter like enemies",
          "be a harbinger for massive change as the country is looking to reboot economy affected b",
          "comprehensive townwide to be imposed in municipality for seven days starting 9",
          "seven new cases of covid19 in manitoba this weekend",
          "the has not only managed to bring the cases of down but also managed to rise the high numbers of",
          "52 new positive cases have been reported in chandigarh today taking the total number of cases to 1426 de",
          "friday july 31 update 4 additional deaths noted occurred between 723 amp 726 the death",
          "was europe digitally prepared for the pandemic how are digital technologies helping in the fight against",
          "whos calling itsnot",
          "as of wednesday august 5 the case numbers for the city of boston are 14377 confirmed 10391 reco",
          "now of course kim jong un will do whatever he wants to contain the virus in so more human rights abuses for sure",
          "is a compelling theme in all conversations says guv during an interaction with the",
          "cotswold club opens tonight with notice please note that you enter these premises at your own risk",
          "i pray that god protects me and my family as we stay home and avoid spread of keziah wanjiru",
          "covid19 in malaysia numbers at a glance as of 29th august 2020 12 pm",
          "is now open to enter submit your lessons learned from the and",
          "theres no safe way to control the outbreak at san quentin without releases today i join 900 health work",
          "here are the numbers you should be worried about",
          "the burden of austerity falls greatest on womens shoulders wouldnt it be something i",
          "home minister tests for announces bjp mp manoj tiwari in a tweet",
          "whistleblower dr limeng yan is a lab modified virus from a bat discov",
          "another day for s by",
          "indias national tally climbs to 2461191 after spike of 64553 new cases 1007 deaths in last 24 hours t",
          "state election commission plans to conduct amid pandemic",
          "gifted parenthood to many couples with treatment for more info",
          "just 3 days to go before the application deadline for have you promoted inclusion in or dem",
          "disappointed in the continued failure of the continued poor leadership administration in alaska we got a",
          "major companies have downgraded their by billions with the combination of fears w",
          "offer transport cost and installatio",
          "what economic measures are governments taking to respond to key actions taken by 193 countries are listed",
          "four rapid response teams to intensify contact tracing in",
          "its back in new zealand",
          "sickness 5950000 americans death 182000 americans",
          "takes manager role when is in a bad way gets infected with makes a full recovery gets",
          "the nett worth of is r1 600 000 000 90 mil she is one of the led goverments bee beneficiaries",
          "a close family member is on day 16 of waiting for hisher test results test was done at a hospital i",
          "s tally zoomed past 13 lakhs on saturday just two days after it crossed the 12 lakh mark while th",
          "found these on ebay pricey but oh well cheaper than a funeral amirite",
          "as we come to the end of our series on wash during with we take a look at how a wash",
          "india crosses the milestone of 1 million tests a day more than 10 lakh people tested in the last 24 hours",
          "amid new rules of crossing the contact line in require installing a mobile app tracking selfisol",
          "boo fucking hoo",
          "lake naivasha panorama park has reopened in full compliance with health safety protocols to top it up",
          "devotees offer prayers at a krishna temple in ludhiana on the occasion of priest of the temple",
          "catch our founder in this panel discussion on related policies so if youre",
          "big news for founded research read more on selva therapeutics treatment candidate for",
          "france records exponential increase in covid19 cases",
          "the south india state has 53499 cases of while 5397 patients have succumbed to death read here",
          "criticizes lockdowns and falsely claims us doing very well",
          "total cases rise above 600 000 in south africa",
          "good morning to everyone except those who refuse to exercise personal responsibility in preventing sage e",
          "all the enthusiasm amp back slapping on the rising recovery rate in should not hide the fact that people are s",
          "order here",
          "no kids are not affected by like adults with other conditions i am a physician wh",
          "today at 10am is hosting a public debate about the impact of on londoners amp their",
          "we wrote this on april 13 2020 there were 551826 cases in",
          "a very informative video about more than 32000 volunteers have registered them for human challenge tr",
          "the coalition of companies that form part of the broad coalition include tech giants like and",
          "scott coker proud",
          "i fell asleep during the game wake up hours later tv still on and still on im",
          "are you planning a vacation soon follow me please retweet and like",
          "cdc ends the test narrative important read",
          "whoever controls the the mind",
          "coronavirus r number has risen across uk and may now be above 1",
          "earlier this month issued more guidance regarding the best practices for wearing the agency said f",
          "count in",
          "back in office after lockdown and found a rock solid banana in my draw",
          "inside the faith community in the era",
          "has tested negative for he has been in quarantine following his brother being tested positive",
          "the first 100 to follow me and retweets will gonna will the credit",
          "5 ways gotomarket strategies will change in the postpandemic economy",
          "mike harris once premier is chairman of homes they got millions from the govt and give",
          "get tested if you have 1 or more symptoms or if you think you were in contact with a person who has the v",
          "bfarm is working with colleagues across the and from to facilitate the supply of safe and effective",
          "good foreign used lexus rx300 for sale at good deal price dm me if your are interested",
          "four possible scenarios relating to human immunity to sterilizing immunity functional immunity waning i",
          "4433410 cases 150444 deaths 2136603 recovered 2146363 active",
          "says cases starting to rise im no graphreading genius but that upward tick appears to have begun four wee",
          "democrats dont want us to know that hcq cures because they want the sick to die from the virus the dec",
          "michigan reports 669 new coronavirus cases 16 deaths tuesday read more",
          "next up state executives the pandemic proves how important the governor is dem atty generals are the o",
          "but the staffer for congressman dies of there are nearly 400000 confirmed cases of th",
          "no amount of extra pay would cover the mandatory risk of having to have this",
          "has created diverse and pressing needs that demand we proactively pivot to stay informed use this new",
          "philadelphia city hall",
          "economy minister paulo guedes said that the government was considering extending an emergency",
          "what if the 704 created because a certain group was winning or a certain group was losing",
          "episode 4 register here",
          "wrist band detecting covid symptoms gets rs22 cr funding",
          "is pleased to be working with economies including to build supply chain resilience in our region duri",
          "should be voluntary no should be to take one against their will for any",
          "is anyone else struggling with the mask amp face id thing",
          "motshekga denies claims she or her family involved in tender procurement",
          "covid19 moph reports 105 new cases within 24 hours read more",
          "he wants a little power we have over 160000 losses over covid and millions of jobs lost",
          "serum institute to price covid vaccine at less than rs 250dose",
          "we must do to protect those who have lost their jobs due to we call on the government t",
          "youth unemployment is a key concern in the wake of the crisis the crisis hit young peoples job prospects",
          "as far as i know that is definitely not 6 feet apart",
          "covid19 pandemic may hit tourism msme aviation sectors hard says rbi survey",
          "its day 5 of my isolation after being infected with please do take care of yourselves",
          "we were proud to continue our mission by supporting to aid in during",
          "we urge to help us raise our issues regarding",
          "alarming spike in covid scams as australian bank accounts targeted",
          "to introduce to my 4 yr old volcano crazy nephew we found a fabulous video of mt bromo in indo",
          "need help to support students during the pandemic and through the transition back to school visit",
          "covid19 only 48 new cases reported in past 24 hours in afghanistan read more",
          "the infographic shows how underlying such as disease",
          "eras ministry of health in denies quarantine housing for 69 yr survivor of pinochetera concen",
          "dr bob arnot needs a national plan to stop completely incoherent effort so far youtube",
          "what truly matters to a gen z purchaser the future of luxury brands is shifting and second hand is on an",
          "well said mona siddiqui on the radio sco shareen prog stressing unique scottish approach to pandemic",
          "coronavirus triggers genderbased violence inequality",
          "a study led by indianorigin researcher has found that teenagers and young adults who used",
          "china virus vs trump virus playing the pandemic blame game",
          "okaymoney talks and bullshit runs a marathonhows your fucking taxpayer provided healthcare during",
          "dsts low cost to differentiate all economical option for areas",
          "bet you have not heard this on msm",
          "to boost consumption amp demand post",
          "with all of this screening temp checks health questions going on everywhere because of",
          "nigeria records drop in figures of 19 infections death",
          "15yearold gwinnett georgia boy dies of",
          "magis quam centum dies sine pandemic",
          "share this far and wide listen to dr henry",
          "i am sure the 165235 deaths and the 5163735 cases in our country alone feel q",
          "action alert urge your senators to do their part to by returning to washington amp finishing passag",
          "how does it feel when your bellies are full of carrion very satisfied",
          "the attitude of our civilization right now and the wit",
          "visit orfs statewise distributio",
          "will hold a meeting with chief ministers of all the states on 27 july to discuss the situati",
          "6th day of 100 deaths in tn cases comes down but other districts esp going up",
          "bbb tips contract tracing scams spreading",
          "covid patient alleges molestation by doctor at noida hospital",
          "clearly great interest in testing long line here site in silver spring sa",
          "two years ago when one of the more pressing issues was homelessness well guess what i sti",
          "why is baltimore heating up again with",
          "no cheering crowds for you in hospitals are maxed out with",
          "california is reporting 8909 new deaths is last 24 hours dropped to 96 hot zone counties 1 los angel",
          "california surpasses 700000 cases they keep saying its slowing down not true they report different",
          "no roadmap in sona thats job for congress economic ministers marcos",
          "268 new cases 109 discharges and 5 deaths have been reported in puducherry today total of number of case",
          "alert two police officers in georgia put on leave after shooting at minors global pandemic news",
          "to reconstruct the system we must understand its gears 12",
          "we can do this again nz",
          "in india death count surpassed 50000 due to who is responsible for this tragedy 1 jwahar lal nehru 2",
          "excited to share the latest addition to my shop horror mask elastic around ears for covid19 cover masks mich",
          "we have changed our game plan said executive director stephanie hudson as continues to",
          "quarantine day 137 the walking dead",
          "purpose is mandatory as knows certificate of vaccination with ai and with identification",
          "in our latest greg louie principal saratoga high school discusses during",
          "you ignored the largest most comprehensive study to date n83 million that proved use",
          "we have repeatedly proposed that take the path of reducing the risks of military incidents on the con",
          "explore possible gendered outcomes of",
          "as part of multiple efforts to counter complied and verified several links to give you access to",
          "it is stark just how high the hidden cost of is for cancer care says head of policy at",
          "the report on the outbreak at a camp has the same feel as any outbreak in h",
          "46 florida reported 6352 new cases on aug 15 30100k pop with 6300gt6100 new casesday forecast in",
          "80220 update from s office 463 new positive cases of amp 2 new deaths were reported sund",
          "we are lucky to have as a leader in here while inperson visits are",
          "the impact playing its part to crimp fy20 results with md marnie baker telling that t"
         ],
         "lat": [
          45.4641943,
          43.2087546,
          25.6093239,
          null,
          14.64058785,
          25.6242618,
          44.97116765,
          43.0349931,
          22.3511148,
          50.7423958,
          54.7023545,
          19.0785451,
          20.5431241,
          51.3584017,
          -36.852095,
          42.3554334,
          40.0757384,
          22.3511148,
          28.6138954,
          51.77046785,
          48.8534951,
          51.5073359,
          52.865196,
          34.0536909,
          19.0785451,
          21.0000287,
          52.4808348,
          52.4808348,
          12.9340114,
          -26.610295,
          37.7884969,
          42.4184296,
          40.7127281,
          44.2057083,
          -27.4689682,
          52.4796992,
          52.4808348,
          28.6517178,
          53.7974185,
          -28.8166236,
          53.3713512,
          35.6729639,
          30.3308401,
          38.2443699,
          52.6071742,
          19.0785451,
          null,
          43.6534817,
          null,
          -24.7761086,
          52.5170365,
          31.2638905,
          10.7763897,
          14.4750607,
          51.65309,
          -26.205,
          -37.8142176,
          null,
          -26.4926074,
          45.5317942,
          43.6534817,
          null,
          18.521428,
          40.7127281,
          -33.8698439,
          null,
          53.15436455,
          22.3511148,
          null,
          42.7320307,
          19.0785451,
          40.8506558,
          40.6526006,
          22.3511148,
          22.3511148,
          27.7567667,
          40.7127281,
          22.5726459,
          10.5256264,
          34.7465071,
          6.552795,
          37.7790262,
          49.2608724,
          43.6008183,
          40.9699889,
          4.5986817,
          8.4882267,
          5.9780066,
          49.8158683,
          19.0785451,
          19.0785451,
          -36.0895979,
          null,
          14.8971921,
          null,
          null,
          12.7503486,
          26.8234472,
          7.877395849999999,
          37.9020731,
          38.8950368,
          28.6138954,
          1.357107,
          40.5195275,
          6.4550575,
          -0.2135085,
          15.3004543,
          39.7837304,
          -37.8142176,
          33.5206824,
          52.5050033,
          4.5877799,
          51.5073359,
          34.91591,
          28.6138954,
          null,
          54.6649465,
          null,
          19.593801499999998,
          -26.205,
          35.6812665,
          34.2331373,
          51.4816546,
          42.3176856,
          52.4808348,
          57.1482429,
          null,
          22.3511148,
          null,
          43.59047185,
          39.100105,
          39.5162401,
          4.6529539,
          4.8459246,
          11.6549142,
          33.7680065,
          31.2638905,
          1.4419683,
          12.9767936,
          59.9412076,
          10.3825318,
          39.7837304,
          48.4283182,
          28.1083929,
          10.3528744,
          52.2434979,
          29.9880774,
          null,
          37.9735346,
          null,
          10.3528744,
          22.3850051,
          20.2602964,
          34.5592226,
          52.5310214,
          1.4419683,
          12.29508065,
          43.9792797,
          51.5073359,
          42.3554334,
          52.6285576,
          47.7423219,
          52.4808348,
          null,
          44.4308975,
          51.4129277,
          48.125152,
          51.5073359,
          41.4996574,
          49.2608724,
          48.4283182,
          53.3498006,
          28.42826235,
          53.3594083,
          22.5726459,
          null,
          33.7489924,
          51.453488899999996,
          52.4808348,
          20.2602964,
          55.9533456,
          43.7283874,
          -3.15073925,
          34.2331373,
          54.7023545,
          13.0278016,
          38.8950368,
          27.9477595,
          32.7762719,
          29.7589382,
          null,
          22.3511148,
          8.8945377,
          28.5706333,
          34.2331373,
          53.2744122,
          -37.8142176,
          32.7174202,
          30.8124247,
          28.6138954,
          34.2331373,
          39.7837304,
          41.0534302,
          42.4473175,
          39.9527237,
          22.3511148,
          33.6649297,
          43.0821793,
          null,
          42.3554334,
          17.360589,
          52.4808348,
          -37.8142176,
          52.4808348,
          33.79546225,
          50.0619474,
          22.3511148,
          19.0785451,
          54.7023545,
          22.3511148,
          42.3554334,
          52.4808348,
          27.7567667,
          52.2055314,
          4.5693754,
          40.0757384,
          51.5073359,
          29.7589382,
          48.8534951,
          15.5075545,
          53.6710149,
          28.6138954,
          51.5073359,
          43.7283874,
          33.917028,
          28.6138954,
          null,
          61.1529386,
          53.699176949999995,
          null,
          19.0785451,
          45.4208777,
          40.7127281,
          41.8755616,
          28.6138954,
          34.0536909,
          null,
          52.2109495,
          null,
          -37.8142176,
          null,
          null,
          13.0836939,
          51.5073359,
          41.8755616,
          11.5024338,
          41.6529143,
          39.7990175,
          61.0666922,
          39.9527237,
          22.3511148,
          null,
          50.109345950000005,
          40.2807177,
          39.6621648,
          52.080985600000005,
          36.1563122,
          37.35089885,
          38.8641752,
          43.5896231,
          22.3511148,
          50.863772,
          45.5031824,
          -33.8698439,
          7.1547129,
          43.5896231,
          37.35089885,
          24.638916,
          51.4680988,
          54.7023545,
          42.2681569,
          10.17039815,
          19.0785451,
          39.7837304,
          54.7023545,
          40.7127281,
          -1.2832533,
          48.8534951,
          4.5693754,
          49.2608724,
          36.1672559,
          null,
          35.2272086,
          35.6729639,
          -5.6816069,
          22.3511148,
          51.4538022,
          null,
          37.5385087,
          0.3177137,
          52.865196,
          42.5805628,
          61.0666922,
          52.865196,
          41.5910323,
          40.9699889,
          16.5995459,
          41.0091982,
          -35.2975906,
          -37.8142176,
          12.7503486,
          49.2608724,
          null,
          null,
          53.494221249999995,
          28.4944695,
          37.496904,
          32.7174202,
          -37.8142176,
          52.865196,
          null,
          40.9115386,
          7.736891,
          null,
          19.0785451,
          null,
          52.4808348,
          17.360589,
          52.4808348,
          2.0349312,
          22.3511148,
          6.4550575,
          26.3586885,
          null,
          46.7985624,
          51.5325581,
          54.3482243,
          22.3511148,
          17.7231276,
          25.1002079,
          null,
          17.360589,
          22.5726459,
          52.4808348,
          1.7879059499999999,
          22.3511148,
          27.7567667,
          50.8465573,
          52.5050033,
          42.3554334,
          50.000678,
          22.3511148,
          null,
          null,
          -7.2962964,
          51.456659,
          33.6783336,
          37.5726028,
          52.9559076,
          20.5431241,
          52.24764975,
          -35.2975906,
          20.2602964,
          26.1805978,
          null,
          51.5073359,
          64.4459613,
          51.5073359,
          12.9767936,
          38.8950368,
          20.2602964,
          null,
          null,
          -33.928992,
          null,
          34.0536909,
          28.6138954,
          39.9622601,
          22.3511148,
          19.0785451,
          50.4500336,
          null,
          -0.1029109,
          22.3850051,
          12.9767936,
          32.8401623,
          -26.205,
          22.3511148,
          60.1674881,
          46.9852397,
          53.4071991,
          19.0785451,
          23.7644025,
          31.1353801,
          52.064003400000004,
          null,
          23.0216238,
          null,
          46.7985624,
          38.791612,
          39.7837304,
          null,
          52.5170365,
          30.4507936,
          32.2228765,
          null,
          51.4816546,
          -13.2687204,
          8.722388,
          1.4419683,
          40.3789884,
          61.0666922,
          43.6534817,
          50.735851,
          6.4550575,
          28.6138954,
          -10.3333333,
          56.7861112,
          35.1460249,
          52.4808348,
          42.5746013,
          null,
          52.2928116,
          43.7283874,
          38.7311123,
          52.4808348,
          40.3154832,
          null,
          22.3511148,
          1.357107,
          41.1038891,
          51.5073359,
          -28.8166236,
          33.7680065,
          33.7690164,
          22.3511148,
          51.5742454,
          9.6000359,
          32.9715285,
          22.3511148,
          -26.205,
          40.7127281,
          null,
          33.7489924,
          28.6138954,
          51.5073359,
          33.7680065,
          42.6384261,
          45.1047195,
          53.5462055,
          61.0666922,
          null,
          34.0536909,
          28.6138954,
          59.3251172,
          47.6038321,
          28.6138954,
          31.2638905,
          12.862467899999999,
          39.7837304,
          null,
          49.3206294,
          null,
          61.0666922,
          35.629867950000005,
          42.7444055,
          -1.2832533,
          41.3828939,
          22.3511148,
          19.0785451,
          10.9094334,
          33.7489924,
          22.3511148,
          38.8950368,
          47.2455013,
          35.09766515,
          39.7837304,
          37.7790262,
          40.7127281,
          12.7503486,
          28.6158874,
          52.4808348,
          39.7837304,
          -36.852095,
          28.6138954,
          34.1069927,
          38.8950368,
          25.4230425,
          53.4953602,
          51.5073359,
          null,
          64.6863136,
          38.8950368,
          31.1728205,
          51.5073359,
          61.0666922,
          46.7985624,
          38.0464066,
          38.5810606,
          -33.8698439
         ],
         "legendgroup": "",
         "lon": [
          9.1896346,
          13.2844096,
          85.1235252,
          null,
          121.03668075,
          42.3528328,
          -93.27802706729437,
          -87.922497,
          78.6677428,
          -1.8944665779182093,
          -3.2765753,
          72.878176,
          84.6897321,
          -0.1446657,
          174.7631803,
          -71.060511,
          -74.4041622,
          78.6677428,
          77.2090057,
          0.46466977412300386,
          2.3483915,
          -0.12765,
          -7.9794599,
          -118.242766,
          72.878176,
          57.0036901,
          -1.9142353,
          -1.9142353,
          77.6222304,
          153.02183004880112,
          -122.3558473,
          -71.1061639,
          -74.0060152,
          -70.75378387447887,
          153.0234991,
          -1.9026911,
          -1.9142353,
          77.2219388,
          -1.5437941,
          24.991639,
          -6.267126,
          -79.0392919,
          71.247499,
          -104.5993167,
          1.7314845,
          72.878176,
          null,
          -79.3839347,
          null,
          134.755,
          13.3888599,
          -98.5456116,
          106.7011391,
          -14.4529612,
          -0.2002261,
          28.049722,
          144.9631608,
          null,
          27.7843139,
          -122.6950362,
          -79.3839347,
          null,
          73.8544541,
          -74.0060152,
          151.2082848,
          null,
          -6.8184175660976445,
          78.6677428,
          null,
          -84.4721678,
          72.878176,
          -73.8665241,
          -73.9497211,
          78.6677428,
          78.6677428,
          -81.4639835,
          -74.0060152,
          88.3638953,
          76.2132542,
          -92.2896267,
          -0.769811,
          -122.419906,
          -123.113952,
          -116.24210864118032,
          -77.7278831,
          101.0900236,
          76.947551,
          116.0728988,
          6.1296751,
          72.878176,
          72.878176,
          146.8806299,
          null,
          100.83273,
          null,
          null,
          122.7312101,
          18.1236723,
          80.66247852355892,
          -122.0618702,
          -77.0365427,
          77.2090057,
          103.8194992,
          -74.6886609,
          3.3941795,
          -78.5109082,
          74.0855134,
          -100.445882,
          144.9631608,
          -86.8024326,
          -1.964396123331272,
          -74.1569544,
          -0.12765,
          -85.1091173,
          77.2090057,
          null,
          -2.749059585987326,
          null,
          -155.42837009716908,
          28.049722,
          139.757653,
          -102.4107493,
          -3.1791934,
          -122.8624356,
          -1.9142353,
          -2.0928095,
          null,
          78.6677428,
          null,
          3.8595132132013186,
          -94.5781416,
          -76.9382069,
          -74.0835643,
          31.5959173,
          78.1584923,
          66.2385139,
          -98.5456116,
          38.4313975,
          77.590082,
          30.315486515853937,
          7.8533226,
          -100.445882,
          -123.3649533,
          84.0917139,
          76.5120396,
          5.6343227,
          77.5081299470512,
          null,
          -122.5310874,
          null,
          76.5120396,
          71.745261,
          85.8394521,
          76.1253083,
          -1.2649062,
          38.4313975,
          76.66257635328878,
          -120.737257,
          -0.12765,
          -71.060511,
          1.2923954,
          -121.9856782,
          -1.9142353,
          null,
          -89.6884637,
          -0.3018577,
          -123.4525429,
          -0.12765,
          -81.6936772,
          -123.113952,
          -123.3649533,
          -6.2602964,
          77.00270014657752,
          -1.463843,
          88.3638953,
          null,
          -84.3902644,
          -1.0318729593399247,
          -1.9142353,
          85.8394521,
          -3.1883749,
          -79.34914879325001,
          39.67507159193717,
          -102.4107493,
          -3.2765753,
          77.6310134,
          -77.0365427,
          -82.458444,
          -96.7968559,
          -95.3676974,
          null,
          78.6677428,
          11.3644261,
          77.3272147,
          -102.4107493,
          -9.0490601,
          144.9631608,
          -117.1627728,
          34.8594762,
          77.2090057,
          -102.4107493,
          -100.445882,
          -73.5387341,
          -71.2245003,
          -75.1635262,
          78.6677428,
          75.1629584,
          -73.7853915,
          null,
          -71.060511,
          78.4740613,
          -1.9142353,
          144.9631608,
          -1.9142353,
          -117.86834231577151,
          19.9368564,
          78.6677428,
          72.878176,
          -3.2765753,
          78.6677428,
          -71.060511,
          -1.9142353,
          -81.4639835,
          0.1186637,
          102.2656823,
          -74.4041622,
          -0.12765,
          -95.3676974,
          2.3483915,
          80.06080046754784,
          -2.6300235931279095,
          77.2090057,
          -0.12765,
          -79.34914879325001,
          -118.4156337,
          77.2090057,
          null,
          8.7876653,
          -2.4709000953138327,
          null,
          72.878176,
          -75.6901106,
          -74.0060152,
          -87.6244212,
          77.2090057,
          -118.242766,
          null,
          -2.156955513242221,
          null,
          144.9631608,
          null,
          null,
          80.270186,
          -0.12765,
          -87.6244212,
          17.7578122,
          -83.5378173,
          -89.6439575,
          -107.991707,
          -75.1635262,
          78.6677428,
          null,
          14.393264664529315,
          -74.7033717,
          -8.1353519,
          5.12768396945229,
          -95.9927516,
          -121.82751555,
          -76.99177,
          -79.6443879,
          78.6677428,
          0.4758995591006566,
          -73.5698065,
          151.2082848,
          3.3467344,
          -79.6443879,
          -121.82751555,
          46.7160104,
          -0.0666715,
          -3.2765753,
          -83.7312291,
          76.38839448844891,
          72.878176,
          -100.445882,
          -3.2765753,
          -74.0060152,
          36.8172449,
          2.3483915,
          102.2656823,
          -123.113952,
          -115.148516,
          null,
          -80.8430827,
          -79.0392919,
          144.2489081,
          78.6677428,
          -2.5972985,
          null,
          -77.43428,
          32.5813539,
          -7.9794599,
          -9.013685,
          -107.991707,
          -7.9794599,
          -93.6046655,
          -77.7278831,
          94.9296927,
          28.9662187,
          149.1012676,
          144.9631608,
          122.7312101,
          -123.113952,
          null,
          null,
          -6.22498020932367,
          -81.5345547,
          -122.3330573,
          -117.1627728,
          144.9631608,
          -7.9794599,
          null,
          -73.7826363,
          5.2738326,
          null,
          72.878176,
          null,
          -1.9142353,
          78.4740613,
          -1.9142353,
          45.3419183,
          78.6677428,
          3.3941795,
          -80.0830984,
          null,
          8.2319736,
          -0.12221394719043072,
          10.117805527229162,
          78.6677428,
          83.3012842,
          55.118362508810776,
          null,
          78.4740613,
          88.3638953,
          -1.9142353,
          33.60681558084007,
          78.6677428,
          -81.4639835,
          4.351697,
          -1.964396123331272,
          -71.060511,
          -86.000977,
          78.6677428,
          null,
          null,
          112.78392467995255,
          -0.9696512,
          -118.0000166,
          -85.1551411,
          -1.1557387,
          84.6897321,
          5.541246849406163,
          149.1012676,
          85.8394521,
          91.753943,
          null,
          -0.12765,
          -149.680909,
          -0.12765,
          77.590082,
          -77.0365427,
          85.8394521,
          null,
          null,
          18.417396,
          null,
          -118.242766,
          77.2090057,
          -83.0007065,
          78.6677428,
          72.878176,
          30.5241361,
          null,
          34.7541761,
          71.745261,
          77.590082,
          -117.2740777,
          28.049722,
          78.6677428,
          24.9427473,
          -110.770217,
          -2.99168,
          72.878176,
          90.389015,
          -81.3895192,
          -0.41111375560310925,
          null,
          72.5797068,
          null,
          8.2319736,
          -90.5958468,
          -100.445882,
          null,
          13.3888599,
          -91.1391153,
          -110.9748477,
          null,
          -3.1791934,
          33.9301963,
          77.710247,
          38.4313975,
          -111.74322233051899,
          -107.991707,
          -79.3839347,
          7.10066,
          3.3941795,
          77.2090057,
          -53.2,
          -4.1140518,
          -90.0517638,
          -1.9142353,
          -83.2802311,
          null,
          -3.73893,
          -79.34914879325001,
          -95.2414104,
          -1.9142353,
          -112.00479816791864,
          null,
          78.6677428,
          103.8194992,
          -81.24559718478912,
          -0.12765,
          24.991639,
          66.2385139,
          -118.191604,
          78.6677428,
          -2.6999204,
          7.9999721,
          -89.7348497,
          78.6677428,
          28.049722,
          -74.0060152,
          null,
          -84.3902644,
          77.2090057,
          -0.12765,
          66.2385139,
          12.674297,
          7.6957581,
          -113.491241,
          -107.991707,
          null,
          -118.242766,
          77.2090057,
          18.0710935,
          -122.330062,
          77.2090057,
          -98.5456116,
          77.56089325971044,
          -100.445882,
          null,
          -123.0737925,
          null,
          -107.991707,
          -79.76440928802242,
          -73.761563,
          36.8172449,
          2.1774322,
          78.6677428,
          72.878176,
          78.3665347,
          -84.3902644,
          78.6677428,
          -77.0365427,
          -122.438329,
          -106.66917045,
          -100.445882,
          -122.419906,
          -74.0060152,
          122.7312101,
          77.0224342,
          -1.9142353,
          -100.445882,
          174.7631803,
          77.2090057,
          -117.934214,
          -77.0365427,
          -100.9927509,
          -2.973937960086006,
          -0.12765,
          null,
          97.7453061,
          -77.0365427,
          -7.3362482,
          -0.12765,
          -107.991707,
          8.2319736,
          -84.4970393,
          -121.493895,
          151.2082848
         ],
         "marker": {
          "color": [
           -0.06666666666666667,
           0.225,
           0,
           0,
           0.4,
           0.5,
           -0.025,
           0,
           0.1,
           -0.35,
           2.7755575615628914e-17,
           -0.25,
           0.06818181818181818,
           0.13636363636363635,
           0.13636363636363635,
           -0.3333333333333333,
           -0.09523809523809523,
           0,
           0,
           0.15,
           0,
           0.03585858585858584,
           0.2681818181818182,
           0.25,
           -0.04000000000000001,
           0.22424242424242424,
           0,
           0,
           0.5,
           0.6,
           0.7,
           -0.125,
           0,
           0,
           0.09814814814814815,
           0.27777777777777773,
           0.14242424242424243,
           -0.25,
           0.13333333333333336,
           0.26666666666666666,
           0,
           0.03571428571428571,
           0.044444444444444446,
           0,
           0.13636363636363635,
           0,
           -0.6,
           0.45,
           0.7,
           0,
           0.5499999999999999,
           0,
           0,
           0,
           0.25,
           0,
           -0.09999999999999999,
           0,
           0.22727272727272727,
           0.4,
           0,
           -0.22916666666666666,
           0,
           0.25,
           0.5,
           0.375,
           0,
           -0.2,
           0,
           0,
           -0.06851851851851853,
           0,
           0.2,
           0.25,
           0.3181818181818182,
           0,
           0.06818181818181818,
           0,
           0.26325757575757575,
           0,
           0,
           -0.11666666666666665,
           0.1875,
           0.23863636363636365,
           -0.5,
           0,
           0.02500000000000001,
           0,
           0.13636363636363635,
           -0.25,
           -0.3,
           0.2556818181818182,
           0,
           0.35714285714285715,
           0.16666666666666666,
           0.6,
           0.505,
           0,
           0,
           0,
           0.7,
           -0.13333333333333333,
           0,
           0,
           0,
           0.43333333333333335,
           0,
           -0.5,
           0.03585858585858584,
           0.5,
           0.3444444444444445,
           0,
           0.5,
           -0.2,
           0.22727272727272727,
           0,
           0.2,
           0,
           0.225,
           0,
           0.5,
           -0.007575757575757579,
           0,
           0.13636363636363635,
           0.35,
           0,
           0,
           0.3,
           0.45,
           0,
           0,
           0,
           -0.15,
           0.1787878787878788,
           0,
           -0.125,
           0,
           0.5,
           -0.1,
           -0.15000000000000002,
           0,
           0,
           0.06666666666666667,
           0,
           0,
           0,
           -0.2,
           0.25,
           0,
           0.14285714285714285,
           0,
           0,
           -0.05,
           0.1875,
           0.2125,
           0,
           -0.6,
           -0.2,
           0,
           0.25,
           0.5,
           0,
           0.37878787878787873,
           -0.25,
           0.08333333333333334,
           0,
           0,
           0.5,
           0,
           0,
           0.5,
           0,
           -0.6,
           0,
           0.1,
           0,
           0,
           0.13636363636363635,
           0,
           0.3,
           0.5,
           0.5,
           -0.07692307692307693,
           0,
           0,
           0,
           0,
           0.0625,
           0,
           0,
           0,
           -0.3,
           0,
           0,
           0.1,
           -0.4,
           0.35000000000000003,
           0.4,
           0.005681818181818177,
           0,
           0,
           0.4,
           0,
           0,
           -0.11363636363636363,
           -0.125,
           0.06818181818181818,
           0.5,
           0,
           0,
           0.25,
           0.25,
           -0.35,
           0.5,
           0,
           -0.5,
           0.5,
           0,
           -0.25,
           0,
           0,
           -0.125,
           0,
           0.13636363636363635,
           0,
           0,
           -0.375,
           0,
           0,
           0,
           -0.15000000000000002,
           0.5,
           0.48750000000000004,
           0.13636363636363635,
           0,
           0,
           -0.125,
           0,
           0,
           0,
           -0.4,
           0,
           0,
           0,
           0.12121212121212122,
           0,
           0,
           0.19999999999999998,
           0.35714285714285715,
           -0.07222222222222226,
           0.09583333333333333,
           0.2,
           0,
           0.06818181818181818,
           0.2857142857142857,
           0,
           0.5,
           0.4,
           -0.4,
           0,
           0.5,
           0,
           0.4125,
           0.35,
           0.3,
           -0.2,
           -0.16666666666666666,
           0,
           -0.075,
           -0.05681818181818182,
           0.5,
           0.5,
           0,
           0.025000000000000005,
           0,
           0.031313131313131314,
           0.8,
           0.24999999999999997,
           0,
           0.375,
           0,
           0,
           0,
           0,
           0.4,
           0.13636363636363635,
           0.4,
           0.25,
           0,
           0,
           0,
           -0.011742424242424249,
           0.06818181818181818,
           0.1,
           0.21212121212121213,
           -0.125,
           0.13636363636363635,
           0,
           0,
           0,
           0.5,
           0.13636363636363635,
           0.5444444444444444,
           0.2,
           0,
           -0.3333333333333333,
           0,
           -0.125,
           0,
           0.19,
           0,
           0.3,
           -0.06666666666666667,
           0,
           0,
           0,
           -0.024999999999999994,
           -0.025,
           -0.21428571428571427,
           0,
           -0.08181818181818182,
           0,
           -0.13333333333333333,
           -0.05,
           0,
           0.5,
           0.1,
           0,
           -0.15,
           0,
           0.22727272727272727,
           0.5,
           0,
           0,
           0,
           -0.2,
           0,
           0.10497835497835499,
           0,
           0.08333333333333333,
           0,
           0,
           0,
           0.13636363636363635,
           0.0014814814814814725,
           0.12121212121212122,
           0,
           0,
           0,
           0.4,
           0.3,
           0.3,
           0.6,
           0,
           0,
           0,
           -0.25,
           0,
           1,
           0,
           0,
           0,
           0.06818181818181818,
           0,
           0.5,
           0,
           -0.48888888888888893,
           0.0625,
           0,
           0.1,
           0,
           0.06818181818181818,
           0,
           -0.17499999999999993,
           0.3,
           0,
           -0.25,
           0,
           0,
           0.25,
           0.13636363636363635,
           -0.6,
           0.425,
           0,
           0,
           0.25,
           0,
           0,
           -0.10000000000000003,
           0,
           0.35,
           0,
           0,
           -0.125,
           0,
           0,
           0.2333333333333333,
           0.0625,
           0.8,
           -0.2,
           0,
           0.4,
           0,
           0,
           0.5,
           0,
           0,
           0,
           -0.024242424242424242,
           0.25,
           0,
           0,
           0.5,
           0.55,
           0.38125,
           0,
           -0.13333333333333333,
           0,
           -0.7142857142857143,
           0.3181818181818182,
           0.2333333333333333,
           0.25,
           0,
           0.13636363636363635,
           0,
           0,
           0.30952380952380953,
           0,
           0,
           0.5,
           0,
           0,
           0,
           0.3181818181818182,
           0.0062500000000000056,
           -0.16666666666666666,
           -0.125,
           0.05,
           0.05,
           -0.2916666666666667,
           0,
           0.525,
           0,
           -0.05,
           -0.033333333333333326,
           0,
           0.09659090909090909,
           0,
           0,
           -0.05000000000000002,
           0,
           0.375,
           0,
           0.1,
           -0.4,
           -0.6,
           0.15,
           0,
           0,
           0,
           0,
           0,
           0,
           0,
           0.5,
           0.1,
           0.5,
           0.2857142857142857,
           0,
           0,
           -0.14027777777777778,
           0,
           0,
           0.375,
           0.5,
           0,
           0,
           0.12878787878787878,
           -0.1101851851851852,
           0.2,
           0.06818181818181818,
           0,
           0,
           0,
           0.037500000000000006,
           0.4375,
           -0.4,
           -0.2,
           0,
           0.33,
           0.5,
           -0.1,
           0,
           0,
           -0.06888888888888889,
           0,
           0.13636363636363635,
           0.16666666666666666,
           0.3333333333333333,
           0
          ],
          "coloraxis": "coloraxis",
          "opacity": 0.7,
          "size": [
           0.0888888888888889,
           0.6,
           0.4083333333333333,
           0,
           0.8,
           0.8888888888888888,
           0.2,
           0,
           1,
           0.1,
           0.33333333333333337,
           0.5,
           0.22727272727272727,
           0.45454545454545453,
           0.5,
           0.6666666666666666,
           0.6976190476190476,
           0,
           0,
           0.65,
           0,
           0.4171717171717172,
           0.7272727272727273,
           0.3333333333333333,
           0.6166666666666666,
           0.6363636363636364,
           0,
           0,
           0.5,
           1,
           0.6000000000000001,
           0.375,
           0,
           0,
           0.39629629629629637,
           0.3333333333333333,
           0.3151515151515151,
           0.4,
           0.39999999999999997,
           0.4583333333333333,
           0,
           0.21428571428571427,
           0.22222222222222224,
           0,
           0.45454545454545453,
           0,
           1,
           0.55,
           1,
           0.5,
           0.5499999999999999,
           0,
           0,
           0,
           0.25,
           0,
           0.24166666666666667,
           0,
           0.5454545454545454,
           0.575,
           0,
           0.6875,
           0,
           0.25,
           0.7,
           0.4666666666666667,
           0,
           0.725,
           0,
           0,
           0.32962962962962966,
           0,
           0.5,
           0.25,
           0.5,
           0,
           0.25,
           0,
           0.47348484848484845,
           0,
           0,
           0.5333333333333333,
           0.575,
           0.43939393939393934,
           1,
           0,
           0.2833333333333333,
           0,
           0.45454545454545453,
           0.5,
           0.4,
           0.6647727272727273,
           0,
           0.5714285714285714,
           0.16666666666666666,
           0.8,
           0.8900000000000001,
           0,
           0,
           0,
           0.75,
           0.6,
           0.1,
           0.1,
           0,
           0.8333333333333334,
           0.11111111111111112,
           1,
           0.4171717171717172,
           0.5,
           0.48518518518518516,
           0,
           0.5,
           0.39999999999999997,
           0.5454545454545454,
           0,
           0.4,
           0.06666666666666667,
           0.26666666666666666,
           0,
           0.5,
           0.26515151515151514,
           0.2,
           0.5,
           0.55,
           0.06666666666666667,
           0,
           0.5,
           0.45,
           0,
           0,
           0,
           0.2,
           0.5070707070707071,
           0,
           0.125,
           0,
           0.8888888888888888,
           0.2,
           0.19999999999999998,
           0,
           0,
           0.6666666666666666,
           0.07500000000000001,
           0,
           0,
           0.1,
           0.75,
           0.37777777777777777,
           0.7678571428571428,
           0,
           0,
           0.2,
           0.5875,
           0.2625,
           0,
           0.4,
           0.4,
           0,
           0.3333333333333333,
           0.75,
           0,
           0.5,
           0.25,
           0.5833333333333333,
           0.3214285714285714,
           0,
           0.5,
           0,
           0.5,
           0.5,
           0.23333333333333334,
           1,
           0,
           1,
           0,
           0,
           0.5,
           0,
           0.5,
           0.5,
           0.5,
           0.2692307692307692,
           0,
           0,
           0,
           0,
           0.5,
           0,
           0.3,
           1,
           0.4,
           0,
           0.5,
           0.9,
           0.7,
           0.575,
           0.65,
           0.4147727272727273,
           0,
           0,
           0.8,
           0,
           0,
           0.5454545454545454,
           0.375,
           0.6022727272727273,
           0.5,
           0,
           0,
           0.4375,
           0.3,
           0.3666666666666667,
           0.5,
           0,
           1,
           0.5,
           0.05,
           0.45,
           0,
           0,
           0.5694444444444444,
           0,
           0.45454545454545453,
           0,
           0,
           1,
           0,
           0,
           0,
           0.23846153846153845,
           0.5,
           0.9750000000000001,
           0.45454545454545453,
           0,
           0.3,
           0.375,
           0,
           0,
           0,
           0.6,
           0.6,
           0,
           0,
           0.5833333333333334,
           0,
           0,
           0.5083333333333333,
           0.5714285714285714,
           0.4388888888888889,
           0.24583333333333335,
           0.2,
           0,
           0.42727272727272725,
           0.5357142857142857,
           0,
           0.6,
           0.775,
           0.6,
           0,
           0.5,
           0,
           0.5625,
           0.55,
           0.55,
           0.5166666666666666,
           0.43333333333333335,
           0,
           0.575,
           0.3522727272727273,
           1,
           1,
           0,
           0.075,
           0,
           0.5151515151515151,
           0.7,
           0.30000000000000004,
           0,
           0.55,
           0.5,
           0,
           0,
           0,
           0.5,
           0.45454545454545453,
           0.375,
           0.45,
           0.25,
           0.06666666666666667,
           0,
           0.5803030303030303,
           0.22727272727272727,
           0.4,
           0.3181818181818182,
           0.375,
           0.45454545454545453,
           0,
           0,
           0,
           0.9,
           0.45454545454545453,
           0.4222222222222222,
           0.9,
           0,
           0.6666666666666666,
           0,
           0.375,
           0.06666666666666667,
           0.5666666666666667,
           0,
           0.6333333333333333,
           0.675,
           0,
           0,
           0,
           0.225,
           0.45,
           0.35714285714285715,
           0.25,
           0.42727272727272725,
           0,
           0.6,
           0.2375,
           0,
           0.5,
           0.1,
           0,
           0.65,
           0,
           0.5454545454545454,
           0.5,
           0,
           0,
           1,
           0.4,
           0,
           0.334054834054834,
           0,
           0.41666666666666663,
           0,
           1,
           0.1,
           0.45454545454545453,
           0.6096296296296296,
           0.5833333333333334,
           0,
           0,
           0,
           1,
           0.3972222222222222,
           0.6,
           1,
           0,
           0,
           0.5,
           0.5,
           0,
           1,
           0,
           0,
           0,
           0.2606060606060606,
           0,
           0.6666666666666666,
           0,
           0.5499999999999999,
           0.5,
           0,
           0.6,
           0,
           0.22727272727272727,
           0,
           0.6083333333333334,
           0.1,
           0,
           0.25,
           0,
           0,
           0.2833333333333333,
           0.45454545454545453,
           0.8,
           0.525,
           0,
           0.4,
           0.3,
           0,
           0,
           0.44999999999999996,
           0.425,
           0.45000000000000007,
           0,
           0,
           0.375,
           0.06666666666666667,
           0,
           0.3,
           0.3125,
           1,
           0.2,
           0,
           1,
           0,
           0.1,
           0.43333333333333335,
           0,
           0.05,
           0,
           0.34848484848484845,
           0.3333333333333333,
           0,
           0,
           0.5,
           0.65,
           0.45625000000000004,
           0.55,
           0.6,
           0.1,
           0.8571428571428571,
           0.4772727272727273,
           0.3333333333333333,
           0.7,
           0.1,
           0.45454545454545453,
           0,
           0,
           0.6309523809523809,
           0,
           0,
           1,
           0,
           0,
           0,
           0.4772727272727273,
           0.3,
           0.06666666666666667,
           0.375,
           0.7,
           0.75,
           0.5416666666666666,
           0,
           0.625,
           0,
           0.3,
           0.7000000000000001,
           0,
           0.5511363636363636,
           0.5,
           0,
           0.5833333333333334,
           0.0625,
           1,
           0,
           0.4,
           0.4,
           0.8,
           0.6,
           0,
           0,
           0,
           0,
           0,
           0,
           0.7,
           0.8888888888888888,
           0.1,
           0.775,
           0.5357142857142857,
           0,
           0,
           0.3319444444444445,
           0,
           0,
           0.575,
           0.5,
           0,
           0,
           0.4570707070707071,
           0.512962962962963,
           0.2,
           0.6022727272727273,
           0,
           0,
           0,
           0.4625,
           0.825,
           0.4,
           0.4,
           0,
           0.72,
           0.5,
           0.1,
           1,
           0,
           0.49111111111111105,
           0.125,
           0.45454545454545453,
           0.48484848484848486,
           0.8333333333333334,
           0
          ],
          "sizemode": "area",
          "sizeref": 0.0025
         },
         "mode": "markers",
         "name": "",
         "showlegend": false,
         "subplot": "mapbox",
         "type": "scattermapbox"
        }
       ],
       "layout": {
        "coloraxis": {
         "colorbar": {
          "title": {
           "text": "polarity"
          }
         },
         "colorscale": [
          [
           0,
           "#0d0887"
          ],
          [
           0.1111111111111111,
           "#46039f"
          ],
          [
           0.2222222222222222,
           "#7201a8"
          ],
          [
           0.3333333333333333,
           "#9c179e"
          ],
          [
           0.4444444444444444,
           "#bd3786"
          ],
          [
           0.5555555555555556,
           "#d8576b"
          ],
          [
           0.6666666666666666,
           "#ed7953"
          ],
          [
           0.7777777777777778,
           "#fb9f3a"
          ],
          [
           0.8888888888888888,
           "#fdca26"
          ],
          [
           1,
           "#f0f921"
          ]
         ]
        },
        "height": 600,
        "legend": {
         "itemsizing": "constant",
         "tracegroupgap": 0
        },
        "mapbox": {
         "center": {
          "lat": 40,
          "lon": -100
         },
         "domain": {
          "x": [
           0,
           1
          ],
          "y": [
           0,
           1
          ]
         },
         "style": "carto-positron",
         "zoom": 4
        },
        "margin": {
         "b": 0,
         "l": 0,
         "r": 0,
         "t": 30
        },
        "template": {
         "data": {
          "bar": [
           {
            "error_x": {
             "color": "#2a3f5f"
            },
            "error_y": {
             "color": "#2a3f5f"
            },
            "marker": {
             "line": {
              "color": "#E5ECF6",
              "width": 0.5
             }
            },
            "type": "bar"
           }
          ],
          "barpolar": [
           {
            "marker": {
             "line": {
              "color": "#E5ECF6",
              "width": 0.5
             }
            },
            "type": "barpolar"
           }
          ],
          "carpet": [
           {
            "aaxis": {
             "endlinecolor": "#2a3f5f",
             "gridcolor": "white",
             "linecolor": "white",
             "minorgridcolor": "white",
             "startlinecolor": "#2a3f5f"
            },
            "baxis": {
             "endlinecolor": "#2a3f5f",
             "gridcolor": "white",
             "linecolor": "white",
             "minorgridcolor": "white",
             "startlinecolor": "#2a3f5f"
            },
            "type": "carpet"
           }
          ],
          "choropleth": [
           {
            "colorbar": {
             "outlinewidth": 0,
             "ticks": ""
            },
            "type": "choropleth"
           }
          ],
          "contour": [
           {
            "colorbar": {
             "outlinewidth": 0,
             "ticks": ""
            },
            "colorscale": [
             [
              0,
              "#0d0887"
             ],
             [
              0.1111111111111111,
              "#46039f"
             ],
             [
              0.2222222222222222,
              "#7201a8"
             ],
             [
              0.3333333333333333,
              "#9c179e"
             ],
             [
              0.4444444444444444,
              "#bd3786"
             ],
             [
              0.5555555555555556,
              "#d8576b"
             ],
             [
              0.6666666666666666,
              "#ed7953"
             ],
             [
              0.7777777777777778,
              "#fb9f3a"
             ],
             [
              0.8888888888888888,
              "#fdca26"
             ],
             [
              1,
              "#f0f921"
             ]
            ],
            "type": "contour"
           }
          ],
          "contourcarpet": [
           {
            "colorbar": {
             "outlinewidth": 0,
             "ticks": ""
            },
            "type": "contourcarpet"
           }
          ],
          "heatmap": [
           {
            "colorbar": {
             "outlinewidth": 0,
             "ticks": ""
            },
            "colorscale": [
             [
              0,
              "#0d0887"
             ],
             [
              0.1111111111111111,
              "#46039f"
             ],
             [
              0.2222222222222222,
              "#7201a8"
             ],
             [
              0.3333333333333333,
              "#9c179e"
             ],
             [
              0.4444444444444444,
              "#bd3786"
             ],
             [
              0.5555555555555556,
              "#d8576b"
             ],
             [
              0.6666666666666666,
              "#ed7953"
             ],
             [
              0.7777777777777778,
              "#fb9f3a"
             ],
             [
              0.8888888888888888,
              "#fdca26"
             ],
             [
              1,
              "#f0f921"
             ]
            ],
            "type": "heatmap"
           }
          ],
          "heatmapgl": [
           {
            "colorbar": {
             "outlinewidth": 0,
             "ticks": ""
            },
            "colorscale": [
             [
              0,
              "#0d0887"
             ],
             [
              0.1111111111111111,
              "#46039f"
             ],
             [
              0.2222222222222222,
              "#7201a8"
             ],
             [
              0.3333333333333333,
              "#9c179e"
             ],
             [
              0.4444444444444444,
              "#bd3786"
             ],
             [
              0.5555555555555556,
              "#d8576b"
             ],
             [
              0.6666666666666666,
              "#ed7953"
             ],
             [
              0.7777777777777778,
              "#fb9f3a"
             ],
             [
              0.8888888888888888,
              "#fdca26"
             ],
             [
              1,
              "#f0f921"
             ]
            ],
            "type": "heatmapgl"
           }
          ],
          "histogram": [
           {
            "marker": {
             "colorbar": {
              "outlinewidth": 0,
              "ticks": ""
             }
            },
            "type": "histogram"
           }
          ],
          "histogram2d": [
           {
            "colorbar": {
             "outlinewidth": 0,
             "ticks": ""
            },
            "colorscale": [
             [
              0,
              "#0d0887"
             ],
             [
              0.1111111111111111,
              "#46039f"
             ],
             [
              0.2222222222222222,
              "#7201a8"
             ],
             [
              0.3333333333333333,
              "#9c179e"
             ],
             [
              0.4444444444444444,
              "#bd3786"
             ],
             [
              0.5555555555555556,
              "#d8576b"
             ],
             [
              0.6666666666666666,
              "#ed7953"
             ],
             [
              0.7777777777777778,
              "#fb9f3a"
             ],
             [
              0.8888888888888888,
              "#fdca26"
             ],
             [
              1,
              "#f0f921"
             ]
            ],
            "type": "histogram2d"
           }
          ],
          "histogram2dcontour": [
           {
            "colorbar": {
             "outlinewidth": 0,
             "ticks": ""
            },
            "colorscale": [
             [
              0,
              "#0d0887"
             ],
             [
              0.1111111111111111,
              "#46039f"
             ],
             [
              0.2222222222222222,
              "#7201a8"
             ],
             [
              0.3333333333333333,
              "#9c179e"
             ],
             [
              0.4444444444444444,
              "#bd3786"
             ],
             [
              0.5555555555555556,
              "#d8576b"
             ],
             [
              0.6666666666666666,
              "#ed7953"
             ],
             [
              0.7777777777777778,
              "#fb9f3a"
             ],
             [
              0.8888888888888888,
              "#fdca26"
             ],
             [
              1,
              "#f0f921"
             ]
            ],
            "type": "histogram2dcontour"
           }
          ],
          "mesh3d": [
           {
            "colorbar": {
             "outlinewidth": 0,
             "ticks": ""
            },
            "type": "mesh3d"
           }
          ],
          "parcoords": [
           {
            "line": {
             "colorbar": {
              "outlinewidth": 0,
              "ticks": ""
             }
            },
            "type": "parcoords"
           }
          ],
          "pie": [
           {
            "automargin": true,
            "type": "pie"
           }
          ],
          "scatter": [
           {
            "marker": {
             "colorbar": {
              "outlinewidth": 0,
              "ticks": ""
             }
            },
            "type": "scatter"
           }
          ],
          "scatter3d": [
           {
            "line": {
             "colorbar": {
              "outlinewidth": 0,
              "ticks": ""
             }
            },
            "marker": {
             "colorbar": {
              "outlinewidth": 0,
              "ticks": ""
             }
            },
            "type": "scatter3d"
           }
          ],
          "scattercarpet": [
           {
            "marker": {
             "colorbar": {
              "outlinewidth": 0,
              "ticks": ""
             }
            },
            "type": "scattercarpet"
           }
          ],
          "scattergeo": [
           {
            "marker": {
             "colorbar": {
              "outlinewidth": 0,
              "ticks": ""
             }
            },
            "type": "scattergeo"
           }
          ],
          "scattergl": [
           {
            "marker": {
             "colorbar": {
              "outlinewidth": 0,
              "ticks": ""
             }
            },
            "type": "scattergl"
           }
          ],
          "scattermapbox": [
           {
            "marker": {
             "colorbar": {
              "outlinewidth": 0,
              "ticks": ""
             }
            },
            "type": "scattermapbox"
           }
          ],
          "scatterpolar": [
           {
            "marker": {
             "colorbar": {
              "outlinewidth": 0,
              "ticks": ""
             }
            },
            "type": "scatterpolar"
           }
          ],
          "scatterpolargl": [
           {
            "marker": {
             "colorbar": {
              "outlinewidth": 0,
              "ticks": ""
             }
            },
            "type": "scatterpolargl"
           }
          ],
          "scatterternary": [
           {
            "marker": {
             "colorbar": {
              "outlinewidth": 0,
              "ticks": ""
             }
            },
            "type": "scatterternary"
           }
          ],
          "surface": [
           {
            "colorbar": {
             "outlinewidth": 0,
             "ticks": ""
            },
            "colorscale": [
             [
              0,
              "#0d0887"
             ],
             [
              0.1111111111111111,
              "#46039f"
             ],
             [
              0.2222222222222222,
              "#7201a8"
             ],
             [
              0.3333333333333333,
              "#9c179e"
             ],
             [
              0.4444444444444444,
              "#bd3786"
             ],
             [
              0.5555555555555556,
              "#d8576b"
             ],
             [
              0.6666666666666666,
              "#ed7953"
             ],
             [
              0.7777777777777778,
              "#fb9f3a"
             ],
             [
              0.8888888888888888,
              "#fdca26"
             ],
             [
              1,
              "#f0f921"
             ]
            ],
            "type": "surface"
           }
          ],
          "table": [
           {
            "cells": {
             "fill": {
              "color": "#EBF0F8"
             },
             "line": {
              "color": "white"
             }
            },
            "header": {
             "fill": {
              "color": "#C8D4E3"
             },
             "line": {
              "color": "white"
             }
            },
            "type": "table"
           }
          ]
         },
         "layout": {
          "annotationdefaults": {
           "arrowcolor": "#2a3f5f",
           "arrowhead": 0,
           "arrowwidth": 1
          },
          "coloraxis": {
           "colorbar": {
            "outlinewidth": 0,
            "ticks": ""
           }
          },
          "colorscale": {
           "diverging": [
            [
             0,
             "#8e0152"
            ],
            [
             0.1,
             "#c51b7d"
            ],
            [
             0.2,
             "#de77ae"
            ],
            [
             0.3,
             "#f1b6da"
            ],
            [
             0.4,
             "#fde0ef"
            ],
            [
             0.5,
             "#f7f7f7"
            ],
            [
             0.6,
             "#e6f5d0"
            ],
            [
             0.7,
             "#b8e186"
            ],
            [
             0.8,
             "#7fbc41"
            ],
            [
             0.9,
             "#4d9221"
            ],
            [
             1,
             "#276419"
            ]
           ],
           "sequential": [
            [
             0,
             "#0d0887"
            ],
            [
             0.1111111111111111,
             "#46039f"
            ],
            [
             0.2222222222222222,
             "#7201a8"
            ],
            [
             0.3333333333333333,
             "#9c179e"
            ],
            [
             0.4444444444444444,
             "#bd3786"
            ],
            [
             0.5555555555555556,
             "#d8576b"
            ],
            [
             0.6666666666666666,
             "#ed7953"
            ],
            [
             0.7777777777777778,
             "#fb9f3a"
            ],
            [
             0.8888888888888888,
             "#fdca26"
            ],
            [
             1,
             "#f0f921"
            ]
           ],
           "sequentialminus": [
            [
             0,
             "#0d0887"
            ],
            [
             0.1111111111111111,
             "#46039f"
            ],
            [
             0.2222222222222222,
             "#7201a8"
            ],
            [
             0.3333333333333333,
             "#9c179e"
            ],
            [
             0.4444444444444444,
             "#bd3786"
            ],
            [
             0.5555555555555556,
             "#d8576b"
            ],
            [
             0.6666666666666666,
             "#ed7953"
            ],
            [
             0.7777777777777778,
             "#fb9f3a"
            ],
            [
             0.8888888888888888,
             "#fdca26"
            ],
            [
             1,
             "#f0f921"
            ]
           ]
          },
          "colorway": [
           "#636efa",
           "#EF553B",
           "#00cc96",
           "#ab63fa",
           "#FFA15A",
           "#19d3f3",
           "#FF6692",
           "#B6E880",
           "#FF97FF",
           "#FECB52"
          ],
          "font": {
           "color": "#2a3f5f"
          },
          "geo": {
           "bgcolor": "white",
           "lakecolor": "white",
           "landcolor": "#E5ECF6",
           "showlakes": true,
           "showland": true,
           "subunitcolor": "white"
          },
          "hoverlabel": {
           "align": "left"
          },
          "hovermode": "closest",
          "mapbox": {
           "style": "light"
          },
          "paper_bgcolor": "white",
          "plot_bgcolor": "#E5ECF6",
          "polar": {
           "angularaxis": {
            "gridcolor": "white",
            "linecolor": "white",
            "ticks": ""
           },
           "bgcolor": "#E5ECF6",
           "radialaxis": {
            "gridcolor": "white",
            "linecolor": "white",
            "ticks": ""
           }
          },
          "scene": {
           "xaxis": {
            "backgroundcolor": "#E5ECF6",
            "gridcolor": "white",
            "gridwidth": 2,
            "linecolor": "white",
            "showbackground": true,
            "ticks": "",
            "zerolinecolor": "white"
           },
           "yaxis": {
            "backgroundcolor": "#E5ECF6",
            "gridcolor": "white",
            "gridwidth": 2,
            "linecolor": "white",
            "showbackground": true,
            "ticks": "",
            "zerolinecolor": "white"
           },
           "zaxis": {
            "backgroundcolor": "#E5ECF6",
            "gridcolor": "white",
            "gridwidth": 2,
            "linecolor": "white",
            "showbackground": true,
            "ticks": "",
            "zerolinecolor": "white"
           }
          },
          "shapedefaults": {
           "line": {
            "color": "#2a3f5f"
           }
          },
          "ternary": {
           "aaxis": {
            "gridcolor": "white",
            "linecolor": "white",
            "ticks": ""
           },
           "baxis": {
            "gridcolor": "white",
            "linecolor": "white",
            "ticks": ""
           },
           "bgcolor": "#E5ECF6",
           "caxis": {
            "gridcolor": "white",
            "linecolor": "white",
            "ticks": ""
           }
          },
          "title": {
           "x": 0.05
          },
          "xaxis": {
           "automargin": true,
           "gridcolor": "white",
           "linecolor": "white",
           "ticks": "",
           "title": {
            "standoff": 15
           },
           "zerolinecolor": "white",
           "zerolinewidth": 2
          },
          "yaxis": {
           "automargin": true,
           "gridcolor": "white",
           "linecolor": "white",
           "ticks": "",
           "title": {
            "standoff": 15
           },
           "zerolinecolor": "white",
           "zerolinewidth": 2
          }
         }
        },
        "title": {
         "text": "Geospatial visualization of polarity and subjectivity of tweets"
        }
       }
      },
      "text/html": [
       "<div>\n",
       "        \n",
       "        \n",
       "            <div id=\"e8601a20-e4ef-4d45-95be-e6b759d59736\" class=\"plotly-graph-div\" style=\"height:600px; width:100%;\"></div>\n",
       "            <script type=\"text/javascript\">\n",
       "                require([\"plotly\"], function(Plotly) {\n",
       "                    window.PLOTLYENV=window.PLOTLYENV || {};\n",
       "                    \n",
       "                if (document.getElementById(\"e8601a20-e4ef-4d45-95be-e6b759d59736\")) {\n",
       "                    Plotly.newPlot(\n",
       "                        'e8601a20-e4ef-4d45-95be-e6b759d59736',\n",
       "                        [{\"customdata\": [[-0.06666666666666667, 0.0888888888888889], [0.225, 0.6], [0.0, 0.4083333333333333], [0.0, 0.0], [0.4, 0.8], [0.5, 0.8888888888888888], [-0.025, 0.2], [0.0, 0.0], [0.1, 1.0], [-0.35, 0.1], [2.7755575615628914e-17, 0.33333333333333337], [-0.25, 0.5], [0.06818181818181818, 0.22727272727272727], [0.13636363636363635, 0.45454545454545453], [0.13636363636363635, 0.5], [-0.3333333333333333, 0.6666666666666666], [-0.09523809523809523, 0.6976190476190476], [0.0, 0.0], [0.0, 0.0], [0.15, 0.65], [0.0, 0.0], [0.03585858585858584, 0.4171717171717172], [0.2681818181818182, 0.7272727272727273], [0.25, 0.3333333333333333], [-0.04000000000000001, 0.6166666666666666], [0.22424242424242424, 0.6363636363636364], [0.0, 0.0], [0.0, 0.0], [0.5, 0.5], [0.6, 1.0], [0.7, 0.6000000000000001], [-0.125, 0.375], [0.0, 0.0], [0.0, 0.0], [0.09814814814814815, 0.39629629629629637], [0.27777777777777773, 0.3333333333333333], [0.14242424242424243, 0.3151515151515151], [-0.25, 0.4], [0.13333333333333336, 0.39999999999999997], [0.26666666666666666, 0.4583333333333333], [0.0, 0.0], [0.03571428571428571, 0.21428571428571427], [0.044444444444444446, 0.22222222222222224], [0.0, 0.0], [0.13636363636363635, 0.45454545454545453], [0.0, 0.0], [-0.6, 1.0], [0.45, 0.55], [0.7, 1.0], [0.0, 0.5], [0.5499999999999999, 0.5499999999999999], [0.0, 0.0], [0.0, 0.0], [0.0, 0.0], [0.25, 0.25], [0.0, 0.0], [-0.09999999999999999, 0.24166666666666667], [0.0, 0.0], [0.22727272727272727, 0.5454545454545454], [0.4, 0.575], [0.0, 0.0], [-0.22916666666666666, 0.6875], [0.0, 0.0], [0.25, 0.25], [0.5, 0.7], [0.375, 0.4666666666666667], [0.0, 0.0], [-0.2, 0.725], [0.0, 0.0], [0.0, 0.0], [-0.06851851851851853, 0.32962962962962966], [0.0, 0.0], [0.2, 0.5], [0.25, 0.25], [0.3181818181818182, 0.5], [0.0, 0.0], [0.06818181818181818, 0.25], [0.0, 0.0], [0.26325757575757575, 0.47348484848484845], [0.0, 0.0], [0.0, 0.0], [-0.11666666666666665, 0.5333333333333333], [0.1875, 0.575], [0.23863636363636365, 0.43939393939393934], [-0.5, 1.0], [0.0, 0.0], [0.02500000000000001, 0.2833333333333333], [0.0, 0.0], [0.13636363636363635, 0.45454545454545453], [-0.25, 0.5], [-0.3, 0.4], [0.2556818181818182, 0.6647727272727273], [0.0, 0.0], [0.35714285714285715, 0.5714285714285714], [0.16666666666666666, 0.16666666666666666], [0.6, 0.8], [0.505, 0.8900000000000001], [0.0, 0.0], [0.0, 0.0], [0.0, 0.0], [0.7, 0.75], [-0.13333333333333333, 0.6], [0.0, 0.1], [0.0, 0.1], [0.0, 0.0], [0.43333333333333335, 0.8333333333333334], [0.0, 0.11111111111111112], [-0.5, 1.0], [0.03585858585858584, 0.4171717171717172], [0.5, 0.5], [0.3444444444444445, 0.48518518518518516], [0.0, 0.0], [0.5, 0.5], [-0.2, 0.39999999999999997], [0.22727272727272727, 0.5454545454545454], [0.0, 0.0], [0.2, 0.4], [0.0, 0.06666666666666667], [0.225, 0.26666666666666666], [0.0, 0.0], [0.5, 0.5], [-0.007575757575757579, 0.26515151515151514], [0.0, 0.2], [0.13636363636363635, 0.5], [0.35, 0.55], [0.0, 0.06666666666666667], [0.0, 0.0], [0.3, 0.5], [0.45, 0.45], [0.0, 0.0], [0.0, 0.0], [0.0, 0.0], [-0.15, 0.2], [0.1787878787878788, 0.5070707070707071], [0.0, 0.0], [-0.125, 0.125], [0.0, 0.0], [0.5, 0.8888888888888888], [-0.1, 0.2], [-0.15000000000000002, 0.19999999999999998], [0.0, 0.0], [0.0, 0.0], [0.06666666666666667, 0.6666666666666666], [0.0, 0.07500000000000001], [0.0, 0.0], [0.0, 0.0], [-0.2, 0.1], [0.25, 0.75], [0.0, 0.37777777777777777], [0.14285714285714285, 0.7678571428571428], [0.0, 0.0], [0.0, 0.0], [-0.05, 0.2], [0.1875, 0.5875], [0.2125, 0.2625], [0.0, 0.0], [-0.6, 0.4], [-0.2, 0.4], [0.0, 0.0], [0.25, 0.3333333333333333], [0.5, 0.75], [0.0, 0.0], [0.37878787878787873, 0.5], [-0.25, 0.25], [0.08333333333333334, 0.5833333333333333], [0.0, 0.3214285714285714], [0.0, 0.0], [0.5, 0.5], [0.0, 0.0], [0.0, 0.5], [0.5, 0.5], [0.0, 0.23333333333333334], [-0.6, 1.0], [0.0, 0.0], [0.1, 1.0], [0.0, 0.0], [0.0, 0.0], [0.13636363636363635, 0.5], [0.0, 0.0], [0.3, 0.5], [0.5, 0.5], [0.5, 0.5], [-0.07692307692307693, 0.2692307692307692], [0.0, 0.0], [0.0, 0.0], [0.0, 0.0], [0.0, 0.0], [0.0625, 0.5], [0.0, 0.0], [0.0, 0.3], [0.0, 1.0], [-0.3, 0.4], [0.0, 0.0], [0.0, 0.5], [0.1, 0.9], [-0.4, 0.7], [0.35000000000000003, 0.575], [0.4, 0.65], [0.005681818181818177, 0.4147727272727273], [0.0, 0.0], [0.0, 0.0], [0.4, 0.8], [0.0, 0.0], [0.0, 0.0], [-0.11363636363636363, 0.5454545454545454], [-0.125, 0.375], [0.06818181818181818, 0.6022727272727273], [0.5, 0.5], [0.0, 0.0], [0.0, 0.0], [0.25, 0.4375], [0.25, 0.3], [-0.35, 0.3666666666666667], [0.5, 0.5], [0.0, 0.0], [-0.5, 1.0], [0.5, 0.5], [0.0, 0.05], [-0.25, 0.45], [0.0, 0.0], [0.0, 0.0], [-0.125, 0.5694444444444444], [0.0, 0.0], [0.13636363636363635, 0.45454545454545453], [0.0, 0.0], [0.0, 0.0], [-0.375, 1.0], [0.0, 0.0], [0.0, 0.0], [0.0, 0.0], [-0.15000000000000002, 0.23846153846153845], [0.5, 0.5], [0.48750000000000004, 0.9750000000000001], [0.13636363636363635, 0.45454545454545453], [0.0, 0.0], [0.0, 0.3], [-0.125, 0.375], [0.0, 0.0], [0.0, 0.0], [0.0, 0.0], [-0.4, 0.6], [0.0, 0.6], [0.0, 0.0], [0.0, 0.0], [0.12121212121212122, 0.5833333333333334], [0.0, 0.0], [0.0, 0.0], [0.19999999999999998, 0.5083333333333333], [0.35714285714285715, 0.5714285714285714], [-0.07222222222222226, 0.4388888888888889], [0.09583333333333333, 0.24583333333333335], [0.2, 0.2], [0.0, 0.0], [0.06818181818181818, 0.42727272727272725], [0.2857142857142857, 0.5357142857142857], [0.0, 0.0], [0.5, 0.6], [0.4, 0.775], [-0.4, 0.6], [0.0, 0.0], [0.5, 0.5], [0.0, 0.0], [0.4125, 0.5625], [0.35, 0.55], [0.3, 0.55], [-0.2, 0.5166666666666666], [-0.16666666666666666, 0.43333333333333335], [0.0, 0.0], [-0.075, 0.575], [-0.05681818181818182, 0.3522727272727273], [0.5, 1.0], [0.5, 1.0], [0.0, 0.0], [0.025000000000000005, 0.075], [0.0, 0.0], [0.031313131313131314, 0.5151515151515151], [0.8, 0.7], [0.24999999999999997, 0.30000000000000004], [0.0, 0.0], [0.375, 0.55], [0.0, 0.5], [0.0, 0.0], [0.0, 0.0], [0.0, 0.0], [0.4, 0.5], [0.13636363636363635, 0.45454545454545453], [0.4, 0.375], [0.25, 0.45], [0.0, 0.25], [0.0, 0.06666666666666667], [0.0, 0.0], [-0.011742424242424249, 0.5803030303030303], [0.06818181818181818, 0.22727272727272727], [0.1, 0.4], [0.21212121212121213, 0.3181818181818182], [-0.125, 0.375], [0.13636363636363635, 0.45454545454545453], [0.0, 0.0], [0.0, 0.0], [0.0, 0.0], [0.5, 0.9], [0.13636363636363635, 0.45454545454545453], [0.5444444444444444, 0.4222222222222222], [0.2, 0.9], [0.0, 0.0], [-0.3333333333333333, 0.6666666666666666], [0.0, 0.0], [-0.125, 0.375], [0.0, 0.06666666666666667], [0.19, 0.5666666666666667], [0.0, 0.0], [0.3, 0.6333333333333333], [-0.06666666666666667, 0.675], [0.0, 0.0], [0.0, 0.0], [0.0, 0.0], [-0.024999999999999994, 0.225], [-0.025, 0.45], [-0.21428571428571427, 0.35714285714285715], [0.0, 0.25], [-0.08181818181818182, 0.42727272727272725], [0.0, 0.0], [-0.13333333333333333, 0.6], [-0.05, 0.2375], [0.0, 0.0], [0.5, 0.5], [0.1, 0.1], [0.0, 0.0], [-0.15, 0.65], [0.0, 0.0], [0.22727272727272727, 0.5454545454545454], [0.5, 0.5], [0.0, 0.0], [0.0, 0.0], [0.0, 1.0], [-0.2, 0.4], [0.0, 0.0], [0.10497835497835499, 0.334054834054834], [0.0, 0.0], [0.08333333333333333, 0.41666666666666663], [0.0, 0.0], [0.0, 1.0], [0.0, 0.1], [0.13636363636363635, 0.45454545454545453], [0.0014814814814814725, 0.6096296296296296], [0.12121212121212122, 0.5833333333333334], [0.0, 0.0], [0.0, 0.0], [0.0, 0.0], [0.4, 1.0], [0.3, 0.3972222222222222], [0.3, 0.6], [0.6, 1.0], [0.0, 0.0], [0.0, 0.0], [0.0, 0.5], [-0.25, 0.5], [0.0, 0.0], [1.0, 1.0], [0.0, 0.0], [0.0, 0.0], [0.0, 0.0], [0.06818181818181818, 0.2606060606060606], [0.0, 0.0], [0.5, 0.6666666666666666], [0.0, 0.0], [-0.48888888888888893, 0.5499999999999999], [0.0625, 0.5], [0.0, 0.0], [0.1, 0.6], [0.0, 0.0], [0.06818181818181818, 0.22727272727272727], [0.0, 0.0], [-0.17499999999999993, 0.6083333333333334], [0.3, 0.1], [0.0, 0.0], [-0.25, 0.25], [0.0, 0.0], [0.0, 0.0], [0.25, 0.2833333333333333], [0.13636363636363635, 0.45454545454545453], [-0.6, 0.8], [0.425, 0.525], [0.0, 0.0], [0.0, 0.4], [0.25, 0.3], [0.0, 0.0], [0.0, 0.0], [-0.10000000000000003, 0.44999999999999996], [0.0, 0.425], [0.35, 0.45000000000000007], [0.0, 0.0], [0.0, 0.0], [-0.125, 0.375], [0.0, 0.06666666666666667], [0.0, 0.0], [0.2333333333333333, 0.3], [0.0625, 0.3125], [0.8, 1.0], [-0.2, 0.2], [0.0, 0.0], [0.4, 1.0], [0.0, 0.0], [0.0, 0.1], [0.5, 0.43333333333333335], [0.0, 0.0], [0.0, 0.05], [0.0, 0.0], [-0.024242424242424242, 0.34848484848484845], [0.25, 0.3333333333333333], [0.0, 0.0], [0.0, 0.0], [0.5, 0.5], [0.55, 0.65], [0.38125, 0.45625000000000004], [0.0, 0.55], [-0.13333333333333333, 0.6], [0.0, 0.1], [-0.7142857142857143, 0.8571428571428571], [0.3181818181818182, 0.4772727272727273], [0.2333333333333333, 0.3333333333333333], [0.25, 0.7], [0.0, 0.1], [0.13636363636363635, 0.45454545454545453], [0.0, 0.0], [0.0, 0.0], [0.30952380952380953, 0.6309523809523809], [0.0, 0.0], [0.0, 0.0], [0.5, 1.0], [0.0, 0.0], [0.0, 0.0], [0.0, 0.0], [0.3181818181818182, 0.4772727272727273], [0.0062500000000000056, 0.3], [-0.16666666666666666, 0.06666666666666667], [-0.125, 0.375], [0.05, 0.7], [0.05, 0.75], [-0.2916666666666667, 0.5416666666666666], [0.0, 0.0], [0.525, 0.625], [0.0, 0.0], [-0.05, 0.3], [-0.033333333333333326, 0.7000000000000001], [0.0, 0.0], [0.09659090909090909, 0.5511363636363636], [0.0, 0.5], [0.0, 0.0], [-0.05000000000000002, 0.5833333333333334], [0.0, 0.0625], [0.375, 1.0], [0.0, 0.0], [0.1, 0.4], [-0.4, 0.4], [-0.6, 0.8], [0.15, 0.6], [0.0, 0.0], [0.0, 0.0], [0.0, 0.0], [0.0, 0.0], [0.0, 0.0], [0.0, 0.0], [0.0, 0.7], [0.5, 0.8888888888888888], [0.1, 0.1], [0.5, 0.775], [0.2857142857142857, 0.5357142857142857], [0.0, 0.0], [0.0, 0.0], [-0.14027777777777778, 0.3319444444444445], [0.0, 0.0], [0.0, 0.0], [0.375, 0.575], [0.5, 0.5], [0.0, 0.0], [0.0, 0.0], [0.12878787878787878, 0.4570707070707071], [-0.1101851851851852, 0.512962962962963], [0.2, 0.2], [0.06818181818181818, 0.6022727272727273], [0.0, 0.0], [0.0, 0.0], [0.0, 0.0], [0.037500000000000006, 0.4625], [0.4375, 0.825], [-0.4, 0.4], [-0.2, 0.4], [0.0, 0.0], [0.33, 0.72], [0.5, 0.5], [-0.1, 0.1], [0.0, 1.0], [0.0, 0.0], [-0.06888888888888889, 0.49111111111111105], [0.0, 0.125], [0.13636363636363635, 0.45454545454545453], [0.16666666666666666, 0.48484848484848486], [0.3333333333333333, 0.8333333333333334], [0.0, 0.0]], \"hoverlabel\": {\"namelength\": 0}, \"hovertemplate\": \"<b>%{hovertext}</b><br><br>subjectivity=%{customdata[1]}<br>polarity=%{marker.color}<br>Lat=%{lat}<br>Lon=%{lon}\", \"hovertext\": [\"hmmm im starting to sense people are reaching the last few fibres of their tether\", \"this tells us pretty much everything about\", \"highest singleday spike of 49931 cases mark with 708 deaths amp reported in last 24 hours total positiv\", \"subdued start to onam celebrations in kerala amid covid\", \"duterte by december in fullness of gods time we will have hopefully a free december and\", \"dont hesitate to call 937 of you are feeling and if the 19 symptoms and also be sure to download\", \"s younger brother has died of after long hospitalization\", \"after a lengthy discussion of 3 hours the unified school board voted monday evening on a school reope\", \"test of home minister amit shah has not been conducted so far ministry of home affairs mha official\", \"british decision to quarantine travellers from causes anger worry\", \"that last line should read there is no evidence good bad or indifferent of a 2nd wave of\", \"getting an antibody test to see if you had months ago is pointless according to guidelines issued by a ma\", \"of the 10 new cases detected in district today 5 are local contact details\", \"new ukindia medtech programme to fight covid19\", \"pms live media conference\", \"if hasnt started preparing for october already theyre going to have some serious issues c\", \"if youre black or brown youre more likely to get sick or die from my covid19 health disparities act\", \"consumer health products do not require prescription from and can be purchased over the counter otc wi\", \"breaking president vladimir says s coronavirus has been registered his daughter is among\", \"i sincerely despise the people that celebrate not wearing a mask in the shops you are a piece of shit\", \"how cognitive technologies can help managers during the crisis\", \"the number of all deaths in patients testing positive for has been revised down after the govt imposed a 2\", \"of the 53 new cases today 45 are associated with outbreaks or contacts of confirmed cases a reminder that\", \"as this article says 1 in 4 had a visit in the first 3 months of the outbreak u\", \"this period might be very exhausting amp overwhelming might trigger your mental health or give you majo\", \"registration of 1147 new confirmed cases with coronavirus and 1238 new recoveries in the sultanate\", \"need type opositive at hospital blood component need from ove\", \"cyclone amphan destroyed khadija and her husbands fishing ponds took away their ability to work t\", \"coronavirus is covered under our health insurance policies reach us for more info 9845684754\", \"where to buy face masks in australia and how to make your own\", \"that is a good point the racism and xenophobia surrounding the etiology of has impacted the virus response\", \"while states have expanded policies due to 16 of the 34 states with expanded telehealth polic\", \"as a member of s amp equity taskforce chan participated in a\", \"disparages dr fauci but promotes the my pillow guy when it comes to\", \"how many roads must a man walk down before he can get a dagwood dog on the long weekend during the\", \"the bank of england says that britains economy is recovering more quickly than initially feared from the\", \"is this real life ion cutelaba vs magomed ankalaev removed from following positive test\", \"which small business loan for the covid19 pandemic would help me if i am selfemployed with no employees\", \"was a huge honour to speak at this event please keep your eyes out for the next event coming shortly\", \"happy womens day 2020 under the theme generation equality realising womens rights for an equal future\", \"our senior footballers in championship qtr finals tmrw in parnell pk\", \"came in and not a single staff member has a on\", \"not much use of mask nor even social distance amp this whole drama amp panic was created by\", \"usa today congressional staff member for rep vern buchanan dies of covid19 via\", \"coronavirus breaks out again in new zealand after 102 days\", \"food menus are dirtiest thing in restaurant tables it will replaced by qr codes\", \"covid19 what can artificial intelligence contribute to healthcare industry\", \"collateral damage from doctors worry patients diagnosed with more advanced because of delays\", \"isnt a respecter of anybody here is our beloved alaafin and omo iku tiku o gbodo pa as he fondly call\", \"definitely not doing this as a job\", \"so much has been written on what has made responses successful or failures surprisingly a focus on what\", \"i think some of us have been saying your stats are bogus\", \"recovered american patient donates plasma in\", \"july 31 webinar series the panel will discuss testing tracking amp treating disea\", \"has led to anxiety around supporting care needs we can assure that every measure has been taken to keep y\", \"guidelines state that women should be accompanied by a person of their choice while giving birth wh\", \"same story after but too late damage done global hysteria driven by the get\", \"i would ask joe buck if the will ever play again ever\", \"positive cases reach 421 996 covid19 cases continue to rise rapidly across the country as the socalled\", \"us economic recovery us dollar not fairing well infections not slowing gold rose oil slid sampp500\", \"phase 3 bring it on headband versatility\", \"ridiculous comments from the emergency means events change quickly other governments are doi\", \"\", \"may bring longdormant viruses back to life scientists ndtv more w ecose\", \"our latest article on helping your parents stay safe when receiving care at home during\", \"i love that one leader is putting people first trying to save lives\", \"covid cases\", \"the bureau of statistics said total payroll decreased 22 in victoria alone as additional\", \"the elbow bump no thank you via\", \"makes the list has been doing her job\", \"if a business is making sense in the long term just dont care a fk about the short term problems like lock down\", \"the is just around the corner celebrate your pride with these items featurin\", \"mixtape on the way are you ready vid dropping thursday\", \"book digest tracing world order from 2008 financial crisis to covid19 shaheen bagh and more\", \"recovery rate in india is better than others says pm modi on maan ki baat follow live upda\", \"as our country continues to battle you are worrying about getting your\", \"live blog ancient greek theaters return to life in pandemic via\", \"singleday spike of 60963 cases and 834 deaths reported in india\", \"as more health workers test positive for this nurse is all for home isolation if no other health issues p\", \"one school nurse in arkansas says she feels empowered as safety plans develop\", \"update no 16 measures taken to combat spread of coronavirus\", \"seriously teenagers and young adults need to cop on and wear i know you feel invincible like we all\", \"today july 29 on wax poetic we play some related poetry from\", \"when lives are on the line child amp focused organizations trust us to create a positive first impression wit\", \"they are guilty of mass murder\", \"lets follow sop for hari raya aidiladha by dr arvindersingh hs\", \"celebrations will come with a difference in general public amp barred from\", \"update the labuan case involved a filipino\", \"espon is preparing a new study on the territorial impact of in 2019 another espon project identified the\", \"enters into of country now its difficult get over with it next may be and\", \"s swab test for is negative and he might get discharged by tomorrow as per reports\", \"number of us patients with newly identified cancers before amp during the pandemic significant decline in\", \"celebrating one year anniversary of the govt meanwhile karnataka reported 5000 cases per day\", \"thai operates special flights to copenhagen taipei in august\", \"more delay wont be back before next year as afc postpones amp joint qu\", \"fiftyone studies report that is effective in treating while 16 claim that it is not\", \"palace claims philippines very good in containing outbreak so far\", \"i cant wait for this historic moment\", \"the 25 day nallur festival which is presently ongoing in is being held undr strict health guidelines this y\", \"how and when children should return to the sports field during covid19\", \"via just brilliant combinatorial algorithms to streamline testing finding solutions to most cha\", \"increasing gap between recovered amp active cases of india may 04 2020 to august 12 2020\", \"solid q2 2020 performance despite impact intouch intelligence visit\", \"big brother without kidd and erica is like buying a book without table of content\", \"immunity is the need of the hour\", \"the pressure is on for drugmakers to get a vaccine to market for but its not that easy heres what it a\", \"3 covid deaths in last 24hrs 65yearold female from and another male from succ\", \"trump breaks with cdc director on potential for worst fall amid pandemic flu season\", \"the masked singer has been shut down after 7 dancers tested positive to covid\", \"dr harris more than 5000 healthcare workers have been infected with while caring for patients\", \"got your and feel like celebrating stay safe and make sure you gtkeep social distancing gt\", \"hazard pay in pa pennsylvania hazard pay for covid19 frontline workers\", \"interesting article about how the industry can recover from\", \"were seeing a trend starting as arkansas hc and ad throw their support behind the\", \"ram temple trust chief who attended bhoomi pujan with pm modi tests positive for\", \"being a republic this should be up to the states\", \"you know how else has ruined my year having his face covered the whole time he is on my\", \"this is the why in the surge of infections it has nothing to do with the public\", \"north korea on alert over first suspected coronavirus case 1st case of much l\", \"joins to demand an end to abuse of relief funds\", \"s repo man is hiring as more consumers struggle with lost income in an economy battered by and us\", \"as 100000 kids test positive for in the past two weeks bill gates explains why the white house response\", \"our team in guinea and are developing a related project in upper guinea they are rehabilitat\", \"join our expert panel on how regional cooperation can help move forward with its recovery live\", \"hope in the worldwide storm full video gt\", \"we hit the foggy streets of last night to along with over 530 buildings all over the uk t\", \"every decision is a risk every risk is a decision\", \"12 covid19 deaths 1286 fresh cases in telangana\", \"anticoronavirus protective equipment available read more\", \"resume\", \"could use some speech therapy from a school speech pathologist but we arent\", \"face masks and covid19 scientists must uphold the facts please click on the link\", \"german health ministers agree to ban spectators from stadiums at bundesliga soccer matches until at least\", \"update 14 august 2020 7 new cases confirmed in the last 24 hours 2488 the accumulative\", \"impact on indians daily increase in fuel price\", \"a summit bw the foreign ministers of amp will be held tomorrow\", \"and is a novel virus\", \"36 is spiking all around us breaking guidelines is a sure way of making sure it leaves a perm\", \"how do i take care of my mental health during covid19 period\", \"help slow the spread of and identify at risk cases sooner by selfreporting your symptoms daily even if y\", \"ncdcgov the situation report for 28th august 2020 has been published our daily situati\", \"we all need to help her however we can\", \"especially and critically when you are indoors outdoors not so much but still\", \"i am from nepal and in this timethere is a big problem to go outside to the country and held in 13 sept\", \"lets explore the world\", \"i stand with the students of indiathey are in the middle of amp crisis i request amp al\", \"chandrayans 2 pragyan rover intact on moons surface and has rolled out few meters from the skelet\", \"all this talk finally here are some better\", \"kudos chicago finally alcohol regulations driven by public health not industrydriven desire for public\", \"only radical right who hurt god amp country call it the china virus everyone knows thi\", \"amma yet again shows the way forward in handling crisis situations in the battle against\", \"i will be admitted at dedicated chirayu hospital on the advice of doctors madhya pradesh\", \"in a minor reshuffle the govt on monday shifted the collector of district in the midst of the coro\", \"causing significant dilation of blood vessels of the lung contributing to low oxygen levels in patients wi\", \"universal of women in labour for is more than universal full\", \"a webinar discussing youth innovations for sustainable livelihoods in africa during amp post\", \"pence you are a disappointment to humanity\", \"150k americans dead\", \"looks like has discovered you cant hide from and eventually it will run through t\", \"hi everyone megan tweeting from first break since hithappy to join\", \"lovely chelsea buns\", \"where have you missed traveling to since covid\", \"california surpasses 600000 coronavirus cases most in us live read more\", \"wish i had all my homies here at my crib for our hfl draft but d things up usually its drafting whil\", \"moving forward even republicans must take seriously before more americans die value life ove\", \"if youve had you may still have some physical symptoms such as breathlessness a cough or lack of energy\", \"clinical trials of monoclonal antibodies which could both prevent and treat are already underway and cou\", \"dads house in elephant and castle helping so many who need practical support espe\", \"organizing research about themselves\", \"uk quarantines travellers from spain in sudden blow to europes revival\", \"more flights added to bcs list of covid19 exposures yikes\", \"a public health expert is warning that the current covid19 response could lead to a year of roll\", \"how india is using artificial intelligence to combat\", \"thread by exobama health care head\", \"test of home minister amit shah has not been conducted so far ministry of home affairs mha official\", \"five lessons from tracking the global pandemic economy\", \"longform podcast on risk and reopenings with lost in the stacks aka in dialogue wwend\", \"have you seen campaign to promote to support people to live healthier lives amp reduce their r\", \"eastern capes covid19 nightmare could see 9 000 unavoidable deaths experts news24\", \"says highest 342 fresh cases reported in khurda district exponentially crossed hotspot ganj\", \"we must stay safe every minute\", \"health systems amp food supplies face many threats during has ensured 300k households\", \"disrupted my life massively i loose my gigs my belongings were auctioned by house agent was depressed b\", \"on s watch 158931 americans have died from 228 of all deaths worldwide that is abo\", \"why should we listen to whose mishandling of the crisis have lead to the de\", \"conducting entrance examinations is not like buying mlas from madhya pradesh is rising in still g\", \"how im coping with 2nd series entry so i made enchiladas now im eating them while watching mobi\", \"south korea finds itself on the verge of another major outbreak as cases jump to the highest level since m\", \"\", \"this visualization of exposure highlights how personal choices can unknowingly lead to the spread of infec\", \"the tourism industry remains subdued under level 3 lockdown with travelling for leisure allowed only when\", \"in these confusing times of when we all are going through a lot of uncertainty regarding jobs health and\", \"nigeria will become somalia if care is not taken\", \"flexible work practices and hygiene remain as the two key aspects of returning to work globally\", \"three quarters of the respondents wont take the vaccine im pleasantly surprised\", \"i get in now our leaders are in a secret cult collectively called profit before people\", \"great article here on medscape about aerosols and from an aerosol expert if this had been understood wide\", \"i made my novel free for all of youselfquarantiners enjoy\", \"exlresearch lifesaving new treatments are at risk due to unless the government steps in despite the chal\", \"who is incharge of indias fight against name please\", \"are you guys gonna start the school year at home or at school\", \"offering free resources to help businesses cope with plight\", \"leveraging excuses to contact to make up for lost chance encounters\", \"lost your job because of the crisis is here to help check out our list of tech companies that a\", \"tested 344 players and no positive cases of\", \"i had to attend unescos builders of the universe camp 2 be held at usa but couldnt due 2 but i am exci\", \"yesterday 1404 new cases amp 16 deaths reported in delhi taking the total tally to 144127 1130 people\", \"reality gov kristi noem notes that more south dakotans have died in accidents than from covid19\", \"seeing a lot of women complaining about no hair salons during whos socializing grab a scissors amp chop\", \"under trumps policy 174000 americans died from number one in the world\", \"cases top 500000 as global total nears 18 california cases top 500k reports\", \"following the crisis and strategies are required to be digitized get more insights in o\", \"incompetent has botched almost every aspect of response to\", \"trumps coronavirus claim leaves anderson cooper astonished cnn video read more\", \"for if you want another 19\", \"he said this is a fake pandemia the information went viral\", \"birthday wishes to ji and more wishes for setting an example in handling the pandemic and leading from the front\", \"bmc removes poster which they had put outside residence of declaring it as containment zo\", \"wrong globally spreads through contactair rather will end will ef\", \"data released by indias national health mission reports a 64 drop in child a 50 drop in bcg vacci\", \"on deck now at in a post world w rony sebok alexperas dav\", \"due to ill be blessing the first 500 people to like amp retweet this with 500 1000 through cashapp g\", \"gives fl a break from rants now weather channel is calling it figures\", \"new preprint from the lab weve joined the fight and looked at tropism of the virus causing in the brain\", \"these are not underwear face mask street fashion\", \"neither nor will crush her dream of completing a marathon in each state\", \"it has been surreal being stuck between two hotspots since all of this began uk has worst death count in\", \"exxonmobil is working to help those who need to protect themselves and others from the world is countin\", \"some data on the risk of hospitalization from in patients with chronic inflammatory rheumatism or systemic\", \"today\", \"remember to keep washing your hands regularly as it helps slow the spread of\", \"dario vivas the mayor of s capital has died after suffering from for more than three\", \"very excited to be taking part on\", \"the a new virtual series presented by the gbta technology committee will showcase the\", \"this is your 1hour reminder of begins at 3 pm est with dr jennifer hill\", \"lets hope that s will tackle the issue of low productivity of indias work force ar\", \"usa5415666 553641704151284 now at 170k deaths due to will be well over 200k come day\", \"norway maintains travel restrictions to northern sweden\", \"coronavirus englands contact tracing app trial gets under way\", \"infected people were always there but were undetected its just the increase is test is increasing the n\", \"ssrs friend smita reveals some shocking facts on in debate with the thing that really h\", \"how are different around the world reopening during the check this out for a look\", \"167097 us deaths 81320 5248678 us infected\", \"how are entertainers dealing with covid19\", \"odisha detects 1376 new positive cases taking the total number of cases to 25389 including 15928 recov\", \"please share with everyone you know sign the petition here\", \"to mandato\", \"whether you were able to stay open had to shift your teams to or close your doors completely during\", \"assisting farmers during pandemic special cargo trains and flights arranged for movements of seed\", \"stop justifying reopening based on false statements it is true that tend to get less severely il\", \"national and local democracy important because two years worth of local elections due next may but tory\", \"chinese industrial economys fundamentals remain sound despite senior industrial official\", \"has permanently altered indian consumers bevahiour\", \"new research article associations of type 1 and type 2 with related in\", \"seems about right\", \"the crisis has moved delivery from a luxury to a utility uber ceo dara khosrowshahi\", \"i dont like a but i love people and this is how i forgive the actions of the\", \"our members had a great virtual meeting today with to talk about about critical i\", \"its going to get worse\", \"ya may wanna add stop being a blanking racist\", \"challenges amp difficulties make us step out of our comfort zones resulting in newer amp better results\", \"for by the covid19 risk communication package for healthcare facilities\", \"this year supporting to was more important than ever as most of the pupils were out of\", \"destination ttn advertiser has a helpful page full of information and guidance\", \"two essential elements to address the pandemic effectively 1 leaders must step up to\", \"there is extensive spread of in the netherlands with a population growing tired of the 15 m society and\", \"yes needs to stop a black man from helping somebody so they can say black lives dont matter\", \"facts about and by swiss policy research spr\", \"is throwing off the normal routine these are the common trends incoming should be\", \"just a couple new cases being reported in in the past 24 hours\", \"the lockdown and the ongoing situation has been challenging for the elderly as family members or caregive\", \"putin is pleased with his attack\", \"is that molsons panties oh wait its a face mask\", \"leader wants foreign influence in our vigilance response the australian way not g\", \"asheshe by w cc\", \"mississauga known positive active case count it currently 44\", \"lol surgical masks ughhh\", \"never let a good crisis go to waste visionary leaders always see a silver lining in any crisis and pand\", \"put a fking mask on via\", \"mass producing unproven vaccines that didnt take long did it lol\", \"whats the risk to global health if the us withdraws from authors from examine potential impl\", \"updates 21082020\", \"this is how amp make mockery of people of by sidelining democratically elected\", \"two strategies to combat lost revenue during from the american medical association\", \"23 of shielders happy to go back to work ons suggests\", \"new york need to stop using the subway\", \"well done amp on your great work helping our region bounce back from\", \"the latest invention in the crisis removable handles for shopping carts seen at a french supermarket\", \"how can we rise up to the challenge with this was a central question of our virtual dialogu\", \"ive been of the view that is set for a repricing into the us2000 to us3000 range and this was last ye\", \"mindgenius templates for every project management need\", \"over 1000 new cases a day as numbers steadily rise again if only this incompetent government was as eff\", \"next week a new reality has unfolded work from anywhere join t1v for a on thursday august 6th at 11am\", \"we need your help to understand how north carolinians have felt the effects of can you complete this shor\", \"papua new guineas covid19 cases is up by one as of monday august 3rd 2020 read more on loop png\", \"the from recovered patients may be helpful in the treatment of other patients of the disease but\", \"as at aug 8 uk 309005 cases of amp 46511 deaths 52351 cases amp 1746 deaths new cases on aug 7\", \"and to make an anthology on stories\", \"jim jordan vs anthony fauci on is like homer simpson vs robert oppenheimer on nuclear physics except that\", \"everything has an end too will pass\", \"meat processing plants are home to the latest clusters well be hearing from the sector about what theyr\", \"how italy turned around its calamity new york\", \"social distancing canadian geese could teach people a thing or two the best kind of youll ever get stuc\", \"i think the way youre wearing that mask is illogical you absolute plum sack\", \"japan isnt doing so well\", \"seriously\", \"i wonder if some companies will go back to insisting that people should not work from home after like they\", \"istanbul governorate tightens rules on weddings bans other indoor ceremonies over pandemic\", \"dcmo dr nick coatsworth provides update 352 people have now died during pandemic including 21 in last da\", \"alongside an effective if possible long lasting accurately rapidly almost immediate results\", \"look antigovt protesters being reminded by protest leader of health protocols amidst pandemic\", \"latest global cases gt confirmed 19572930 recovered 12568841 deaths 724710\", \"indonesia total 128776 deaths 5824 recovered 83710 active 1474\", \"on a level2 lets cut u up supplyampsupport d19\", \"in a world of be\", \"two kids of our college bound group3 families5 kids will depart sunday both tested neg for im tryin\", \"ushered in what experts have predicted for the past year an economic downturn ceo chen amit o\", \"how long had been infecting others and help further spread the to others remember typhoi\", \"the denialism disaster now makes plain her\", \"a leading gp in the fight against says the response of irelands testing and tracing system to the recent\", \"new from cdc outbreak at overnight camp in georgia infects at least 260 campers amp staff 51 of positi\", \"experts discuss vaccine candidates from and and\", \"ekiti covid19 update as at 0900 am on july 25 there are fortytwo 42 active cases of in ekiti state\", \"this private school is hand in gloves with everywhere in the world schools are still closed because kids\", \"need type apositive at yashoda malakpet blood component need plasma from ave r\", \"rirry how many deaths in tanzania\", \"is your feminism still loading here are some ways you can take action for gender equality during the pan\", \"has converted 5231 coaches into care centres to be placed in 215 stations to augment capa\", \"the ignorance people show during this pandemic is just sad yes you can get and yes you can get very\", \"the african union mission in somalia said troops will continue to intensify fight against despite reducin\", \"in on july 26 positive cases and\", \"countries with more 100000 deaths usa 165070 brazil 100543\", \"has no humility as every 3 days one 911 tragedy in the it tells us is as caring a\", \"\", \"research teams have launched a faster detection test that takes only 18 hours instead of 23 days\", \"round 2 of the opens at 1pm today are you a in need of emergency funding based in england\", \"us gets reality checks on covid19 vaccine duration of symptoms\", \"new cases in india crossed the 50000mark in a single day for the first time ever on sunday taking the t\", \"covering your nose amp mouth with a face mask or using a face cover helps in putting a stop on the spread of\", \"a yr older and definitely a lot wiser been an eventful year with expansion and time to attack t\", \"shame on the people of and who are fighting on twitter like enemies\", \"be a harbinger for massive change as the country is looking to reboot economy affected b\", \"comprehensive townwide to be imposed in municipality for seven days starting 9\", \"seven new cases of covid19 in manitoba this weekend\", \"the has not only managed to bring the cases of down but also managed to rise the high numbers of\", \"52 new positive cases have been reported in chandigarh today taking the total number of cases to 1426 de\", \"friday july 31 update 4 additional deaths noted occurred between 723 amp 726 the death\", \"was europe digitally prepared for the pandemic how are digital technologies helping in the fight against\", \"whos calling itsnot\", \"as of wednesday august 5 the case numbers for the city of boston are 14377 confirmed 10391 reco\", \"now of course kim jong un will do whatever he wants to contain the virus in so more human rights abuses for sure\", \"is a compelling theme in all conversations says guv during an interaction with the\", \"cotswold club opens tonight with notice please note that you enter these premises at your own risk\", \"i pray that god protects me and my family as we stay home and avoid spread of keziah wanjiru\", \"covid19 in malaysia numbers at a glance as of 29th august 2020 12 pm\", \"is now open to enter submit your lessons learned from the and\", \"theres no safe way to control the outbreak at san quentin without releases today i join 900 health work\", \"here are the numbers you should be worried about\", \"the burden of austerity falls greatest on womens shoulders wouldnt it be something i\", \"home minister tests for announces bjp mp manoj tiwari in a tweet\", \"whistleblower dr limeng yan is a lab modified virus from a bat discov\", \"another day for s by\", \"indias national tally climbs to 2461191 after spike of 64553 new cases 1007 deaths in last 24 hours t\", \"state election commission plans to conduct amid pandemic\", \"gifted parenthood to many couples with treatment for more info\", \"just 3 days to go before the application deadline for have you promoted inclusion in or dem\", \"disappointed in the continued failure of the continued poor leadership administration in alaska we got a\", \"major companies have downgraded their by billions with the combination of fears w\", \"offer transport cost and installatio\", \"what economic measures are governments taking to respond to key actions taken by 193 countries are listed\", \"four rapid response teams to intensify contact tracing in\", \"its back in new zealand\", \"sickness 5950000 americans death 182000 americans\", \"takes manager role when is in a bad way gets infected with makes a full recovery gets\", \"the nett worth of is r1 600 000 000 90 mil she is one of the led goverments bee beneficiaries\", \"a close family member is on day 16 of waiting for hisher test results test was done at a hospital i\", \"s tally zoomed past 13 lakhs on saturday just two days after it crossed the 12 lakh mark while th\", \"found these on ebay pricey but oh well cheaper than a funeral amirite\", \"as we come to the end of our series on wash during with we take a look at how a wash\", \"india crosses the milestone of 1 million tests a day more than 10 lakh people tested in the last 24 hours\", \"amid new rules of crossing the contact line in require installing a mobile app tracking selfisol\", \"boo fucking hoo\", \"lake naivasha panorama park has reopened in full compliance with health safety protocols to top it up\", \"devotees offer prayers at a krishna temple in ludhiana on the occasion of priest of the temple\", \"catch our founder in this panel discussion on related policies so if youre\", \"big news for founded research read more on selva therapeutics treatment candidate for\", \"france records exponential increase in covid19 cases\", \"the south india state has 53499 cases of while 5397 patients have succumbed to death read here\", \"criticizes lockdowns and falsely claims us doing very well\", \"total cases rise above 600 000 in south africa\", \"good morning to everyone except those who refuse to exercise personal responsibility in preventing sage e\", \"all the enthusiasm amp back slapping on the rising recovery rate in should not hide the fact that people are s\", \"order here\", \"no kids are not affected by like adults with other conditions i am a physician wh\", \"today at 10am is hosting a public debate about the impact of on londoners amp their\", \"we wrote this on april 13 2020 there were 551826 cases in\", \"a very informative video about more than 32000 volunteers have registered them for human challenge tr\", \"the coalition of companies that form part of the broad coalition include tech giants like and\", \"scott coker proud\", \"i fell asleep during the game wake up hours later tv still on and still on im\", \"are you planning a vacation soon follow me please retweet and like\", \"cdc ends the test narrative important read\", \"whoever controls the the mind\", \"coronavirus r number has risen across uk and may now be above 1\", \"earlier this month issued more guidance regarding the best practices for wearing the agency said f\", \"count in\", \"back in office after lockdown and found a rock solid banana in my draw\", \"inside the faith community in the era\", \"has tested negative for he has been in quarantine following his brother being tested positive\", \"the first 100 to follow me and retweets will gonna will the credit\", \"5 ways gotomarket strategies will change in the postpandemic economy\", \"mike harris once premier is chairman of homes they got millions from the govt and give\", \"get tested if you have 1 or more symptoms or if you think you were in contact with a person who has the v\", \"bfarm is working with colleagues across the and from to facilitate the supply of safe and effective\", \"good foreign used lexus rx300 for sale at good deal price dm me if your are interested\", \"four possible scenarios relating to human immunity to sterilizing immunity functional immunity waning i\", \"4433410 cases 150444 deaths 2136603 recovered 2146363 active\", \"says cases starting to rise im no graphreading genius but that upward tick appears to have begun four wee\", \"democrats dont want us to know that hcq cures because they want the sick to die from the virus the dec\", \"michigan reports 669 new coronavirus cases 16 deaths tuesday read more\", \"next up state executives the pandemic proves how important the governor is dem atty generals are the o\", \"but the staffer for congressman dies of there are nearly 400000 confirmed cases of th\", \"no amount of extra pay would cover the mandatory risk of having to have this\", \"has created diverse and pressing needs that demand we proactively pivot to stay informed use this new\", \"philadelphia city hall\", \"economy minister paulo guedes said that the government was considering extending an emergency\", \"what if the 704 created because a certain group was winning or a certain group was losing\", \"episode 4 register here\", \"wrist band detecting covid symptoms gets rs22 cr funding\", \"is pleased to be working with economies including to build supply chain resilience in our region duri\", \"should be voluntary no should be to take one against their will for any\", \"is anyone else struggling with the mask amp face id thing\", \"motshekga denies claims she or her family involved in tender procurement\", \"covid19 moph reports 105 new cases within 24 hours read more\", \"he wants a little power we have over 160000 losses over covid and millions of jobs lost\", \"serum institute to price covid vaccine at less than rs 250dose\", \"we must do to protect those who have lost their jobs due to we call on the government t\", \"youth unemployment is a key concern in the wake of the crisis the crisis hit young peoples job prospects\", \"as far as i know that is definitely not 6 feet apart\", \"covid19 pandemic may hit tourism msme aviation sectors hard says rbi survey\", \"its day 5 of my isolation after being infected with please do take care of yourselves\", \"we were proud to continue our mission by supporting to aid in during\", \"we urge to help us raise our issues regarding\", \"alarming spike in covid scams as australian bank accounts targeted\", \"to introduce to my 4 yr old volcano crazy nephew we found a fabulous video of mt bromo in indo\", \"need help to support students during the pandemic and through the transition back to school visit\", \"covid19 only 48 new cases reported in past 24 hours in afghanistan read more\", \"the infographic shows how underlying such as disease\", \"eras ministry of health in denies quarantine housing for 69 yr survivor of pinochetera concen\", \"dr bob arnot needs a national plan to stop completely incoherent effort so far youtube\", \"what truly matters to a gen z purchaser the future of luxury brands is shifting and second hand is on an\", \"well said mona siddiqui on the radio sco shareen prog stressing unique scottish approach to pandemic\", \"coronavirus triggers genderbased violence inequality\", \"a study led by indianorigin researcher has found that teenagers and young adults who used\", \"china virus vs trump virus playing the pandemic blame game\", \"okaymoney talks and bullshit runs a marathonhows your fucking taxpayer provided healthcare during\", \"dsts low cost to differentiate all economical option for areas\", \"bet you have not heard this on msm\", \"to boost consumption amp demand post\", \"with all of this screening temp checks health questions going on everywhere because of\", \"nigeria records drop in figures of 19 infections death\", \"15yearold gwinnett georgia boy dies of\", \"magis quam centum dies sine pandemic\", \"share this far and wide listen to dr henry\", \"i am sure the 165235 deaths and the 5163735 cases in our country alone feel q\", \"action alert urge your senators to do their part to by returning to washington amp finishing passag\", \"how does it feel when your bellies are full of carrion very satisfied\", \"the attitude of our civilization right now and the wit\", \"visit orfs statewise distributio\", \"will hold a meeting with chief ministers of all the states on 27 july to discuss the situati\", \"6th day of 100 deaths in tn cases comes down but other districts esp going up\", \"bbb tips contract tracing scams spreading\", \"covid patient alleges molestation by doctor at noida hospital\", \"clearly great interest in testing long line here site in silver spring sa\", \"two years ago when one of the more pressing issues was homelessness well guess what i sti\", \"why is baltimore heating up again with\", \"no cheering crowds for you in hospitals are maxed out with\", \"california is reporting 8909 new deaths is last 24 hours dropped to 96 hot zone counties 1 los angel\", \"california surpasses 700000 cases they keep saying its slowing down not true they report different\", \"no roadmap in sona thats job for congress economic ministers marcos\", \"268 new cases 109 discharges and 5 deaths have been reported in puducherry today total of number of case\", \"alert two police officers in georgia put on leave after shooting at minors global pandemic news\", \"to reconstruct the system we must understand its gears 12\", \"we can do this again nz\", \"in india death count surpassed 50000 due to who is responsible for this tragedy 1 jwahar lal nehru 2\", \"excited to share the latest addition to my shop horror mask elastic around ears for covid19 cover masks mich\", \"we have changed our game plan said executive director stephanie hudson as continues to\", \"quarantine day 137 the walking dead\", \"purpose is mandatory as knows certificate of vaccination with ai and with identification\", \"in our latest greg louie principal saratoga high school discusses during\", \"you ignored the largest most comprehensive study to date n83 million that proved use\", \"we have repeatedly proposed that take the path of reducing the risks of military incidents on the con\", \"explore possible gendered outcomes of\", \"as part of multiple efforts to counter complied and verified several links to give you access to\", \"it is stark just how high the hidden cost of is for cancer care says head of policy at\", \"the report on the outbreak at a camp has the same feel as any outbreak in h\", \"46 florida reported 6352 new cases on aug 15 30100k pop with 6300gt6100 new casesday forecast in\", \"80220 update from s office 463 new positive cases of amp 2 new deaths were reported sund\", \"we are lucky to have as a leader in here while inperson visits are\", \"the impact playing its part to crimp fy20 results with md marnie baker telling that t\"], \"lat\": [45.4641943, 43.2087546, 25.6093239, null, 14.64058785, 25.6242618, 44.97116765, 43.0349931, 22.3511148, 50.7423958, 54.7023545, 19.0785451, 20.5431241, 51.3584017, -36.852095, 42.3554334, 40.0757384, 22.3511148, 28.6138954, 51.77046785, 48.8534951, 51.5073359, 52.865196, 34.0536909, 19.0785451, 21.0000287, 52.4808348, 52.4808348, 12.9340114, -26.610295, 37.7884969, 42.4184296, 40.7127281, 44.2057083, -27.4689682, 52.4796992, 52.4808348, 28.6517178, 53.7974185, -28.8166236, 53.3713512, 35.6729639, 30.3308401, 38.2443699, 52.6071742, 19.0785451, null, 43.6534817, null, -24.7761086, 52.5170365, 31.2638905, 10.7763897, 14.4750607, 51.65309, -26.205, -37.8142176, null, -26.4926074, 45.5317942, 43.6534817, null, 18.521428, 40.7127281, -33.8698439, null, 53.15436455, 22.3511148, null, 42.7320307, 19.0785451, 40.8506558, 40.6526006, 22.3511148, 22.3511148, 27.7567667, 40.7127281, 22.5726459, 10.5256264, 34.7465071, 6.552795, 37.7790262, 49.2608724, 43.6008183, 40.9699889, 4.5986817, 8.4882267, 5.9780066, 49.8158683, 19.0785451, 19.0785451, -36.0895979, null, 14.8971921, null, null, 12.7503486, 26.8234472, 7.877395849999999, 37.9020731, 38.8950368, 28.6138954, 1.357107, 40.5195275, 6.4550575, -0.2135085, 15.3004543, 39.7837304, -37.8142176, 33.5206824, 52.5050033, 4.5877799, 51.5073359, 34.91591, 28.6138954, null, 54.6649465, null, 19.593801499999998, -26.205, 35.6812665, 34.2331373, 51.4816546, 42.3176856, 52.4808348, 57.1482429, null, 22.3511148, null, 43.59047185, 39.100105, 39.5162401, 4.6529539, 4.8459246, 11.6549142, 33.7680065, 31.2638905, 1.4419683, 12.9767936, 59.9412076, 10.3825318, 39.7837304, 48.4283182, 28.1083929, 10.3528744, 52.2434979, 29.9880774, null, 37.9735346, null, 10.3528744, 22.3850051, 20.2602964, 34.5592226, 52.5310214, 1.4419683, 12.29508065, 43.9792797, 51.5073359, 42.3554334, 52.6285576, 47.7423219, 52.4808348, null, 44.4308975, 51.4129277, 48.125152, 51.5073359, 41.4996574, 49.2608724, 48.4283182, 53.3498006, 28.42826235, 53.3594083, 22.5726459, null, 33.7489924, 51.453488899999996, 52.4808348, 20.2602964, 55.9533456, 43.7283874, -3.15073925, 34.2331373, 54.7023545, 13.0278016, 38.8950368, 27.9477595, 32.7762719, 29.7589382, null, 22.3511148, 8.8945377, 28.5706333, 34.2331373, 53.2744122, -37.8142176, 32.7174202, 30.8124247, 28.6138954, 34.2331373, 39.7837304, 41.0534302, 42.4473175, 39.9527237, 22.3511148, 33.6649297, 43.0821793, null, 42.3554334, 17.360589, 52.4808348, -37.8142176, 52.4808348, 33.79546225, 50.0619474, 22.3511148, 19.0785451, 54.7023545, 22.3511148, 42.3554334, 52.4808348, 27.7567667, 52.2055314, 4.5693754, 40.0757384, 51.5073359, 29.7589382, 48.8534951, 15.5075545, 53.6710149, 28.6138954, 51.5073359, 43.7283874, 33.917028, 28.6138954, null, 61.1529386, 53.699176949999995, null, 19.0785451, 45.4208777, 40.7127281, 41.8755616, 28.6138954, 34.0536909, null, 52.2109495, null, -37.8142176, null, null, 13.0836939, 51.5073359, 41.8755616, 11.5024338, 41.6529143, 39.7990175, 61.0666922, 39.9527237, 22.3511148, null, 50.109345950000005, 40.2807177, 39.6621648, 52.080985600000005, 36.1563122, 37.35089885, 38.8641752, 43.5896231, 22.3511148, 50.863772, 45.5031824, -33.8698439, 7.1547129, 43.5896231, 37.35089885, 24.638916, 51.4680988, 54.7023545, 42.2681569, 10.17039815, 19.0785451, 39.7837304, 54.7023545, 40.7127281, -1.2832533, 48.8534951, 4.5693754, 49.2608724, 36.1672559, null, 35.2272086, 35.6729639, -5.6816069, 22.3511148, 51.4538022, null, 37.5385087, 0.3177137, 52.865196, 42.5805628, 61.0666922, 52.865196, 41.5910323, 40.9699889, 16.5995459, 41.0091982, -35.2975906, -37.8142176, 12.7503486, 49.2608724, null, null, 53.494221249999995, 28.4944695, 37.496904, 32.7174202, -37.8142176, 52.865196, null, 40.9115386, 7.736891, null, 19.0785451, null, 52.4808348, 17.360589, 52.4808348, 2.0349312, 22.3511148, 6.4550575, 26.3586885, null, 46.7985624, 51.5325581, 54.3482243, 22.3511148, 17.7231276, 25.1002079, null, 17.360589, 22.5726459, 52.4808348, 1.7879059499999999, 22.3511148, 27.7567667, 50.8465573, 52.5050033, 42.3554334, 50.000678, 22.3511148, null, null, -7.2962964, 51.456659, 33.6783336, 37.5726028, 52.9559076, 20.5431241, 52.24764975, -35.2975906, 20.2602964, 26.1805978, null, 51.5073359, 64.4459613, 51.5073359, 12.9767936, 38.8950368, 20.2602964, null, null, -33.928992, null, 34.0536909, 28.6138954, 39.9622601, 22.3511148, 19.0785451, 50.4500336, null, -0.1029109, 22.3850051, 12.9767936, 32.8401623, -26.205, 22.3511148, 60.1674881, 46.9852397, 53.4071991, 19.0785451, 23.7644025, 31.1353801, 52.064003400000004, null, 23.0216238, null, 46.7985624, 38.791612, 39.7837304, null, 52.5170365, 30.4507936, 32.2228765, null, 51.4816546, -13.2687204, 8.722388, 1.4419683, 40.3789884, 61.0666922, 43.6534817, 50.735851, 6.4550575, 28.6138954, -10.3333333, 56.7861112, 35.1460249, 52.4808348, 42.5746013, null, 52.2928116, 43.7283874, 38.7311123, 52.4808348, 40.3154832, null, 22.3511148, 1.357107, 41.1038891, 51.5073359, -28.8166236, 33.7680065, 33.7690164, 22.3511148, 51.5742454, 9.6000359, 32.9715285, 22.3511148, -26.205, 40.7127281, null, 33.7489924, 28.6138954, 51.5073359, 33.7680065, 42.6384261, 45.1047195, 53.5462055, 61.0666922, null, 34.0536909, 28.6138954, 59.3251172, 47.6038321, 28.6138954, 31.2638905, 12.862467899999999, 39.7837304, null, 49.3206294, null, 61.0666922, 35.629867950000005, 42.7444055, -1.2832533, 41.3828939, 22.3511148, 19.0785451, 10.9094334, 33.7489924, 22.3511148, 38.8950368, 47.2455013, 35.09766515, 39.7837304, 37.7790262, 40.7127281, 12.7503486, 28.6158874, 52.4808348, 39.7837304, -36.852095, 28.6138954, 34.1069927, 38.8950368, 25.4230425, 53.4953602, 51.5073359, null, 64.6863136, 38.8950368, 31.1728205, 51.5073359, 61.0666922, 46.7985624, 38.0464066, 38.5810606, -33.8698439], \"legendgroup\": \"\", \"lon\": [9.1896346, 13.2844096, 85.1235252, null, 121.03668075, 42.3528328, -93.27802706729437, -87.922497, 78.6677428, -1.8944665779182093, -3.2765753, 72.878176, 84.6897321, -0.1446657, 174.7631803, -71.060511, -74.4041622, 78.6677428, 77.2090057, 0.46466977412300386, 2.3483915, -0.12765, -7.9794599, -118.242766, 72.878176, 57.0036901, -1.9142353, -1.9142353, 77.6222304, 153.02183004880112, -122.3558473, -71.1061639, -74.0060152, -70.75378387447887, 153.0234991, -1.9026911, -1.9142353, 77.2219388, -1.5437941, 24.991639, -6.267126, -79.0392919, 71.247499, -104.5993167, 1.7314845, 72.878176, null, -79.3839347, null, 134.755, 13.3888599, -98.5456116, 106.7011391, -14.4529612, -0.2002261, 28.049722, 144.9631608, null, 27.7843139, -122.6950362, -79.3839347, null, 73.8544541, -74.0060152, 151.2082848, null, -6.8184175660976445, 78.6677428, null, -84.4721678, 72.878176, -73.8665241, -73.9497211, 78.6677428, 78.6677428, -81.4639835, -74.0060152, 88.3638953, 76.2132542, -92.2896267, -0.769811, -122.419906, -123.113952, -116.24210864118032, -77.7278831, 101.0900236, 76.947551, 116.0728988, 6.1296751, 72.878176, 72.878176, 146.8806299, null, 100.83273, null, null, 122.7312101, 18.1236723, 80.66247852355892, -122.0618702, -77.0365427, 77.2090057, 103.8194992, -74.6886609, 3.3941795, -78.5109082, 74.0855134, -100.445882, 144.9631608, -86.8024326, -1.964396123331272, -74.1569544, -0.12765, -85.1091173, 77.2090057, null, -2.749059585987326, null, -155.42837009716908, 28.049722, 139.757653, -102.4107493, -3.1791934, -122.8624356, -1.9142353, -2.0928095, null, 78.6677428, null, 3.8595132132013186, -94.5781416, -76.9382069, -74.0835643, 31.5959173, 78.1584923, 66.2385139, -98.5456116, 38.4313975, 77.590082, 30.315486515853937, 7.8533226, -100.445882, -123.3649533, 84.0917139, 76.5120396, 5.6343227, 77.5081299470512, null, -122.5310874, null, 76.5120396, 71.745261, 85.8394521, 76.1253083, -1.2649062, 38.4313975, 76.66257635328878, -120.737257, -0.12765, -71.060511, 1.2923954, -121.9856782, -1.9142353, null, -89.6884637, -0.3018577, -123.4525429, -0.12765, -81.6936772, -123.113952, -123.3649533, -6.2602964, 77.00270014657752, -1.463843, 88.3638953, null, -84.3902644, -1.0318729593399247, -1.9142353, 85.8394521, -3.1883749, -79.34914879325001, 39.67507159193717, -102.4107493, -3.2765753, 77.6310134, -77.0365427, -82.458444, -96.7968559, -95.3676974, null, 78.6677428, 11.3644261, 77.3272147, -102.4107493, -9.0490601, 144.9631608, -117.1627728, 34.8594762, 77.2090057, -102.4107493, -100.445882, -73.5387341, -71.2245003, -75.1635262, 78.6677428, 75.1629584, -73.7853915, null, -71.060511, 78.4740613, -1.9142353, 144.9631608, -1.9142353, -117.86834231577151, 19.9368564, 78.6677428, 72.878176, -3.2765753, 78.6677428, -71.060511, -1.9142353, -81.4639835, 0.1186637, 102.2656823, -74.4041622, -0.12765, -95.3676974, 2.3483915, 80.06080046754784, -2.6300235931279095, 77.2090057, -0.12765, -79.34914879325001, -118.4156337, 77.2090057, null, 8.7876653, -2.4709000953138327, null, 72.878176, -75.6901106, -74.0060152, -87.6244212, 77.2090057, -118.242766, null, -2.156955513242221, null, 144.9631608, null, null, 80.270186, -0.12765, -87.6244212, 17.7578122, -83.5378173, -89.6439575, -107.991707, -75.1635262, 78.6677428, null, 14.393264664529315, -74.7033717, -8.1353519, 5.12768396945229, -95.9927516, -121.82751555, -76.99177, -79.6443879, 78.6677428, 0.4758995591006566, -73.5698065, 151.2082848, 3.3467344, -79.6443879, -121.82751555, 46.7160104, -0.0666715, -3.2765753, -83.7312291, 76.38839448844891, 72.878176, -100.445882, -3.2765753, -74.0060152, 36.8172449, 2.3483915, 102.2656823, -123.113952, -115.148516, null, -80.8430827, -79.0392919, 144.2489081, 78.6677428, -2.5972985, null, -77.43428, 32.5813539, -7.9794599, -9.013685, -107.991707, -7.9794599, -93.6046655, -77.7278831, 94.9296927, 28.9662187, 149.1012676, 144.9631608, 122.7312101, -123.113952, null, null, -6.22498020932367, -81.5345547, -122.3330573, -117.1627728, 144.9631608, -7.9794599, null, -73.7826363, 5.2738326, null, 72.878176, null, -1.9142353, 78.4740613, -1.9142353, 45.3419183, 78.6677428, 3.3941795, -80.0830984, null, 8.2319736, -0.12221394719043072, 10.117805527229162, 78.6677428, 83.3012842, 55.118362508810776, null, 78.4740613, 88.3638953, -1.9142353, 33.60681558084007, 78.6677428, -81.4639835, 4.351697, -1.964396123331272, -71.060511, -86.000977, 78.6677428, null, null, 112.78392467995255, -0.9696512, -118.0000166, -85.1551411, -1.1557387, 84.6897321, 5.541246849406163, 149.1012676, 85.8394521, 91.753943, null, -0.12765, -149.680909, -0.12765, 77.590082, -77.0365427, 85.8394521, null, null, 18.417396, null, -118.242766, 77.2090057, -83.0007065, 78.6677428, 72.878176, 30.5241361, null, 34.7541761, 71.745261, 77.590082, -117.2740777, 28.049722, 78.6677428, 24.9427473, -110.770217, -2.99168, 72.878176, 90.389015, -81.3895192, -0.41111375560310925, null, 72.5797068, null, 8.2319736, -90.5958468, -100.445882, null, 13.3888599, -91.1391153, -110.9748477, null, -3.1791934, 33.9301963, 77.710247, 38.4313975, -111.74322233051899, -107.991707, -79.3839347, 7.10066, 3.3941795, 77.2090057, -53.2, -4.1140518, -90.0517638, -1.9142353, -83.2802311, null, -3.73893, -79.34914879325001, -95.2414104, -1.9142353, -112.00479816791864, null, 78.6677428, 103.8194992, -81.24559718478912, -0.12765, 24.991639, 66.2385139, -118.191604, 78.6677428, -2.6999204, 7.9999721, -89.7348497, 78.6677428, 28.049722, -74.0060152, null, -84.3902644, 77.2090057, -0.12765, 66.2385139, 12.674297, 7.6957581, -113.491241, -107.991707, null, -118.242766, 77.2090057, 18.0710935, -122.330062, 77.2090057, -98.5456116, 77.56089325971044, -100.445882, null, -123.0737925, null, -107.991707, -79.76440928802242, -73.761563, 36.8172449, 2.1774322, 78.6677428, 72.878176, 78.3665347, -84.3902644, 78.6677428, -77.0365427, -122.438329, -106.66917045, -100.445882, -122.419906, -74.0060152, 122.7312101, 77.0224342, -1.9142353, -100.445882, 174.7631803, 77.2090057, -117.934214, -77.0365427, -100.9927509, -2.973937960086006, -0.12765, null, 97.7453061, -77.0365427, -7.3362482, -0.12765, -107.991707, 8.2319736, -84.4970393, -121.493895, 151.2082848], \"marker\": {\"color\": [-0.06666666666666667, 0.225, 0.0, 0.0, 0.4, 0.5, -0.025, 0.0, 0.1, -0.35, 2.7755575615628914e-17, -0.25, 0.06818181818181818, 0.13636363636363635, 0.13636363636363635, -0.3333333333333333, -0.09523809523809523, 0.0, 0.0, 0.15, 0.0, 0.03585858585858584, 0.2681818181818182, 0.25, -0.04000000000000001, 0.22424242424242424, 0.0, 0.0, 0.5, 0.6, 0.7, -0.125, 0.0, 0.0, 0.09814814814814815, 0.27777777777777773, 0.14242424242424243, -0.25, 0.13333333333333336, 0.26666666666666666, 0.0, 0.03571428571428571, 0.044444444444444446, 0.0, 0.13636363636363635, 0.0, -0.6, 0.45, 0.7, 0.0, 0.5499999999999999, 0.0, 0.0, 0.0, 0.25, 0.0, -0.09999999999999999, 0.0, 0.22727272727272727, 0.4, 0.0, -0.22916666666666666, 0.0, 0.25, 0.5, 0.375, 0.0, -0.2, 0.0, 0.0, -0.06851851851851853, 0.0, 0.2, 0.25, 0.3181818181818182, 0.0, 0.06818181818181818, 0.0, 0.26325757575757575, 0.0, 0.0, -0.11666666666666665, 0.1875, 0.23863636363636365, -0.5, 0.0, 0.02500000000000001, 0.0, 0.13636363636363635, -0.25, -0.3, 0.2556818181818182, 0.0, 0.35714285714285715, 0.16666666666666666, 0.6, 0.505, 0.0, 0.0, 0.0, 0.7, -0.13333333333333333, 0.0, 0.0, 0.0, 0.43333333333333335, 0.0, -0.5, 0.03585858585858584, 0.5, 0.3444444444444445, 0.0, 0.5, -0.2, 0.22727272727272727, 0.0, 0.2, 0.0, 0.225, 0.0, 0.5, -0.007575757575757579, 0.0, 0.13636363636363635, 0.35, 0.0, 0.0, 0.3, 0.45, 0.0, 0.0, 0.0, -0.15, 0.1787878787878788, 0.0, -0.125, 0.0, 0.5, -0.1, -0.15000000000000002, 0.0, 0.0, 0.06666666666666667, 0.0, 0.0, 0.0, -0.2, 0.25, 0.0, 0.14285714285714285, 0.0, 0.0, -0.05, 0.1875, 0.2125, 0.0, -0.6, -0.2, 0.0, 0.25, 0.5, 0.0, 0.37878787878787873, -0.25, 0.08333333333333334, 0.0, 0.0, 0.5, 0.0, 0.0, 0.5, 0.0, -0.6, 0.0, 0.1, 0.0, 0.0, 0.13636363636363635, 0.0, 0.3, 0.5, 0.5, -0.07692307692307693, 0.0, 0.0, 0.0, 0.0, 0.0625, 0.0, 0.0, 0.0, -0.3, 0.0, 0.0, 0.1, -0.4, 0.35000000000000003, 0.4, 0.005681818181818177, 0.0, 0.0, 0.4, 0.0, 0.0, -0.11363636363636363, -0.125, 0.06818181818181818, 0.5, 0.0, 0.0, 0.25, 0.25, -0.35, 0.5, 0.0, -0.5, 0.5, 0.0, -0.25, 0.0, 0.0, -0.125, 0.0, 0.13636363636363635, 0.0, 0.0, -0.375, 0.0, 0.0, 0.0, -0.15000000000000002, 0.5, 0.48750000000000004, 0.13636363636363635, 0.0, 0.0, -0.125, 0.0, 0.0, 0.0, -0.4, 0.0, 0.0, 0.0, 0.12121212121212122, 0.0, 0.0, 0.19999999999999998, 0.35714285714285715, -0.07222222222222226, 0.09583333333333333, 0.2, 0.0, 0.06818181818181818, 0.2857142857142857, 0.0, 0.5, 0.4, -0.4, 0.0, 0.5, 0.0, 0.4125, 0.35, 0.3, -0.2, -0.16666666666666666, 0.0, -0.075, -0.05681818181818182, 0.5, 0.5, 0.0, 0.025000000000000005, 0.0, 0.031313131313131314, 0.8, 0.24999999999999997, 0.0, 0.375, 0.0, 0.0, 0.0, 0.0, 0.4, 0.13636363636363635, 0.4, 0.25, 0.0, 0.0, 0.0, -0.011742424242424249, 0.06818181818181818, 0.1, 0.21212121212121213, -0.125, 0.13636363636363635, 0.0, 0.0, 0.0, 0.5, 0.13636363636363635, 0.5444444444444444, 0.2, 0.0, -0.3333333333333333, 0.0, -0.125, 0.0, 0.19, 0.0, 0.3, -0.06666666666666667, 0.0, 0.0, 0.0, -0.024999999999999994, -0.025, -0.21428571428571427, 0.0, -0.08181818181818182, 0.0, -0.13333333333333333, -0.05, 0.0, 0.5, 0.1, 0.0, -0.15, 0.0, 0.22727272727272727, 0.5, 0.0, 0.0, 0.0, -0.2, 0.0, 0.10497835497835499, 0.0, 0.08333333333333333, 0.0, 0.0, 0.0, 0.13636363636363635, 0.0014814814814814725, 0.12121212121212122, 0.0, 0.0, 0.0, 0.4, 0.3, 0.3, 0.6, 0.0, 0.0, 0.0, -0.25, 0.0, 1.0, 0.0, 0.0, 0.0, 0.06818181818181818, 0.0, 0.5, 0.0, -0.48888888888888893, 0.0625, 0.0, 0.1, 0.0, 0.06818181818181818, 0.0, -0.17499999999999993, 0.3, 0.0, -0.25, 0.0, 0.0, 0.25, 0.13636363636363635, -0.6, 0.425, 0.0, 0.0, 0.25, 0.0, 0.0, -0.10000000000000003, 0.0, 0.35, 0.0, 0.0, -0.125, 0.0, 0.0, 0.2333333333333333, 0.0625, 0.8, -0.2, 0.0, 0.4, 0.0, 0.0, 0.5, 0.0, 0.0, 0.0, -0.024242424242424242, 0.25, 0.0, 0.0, 0.5, 0.55, 0.38125, 0.0, -0.13333333333333333, 0.0, -0.7142857142857143, 0.3181818181818182, 0.2333333333333333, 0.25, 0.0, 0.13636363636363635, 0.0, 0.0, 0.30952380952380953, 0.0, 0.0, 0.5, 0.0, 0.0, 0.0, 0.3181818181818182, 0.0062500000000000056, -0.16666666666666666, -0.125, 0.05, 0.05, -0.2916666666666667, 0.0, 0.525, 0.0, -0.05, -0.033333333333333326, 0.0, 0.09659090909090909, 0.0, 0.0, -0.05000000000000002, 0.0, 0.375, 0.0, 0.1, -0.4, -0.6, 0.15, 0.0, 0.0, 0.0, 0.0, 0.0, 0.0, 0.0, 0.5, 0.1, 0.5, 0.2857142857142857, 0.0, 0.0, -0.14027777777777778, 0.0, 0.0, 0.375, 0.5, 0.0, 0.0, 0.12878787878787878, -0.1101851851851852, 0.2, 0.06818181818181818, 0.0, 0.0, 0.0, 0.037500000000000006, 0.4375, -0.4, -0.2, 0.0, 0.33, 0.5, -0.1, 0.0, 0.0, -0.06888888888888889, 0.0, 0.13636363636363635, 0.16666666666666666, 0.3333333333333333, 0.0], \"coloraxis\": \"coloraxis\", \"opacity\": 0.7, \"size\": [0.0888888888888889, 0.6, 0.4083333333333333, 0.0, 0.8, 0.8888888888888888, 0.2, 0.0, 1.0, 0.1, 0.33333333333333337, 0.5, 0.22727272727272727, 0.45454545454545453, 0.5, 0.6666666666666666, 0.6976190476190476, 0.0, 0.0, 0.65, 0.0, 0.4171717171717172, 0.7272727272727273, 0.3333333333333333, 0.6166666666666666, 0.6363636363636364, 0.0, 0.0, 0.5, 1.0, 0.6000000000000001, 0.375, 0.0, 0.0, 0.39629629629629637, 0.3333333333333333, 0.3151515151515151, 0.4, 0.39999999999999997, 0.4583333333333333, 0.0, 0.21428571428571427, 0.22222222222222224, 0.0, 0.45454545454545453, 0.0, 1.0, 0.55, 1.0, 0.5, 0.5499999999999999, 0.0, 0.0, 0.0, 0.25, 0.0, 0.24166666666666667, 0.0, 0.5454545454545454, 0.575, 0.0, 0.6875, 0.0, 0.25, 0.7, 0.4666666666666667, 0.0, 0.725, 0.0, 0.0, 0.32962962962962966, 0.0, 0.5, 0.25, 0.5, 0.0, 0.25, 0.0, 0.47348484848484845, 0.0, 0.0, 0.5333333333333333, 0.575, 0.43939393939393934, 1.0, 0.0, 0.2833333333333333, 0.0, 0.45454545454545453, 0.5, 0.4, 0.6647727272727273, 0.0, 0.5714285714285714, 0.16666666666666666, 0.8, 0.8900000000000001, 0.0, 0.0, 0.0, 0.75, 0.6, 0.1, 0.1, 0.0, 0.8333333333333334, 0.11111111111111112, 1.0, 0.4171717171717172, 0.5, 0.48518518518518516, 0.0, 0.5, 0.39999999999999997, 0.5454545454545454, 0.0, 0.4, 0.06666666666666667, 0.26666666666666666, 0.0, 0.5, 0.26515151515151514, 0.2, 0.5, 0.55, 0.06666666666666667, 0.0, 0.5, 0.45, 0.0, 0.0, 0.0, 0.2, 0.5070707070707071, 0.0, 0.125, 0.0, 0.8888888888888888, 0.2, 0.19999999999999998, 0.0, 0.0, 0.6666666666666666, 0.07500000000000001, 0.0, 0.0, 0.1, 0.75, 0.37777777777777777, 0.7678571428571428, 0.0, 0.0, 0.2, 0.5875, 0.2625, 0.0, 0.4, 0.4, 0.0, 0.3333333333333333, 0.75, 0.0, 0.5, 0.25, 0.5833333333333333, 0.3214285714285714, 0.0, 0.5, 0.0, 0.5, 0.5, 0.23333333333333334, 1.0, 0.0, 1.0, 0.0, 0.0, 0.5, 0.0, 0.5, 0.5, 0.5, 0.2692307692307692, 0.0, 0.0, 0.0, 0.0, 0.5, 0.0, 0.3, 1.0, 0.4, 0.0, 0.5, 0.9, 0.7, 0.575, 0.65, 0.4147727272727273, 0.0, 0.0, 0.8, 0.0, 0.0, 0.5454545454545454, 0.375, 0.6022727272727273, 0.5, 0.0, 0.0, 0.4375, 0.3, 0.3666666666666667, 0.5, 0.0, 1.0, 0.5, 0.05, 0.45, 0.0, 0.0, 0.5694444444444444, 0.0, 0.45454545454545453, 0.0, 0.0, 1.0, 0.0, 0.0, 0.0, 0.23846153846153845, 0.5, 0.9750000000000001, 0.45454545454545453, 0.0, 0.3, 0.375, 0.0, 0.0, 0.0, 0.6, 0.6, 0.0, 0.0, 0.5833333333333334, 0.0, 0.0, 0.5083333333333333, 0.5714285714285714, 0.4388888888888889, 0.24583333333333335, 0.2, 0.0, 0.42727272727272725, 0.5357142857142857, 0.0, 0.6, 0.775, 0.6, 0.0, 0.5, 0.0, 0.5625, 0.55, 0.55, 0.5166666666666666, 0.43333333333333335, 0.0, 0.575, 0.3522727272727273, 1.0, 1.0, 0.0, 0.075, 0.0, 0.5151515151515151, 0.7, 0.30000000000000004, 0.0, 0.55, 0.5, 0.0, 0.0, 0.0, 0.5, 0.45454545454545453, 0.375, 0.45, 0.25, 0.06666666666666667, 0.0, 0.5803030303030303, 0.22727272727272727, 0.4, 0.3181818181818182, 0.375, 0.45454545454545453, 0.0, 0.0, 0.0, 0.9, 0.45454545454545453, 0.4222222222222222, 0.9, 0.0, 0.6666666666666666, 0.0, 0.375, 0.06666666666666667, 0.5666666666666667, 0.0, 0.6333333333333333, 0.675, 0.0, 0.0, 0.0, 0.225, 0.45, 0.35714285714285715, 0.25, 0.42727272727272725, 0.0, 0.6, 0.2375, 0.0, 0.5, 0.1, 0.0, 0.65, 0.0, 0.5454545454545454, 0.5, 0.0, 0.0, 1.0, 0.4, 0.0, 0.334054834054834, 0.0, 0.41666666666666663, 0.0, 1.0, 0.1, 0.45454545454545453, 0.6096296296296296, 0.5833333333333334, 0.0, 0.0, 0.0, 1.0, 0.3972222222222222, 0.6, 1.0, 0.0, 0.0, 0.5, 0.5, 0.0, 1.0, 0.0, 0.0, 0.0, 0.2606060606060606, 0.0, 0.6666666666666666, 0.0, 0.5499999999999999, 0.5, 0.0, 0.6, 0.0, 0.22727272727272727, 0.0, 0.6083333333333334, 0.1, 0.0, 0.25, 0.0, 0.0, 0.2833333333333333, 0.45454545454545453, 0.8, 0.525, 0.0, 0.4, 0.3, 0.0, 0.0, 0.44999999999999996, 0.425, 0.45000000000000007, 0.0, 0.0, 0.375, 0.06666666666666667, 0.0, 0.3, 0.3125, 1.0, 0.2, 0.0, 1.0, 0.0, 0.1, 0.43333333333333335, 0.0, 0.05, 0.0, 0.34848484848484845, 0.3333333333333333, 0.0, 0.0, 0.5, 0.65, 0.45625000000000004, 0.55, 0.6, 0.1, 0.8571428571428571, 0.4772727272727273, 0.3333333333333333, 0.7, 0.1, 0.45454545454545453, 0.0, 0.0, 0.6309523809523809, 0.0, 0.0, 1.0, 0.0, 0.0, 0.0, 0.4772727272727273, 0.3, 0.06666666666666667, 0.375, 0.7, 0.75, 0.5416666666666666, 0.0, 0.625, 0.0, 0.3, 0.7000000000000001, 0.0, 0.5511363636363636, 0.5, 0.0, 0.5833333333333334, 0.0625, 1.0, 0.0, 0.4, 0.4, 0.8, 0.6, 0.0, 0.0, 0.0, 0.0, 0.0, 0.0, 0.7, 0.8888888888888888, 0.1, 0.775, 0.5357142857142857, 0.0, 0.0, 0.3319444444444445, 0.0, 0.0, 0.575, 0.5, 0.0, 0.0, 0.4570707070707071, 0.512962962962963, 0.2, 0.6022727272727273, 0.0, 0.0, 0.0, 0.4625, 0.825, 0.4, 0.4, 0.0, 0.72, 0.5, 0.1, 1.0, 0.0, 0.49111111111111105, 0.125, 0.45454545454545453, 0.48484848484848486, 0.8333333333333334, 0.0], \"sizemode\": \"area\", \"sizeref\": 0.0025}, \"mode\": \"markers\", \"name\": \"\", \"showlegend\": false, \"subplot\": \"mapbox\", \"type\": \"scattermapbox\"}],\n",
       "                        {\"coloraxis\": {\"colorbar\": {\"title\": {\"text\": \"polarity\"}}, \"colorscale\": [[0.0, \"#0d0887\"], [0.1111111111111111, \"#46039f\"], [0.2222222222222222, \"#7201a8\"], [0.3333333333333333, \"#9c179e\"], [0.4444444444444444, \"#bd3786\"], [0.5555555555555556, \"#d8576b\"], [0.6666666666666666, \"#ed7953\"], [0.7777777777777778, \"#fb9f3a\"], [0.8888888888888888, \"#fdca26\"], [1.0, \"#f0f921\"]]}, \"height\": 600, \"legend\": {\"itemsizing\": \"constant\", \"tracegroupgap\": 0}, \"mapbox\": {\"center\": {\"lat\": 40, \"lon\": -100}, \"domain\": {\"x\": [0.0, 1.0], \"y\": [0.0, 1.0]}, \"style\": \"carto-positron\", \"zoom\": 4}, \"margin\": {\"b\": 0, \"l\": 0, \"r\": 0, \"t\": 30}, \"template\": {\"data\": {\"bar\": [{\"error_x\": {\"color\": \"#2a3f5f\"}, \"error_y\": {\"color\": \"#2a3f5f\"}, \"marker\": {\"line\": {\"color\": \"#E5ECF6\", \"width\": 0.5}}, \"type\": \"bar\"}], \"barpolar\": [{\"marker\": {\"line\": {\"color\": \"#E5ECF6\", \"width\": 0.5}}, \"type\": \"barpolar\"}], \"carpet\": [{\"aaxis\": {\"endlinecolor\": \"#2a3f5f\", \"gridcolor\": \"white\", \"linecolor\": \"white\", \"minorgridcolor\": \"white\", \"startlinecolor\": \"#2a3f5f\"}, \"baxis\": {\"endlinecolor\": \"#2a3f5f\", \"gridcolor\": \"white\", \"linecolor\": \"white\", \"minorgridcolor\": \"white\", \"startlinecolor\": \"#2a3f5f\"}, \"type\": \"carpet\"}], \"choropleth\": [{\"colorbar\": {\"outlinewidth\": 0, \"ticks\": \"\"}, \"type\": \"choropleth\"}], \"contour\": [{\"colorbar\": {\"outlinewidth\": 0, \"ticks\": \"\"}, \"colorscale\": [[0.0, \"#0d0887\"], [0.1111111111111111, \"#46039f\"], [0.2222222222222222, \"#7201a8\"], [0.3333333333333333, \"#9c179e\"], [0.4444444444444444, \"#bd3786\"], [0.5555555555555556, \"#d8576b\"], [0.6666666666666666, \"#ed7953\"], [0.7777777777777778, \"#fb9f3a\"], [0.8888888888888888, \"#fdca26\"], [1.0, \"#f0f921\"]], \"type\": \"contour\"}], \"contourcarpet\": [{\"colorbar\": {\"outlinewidth\": 0, \"ticks\": \"\"}, \"type\": \"contourcarpet\"}], \"heatmap\": [{\"colorbar\": {\"outlinewidth\": 0, \"ticks\": \"\"}, \"colorscale\": [[0.0, \"#0d0887\"], [0.1111111111111111, \"#46039f\"], [0.2222222222222222, \"#7201a8\"], [0.3333333333333333, \"#9c179e\"], [0.4444444444444444, \"#bd3786\"], [0.5555555555555556, \"#d8576b\"], [0.6666666666666666, \"#ed7953\"], [0.7777777777777778, \"#fb9f3a\"], [0.8888888888888888, \"#fdca26\"], [1.0, \"#f0f921\"]], \"type\": \"heatmap\"}], \"heatmapgl\": [{\"colorbar\": {\"outlinewidth\": 0, \"ticks\": \"\"}, \"colorscale\": [[0.0, \"#0d0887\"], [0.1111111111111111, \"#46039f\"], [0.2222222222222222, \"#7201a8\"], [0.3333333333333333, \"#9c179e\"], [0.4444444444444444, \"#bd3786\"], [0.5555555555555556, \"#d8576b\"], [0.6666666666666666, \"#ed7953\"], [0.7777777777777778, \"#fb9f3a\"], [0.8888888888888888, \"#fdca26\"], [1.0, \"#f0f921\"]], \"type\": \"heatmapgl\"}], \"histogram\": [{\"marker\": {\"colorbar\": {\"outlinewidth\": 0, \"ticks\": \"\"}}, \"type\": \"histogram\"}], \"histogram2d\": [{\"colorbar\": {\"outlinewidth\": 0, \"ticks\": \"\"}, \"colorscale\": [[0.0, \"#0d0887\"], [0.1111111111111111, \"#46039f\"], [0.2222222222222222, \"#7201a8\"], [0.3333333333333333, \"#9c179e\"], [0.4444444444444444, \"#bd3786\"], [0.5555555555555556, \"#d8576b\"], [0.6666666666666666, \"#ed7953\"], [0.7777777777777778, \"#fb9f3a\"], [0.8888888888888888, \"#fdca26\"], [1.0, \"#f0f921\"]], \"type\": \"histogram2d\"}], \"histogram2dcontour\": [{\"colorbar\": {\"outlinewidth\": 0, \"ticks\": \"\"}, \"colorscale\": [[0.0, \"#0d0887\"], [0.1111111111111111, \"#46039f\"], [0.2222222222222222, \"#7201a8\"], [0.3333333333333333, \"#9c179e\"], [0.4444444444444444, \"#bd3786\"], [0.5555555555555556, \"#d8576b\"], [0.6666666666666666, \"#ed7953\"], [0.7777777777777778, \"#fb9f3a\"], [0.8888888888888888, \"#fdca26\"], [1.0, \"#f0f921\"]], \"type\": \"histogram2dcontour\"}], \"mesh3d\": [{\"colorbar\": {\"outlinewidth\": 0, \"ticks\": \"\"}, \"type\": \"mesh3d\"}], \"parcoords\": [{\"line\": {\"colorbar\": {\"outlinewidth\": 0, \"ticks\": \"\"}}, \"type\": \"parcoords\"}], \"pie\": [{\"automargin\": true, \"type\": \"pie\"}], \"scatter\": [{\"marker\": {\"colorbar\": {\"outlinewidth\": 0, \"ticks\": \"\"}}, \"type\": \"scatter\"}], \"scatter3d\": [{\"line\": {\"colorbar\": {\"outlinewidth\": 0, \"ticks\": \"\"}}, \"marker\": {\"colorbar\": {\"outlinewidth\": 0, \"ticks\": \"\"}}, \"type\": \"scatter3d\"}], \"scattercarpet\": [{\"marker\": {\"colorbar\": {\"outlinewidth\": 0, \"ticks\": \"\"}}, \"type\": \"scattercarpet\"}], \"scattergeo\": [{\"marker\": {\"colorbar\": {\"outlinewidth\": 0, \"ticks\": \"\"}}, \"type\": \"scattergeo\"}], \"scattergl\": [{\"marker\": {\"colorbar\": {\"outlinewidth\": 0, \"ticks\": \"\"}}, \"type\": \"scattergl\"}], \"scattermapbox\": [{\"marker\": {\"colorbar\": {\"outlinewidth\": 0, \"ticks\": \"\"}}, \"type\": \"scattermapbox\"}], \"scatterpolar\": [{\"marker\": {\"colorbar\": {\"outlinewidth\": 0, \"ticks\": \"\"}}, \"type\": \"scatterpolar\"}], \"scatterpolargl\": [{\"marker\": {\"colorbar\": {\"outlinewidth\": 0, \"ticks\": \"\"}}, \"type\": \"scatterpolargl\"}], \"scatterternary\": [{\"marker\": {\"colorbar\": {\"outlinewidth\": 0, \"ticks\": \"\"}}, \"type\": \"scatterternary\"}], \"surface\": [{\"colorbar\": {\"outlinewidth\": 0, \"ticks\": \"\"}, \"colorscale\": [[0.0, \"#0d0887\"], [0.1111111111111111, \"#46039f\"], [0.2222222222222222, \"#7201a8\"], [0.3333333333333333, \"#9c179e\"], [0.4444444444444444, \"#bd3786\"], [0.5555555555555556, \"#d8576b\"], [0.6666666666666666, \"#ed7953\"], [0.7777777777777778, \"#fb9f3a\"], [0.8888888888888888, \"#fdca26\"], [1.0, \"#f0f921\"]], \"type\": \"surface\"}], \"table\": [{\"cells\": {\"fill\": {\"color\": \"#EBF0F8\"}, \"line\": {\"color\": \"white\"}}, \"header\": {\"fill\": {\"color\": \"#C8D4E3\"}, \"line\": {\"color\": \"white\"}}, \"type\": \"table\"}]}, \"layout\": {\"annotationdefaults\": {\"arrowcolor\": \"#2a3f5f\", \"arrowhead\": 0, \"arrowwidth\": 1}, \"coloraxis\": {\"colorbar\": {\"outlinewidth\": 0, \"ticks\": \"\"}}, \"colorscale\": {\"diverging\": [[0, \"#8e0152\"], [0.1, \"#c51b7d\"], [0.2, \"#de77ae\"], [0.3, \"#f1b6da\"], [0.4, \"#fde0ef\"], [0.5, \"#f7f7f7\"], [0.6, \"#e6f5d0\"], [0.7, \"#b8e186\"], [0.8, \"#7fbc41\"], [0.9, \"#4d9221\"], [1, \"#276419\"]], \"sequential\": [[0.0, \"#0d0887\"], [0.1111111111111111, \"#46039f\"], [0.2222222222222222, \"#7201a8\"], [0.3333333333333333, \"#9c179e\"], [0.4444444444444444, \"#bd3786\"], [0.5555555555555556, \"#d8576b\"], [0.6666666666666666, \"#ed7953\"], [0.7777777777777778, \"#fb9f3a\"], [0.8888888888888888, \"#fdca26\"], [1.0, \"#f0f921\"]], \"sequentialminus\": [[0.0, \"#0d0887\"], [0.1111111111111111, \"#46039f\"], [0.2222222222222222, \"#7201a8\"], [0.3333333333333333, \"#9c179e\"], [0.4444444444444444, \"#bd3786\"], [0.5555555555555556, \"#d8576b\"], [0.6666666666666666, \"#ed7953\"], [0.7777777777777778, \"#fb9f3a\"], [0.8888888888888888, \"#fdca26\"], [1.0, \"#f0f921\"]]}, \"colorway\": [\"#636efa\", \"#EF553B\", \"#00cc96\", \"#ab63fa\", \"#FFA15A\", \"#19d3f3\", \"#FF6692\", \"#B6E880\", \"#FF97FF\", \"#FECB52\"], \"font\": {\"color\": \"#2a3f5f\"}, \"geo\": {\"bgcolor\": \"white\", \"lakecolor\": \"white\", \"landcolor\": \"#E5ECF6\", \"showlakes\": true, \"showland\": true, \"subunitcolor\": \"white\"}, \"hoverlabel\": {\"align\": \"left\"}, \"hovermode\": \"closest\", \"mapbox\": {\"style\": \"light\"}, \"paper_bgcolor\": \"white\", \"plot_bgcolor\": \"#E5ECF6\", \"polar\": {\"angularaxis\": {\"gridcolor\": \"white\", \"linecolor\": \"white\", \"ticks\": \"\"}, \"bgcolor\": \"#E5ECF6\", \"radialaxis\": {\"gridcolor\": \"white\", \"linecolor\": \"white\", \"ticks\": \"\"}}, \"scene\": {\"xaxis\": {\"backgroundcolor\": \"#E5ECF6\", \"gridcolor\": \"white\", \"gridwidth\": 2, \"linecolor\": \"white\", \"showbackground\": true, \"ticks\": \"\", \"zerolinecolor\": \"white\"}, \"yaxis\": {\"backgroundcolor\": \"#E5ECF6\", \"gridcolor\": \"white\", \"gridwidth\": 2, \"linecolor\": \"white\", \"showbackground\": true, \"ticks\": \"\", \"zerolinecolor\": \"white\"}, \"zaxis\": {\"backgroundcolor\": \"#E5ECF6\", \"gridcolor\": \"white\", \"gridwidth\": 2, \"linecolor\": \"white\", \"showbackground\": true, \"ticks\": \"\", \"zerolinecolor\": \"white\"}}, \"shapedefaults\": {\"line\": {\"color\": \"#2a3f5f\"}}, \"ternary\": {\"aaxis\": {\"gridcolor\": \"white\", \"linecolor\": \"white\", \"ticks\": \"\"}, \"baxis\": {\"gridcolor\": \"white\", \"linecolor\": \"white\", \"ticks\": \"\"}, \"bgcolor\": \"#E5ECF6\", \"caxis\": {\"gridcolor\": \"white\", \"linecolor\": \"white\", \"ticks\": \"\"}}, \"title\": {\"x\": 0.05}, \"xaxis\": {\"automargin\": true, \"gridcolor\": \"white\", \"linecolor\": \"white\", \"ticks\": \"\", \"title\": {\"standoff\": 15}, \"zerolinecolor\": \"white\", \"zerolinewidth\": 2}, \"yaxis\": {\"automargin\": true, \"gridcolor\": \"white\", \"linecolor\": \"white\", \"ticks\": \"\", \"title\": {\"standoff\": 15}, \"zerolinecolor\": \"white\", \"zerolinewidth\": 2}}}, \"title\": {\"text\": \"Geospatial visualization of polarity and subjectivity of tweets\"}},\n",
       "                        {\"responsive\": true}\n",
       "                    ).then(function(){\n",
       "                            \n",
       "var gd = document.getElementById('e8601a20-e4ef-4d45-95be-e6b759d59736');\n",
       "var x = new MutationObserver(function (mutations, observer) {{\n",
       "        var display = window.getComputedStyle(gd).display;\n",
       "        if (!display || display === 'none') {{\n",
       "            console.log([gd, 'removed!']);\n",
       "            Plotly.purge(gd);\n",
       "            observer.disconnect();\n",
       "        }}\n",
       "}});\n",
       "\n",
       "// Listen for the removal of the full notebook cells\n",
       "var notebookContainer = gd.closest('#notebook-container');\n",
       "if (notebookContainer) {{\n",
       "    x.observe(notebookContainer, {childList: true});\n",
       "}}\n",
       "\n",
       "// Listen for the clearing of the current output cell\n",
       "var outputEl = gd.closest('.output');\n",
       "if (outputEl) {{\n",
       "    x.observe(outputEl, {childList: true});\n",
       "}}\n",
       "\n",
       "                        })\n",
       "                };\n",
       "                });\n",
       "            </script>\n",
       "        </div>"
      ]
     },
     "metadata": {},
     "output_type": "display_data"
    }
   ],
   "source": [
    "import plotly.express as px\n",
    "# Create a scatter mapbox plot\n",
    "fig = px.scatter_mapbox(tweetsample, lat=\"Lat\", lon=\"Lon\", color=\"polarity\",\n",
    "                        size=\"subjectivity\", hover_name=\"text\",\n",
    "                        hover_data=[\"polarity\", \"subjectivity\"],\n",
    "                        mapbox_style=\"carto-positron\",\n",
    "                        center={\"lat\": 40, \"lon\": -100},\n",
    "                        zoom=4,\n",
    "                        opacity=0.7,\n",
    "                        height=600)\n",
    "\n",
    "# Update the layout\n",
    "fig.update_layout(title=\"Geospatial visualization of polarity and subjectivity of tweets\",\n",
    "                  margin={\"r\":0,\"t\":30,\"l\":0,\"b\":0})\n",
    "\n",
    "# Show the plot\n",
    "fig.show()"
   ]
  },
  {
   "cell_type": "markdown",
   "metadata": {},
   "source": [
    " # Task 2.5 Storify"
   ]
  },
  {
   "cell_type": "markdown",
   "metadata": {},
   "source": [
    "Based on the plot, we can see a geospatial visualization of the polarity and subjectivity of tweets from the sample data. The map shows the location of the tweets and the colors indicate the polarity of the tweet, with blue being more negative and red being more positive. The size of the marker indicates the subjectivity of the tweet, with larger markers indicating more subjective tweets.\n",
    "\n",
    "Looking at the map, we can see that the majority of tweets are from the United States and Western Europe. There are several clusters of negative tweets in the United States, particularly on the East Coast and in the Midwest. In contrast, there are several clusters of positive tweets in Western Europe, particularly in the United Kingdom,  France  and India.\n",
    "\n",
    "In United State its learly visibale that most of the public opinion about Covid-19 and its vaccine rollout appears to be diverse, with sentiments ranging from positive to negative and, in some cases, mixed feelings.\n",
    "\n",
    "Public opinion about Covid-19 and its vaccine rollout appears to be diverse, with sentiments ranging from positive to negative and, in some cases, mixed feelings. Generally, positive views tend to be more concentrated in areas where the vaccine rollout has been successful, such as North America, Western Europe, and some parts of Asia. These positive sentiments may be attributed to increased confidence in the vaccine's effectiveness and the gradual return to normalcy.\n",
    "\n",
    "On the other hand, negative views are more prominent in regions where the vaccine rollout has faced challenges, such as lower-income countries and areas with limited access to vaccines. In these locations, frustration and skepticism may stem from a lack of resources, vaccine hesitancy, or concerns about the vaccine's safety and efficacy. Additionally, some negative sentiments might arise from the continuous impact of the pandemic on daily lives, economic hardships, and the prolonged duration of strict public health measures.\n",
    "\n",
    "While analyzing the geospatial data, it was observed that some tweets originated from outside the Unite State. These opinions, although valuable for a global overview, may not directly affect the Unite State government's policies. However, they can serve as an insight into the international sentiment, which can be useful for understanding global trends and potential challenges that may arise in the future.\n",
    "\n",
    "The messages in the analyzed tweets vary in terms of clarity and intensity. Some tweets provide a clear and strong opinion about the situation, while others express more nuanced views or mixed feelings. As a policy advisor, I would recommend taking these tweets as a snapshot of public sentiment rather than as definitive statements about the overall public opinion. It is essential to consider other sources of information and to engage with the public through various channels to obtain a more accurate and comprehensive understanding of the situation."
   ]
  },
  {
   "cell_type": "code",
   "execution_count": null,
   "metadata": {},
   "outputs": [],
   "source": []
  }
 ],
 "metadata": {
  "kernelspec": {
   "display_name": "Python 3",
   "language": "python",
   "name": "python3"
  },
  "language_info": {
   "codemirror_mode": {
    "name": "ipython",
    "version": 3
   },
   "file_extension": ".py",
   "mimetype": "text/x-python",
   "name": "python",
   "nbconvert_exporter": "python",
   "pygments_lexer": "ipython3",
   "version": "3.7.4"
  }
 },
 "nbformat": 4,
 "nbformat_minor": 4
}
